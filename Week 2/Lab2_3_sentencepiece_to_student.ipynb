{
  "cells": [
    {
      "cell_type": "markdown",
      "metadata": {
        "id": "view-in-github",
        "colab_type": "text"
      },
      "source": [
        "<a href=\"https://colab.research.google.com/github/Thiraput01/NLP-sys/blob/main/Week%202/Lab2_3_sentencepiece_to_student.ipynb\" target=\"_parent\"><img src=\"https://colab.research.google.com/assets/colab-badge.svg\" alt=\"Open In Colab\"/></a>"
      ]
    },
    {
      "cell_type": "markdown",
      "metadata": {
        "id": "iU5fRQwhEdJy"
      },
      "source": [
        "# Subword Tokenization\n",
        "\n",
        "In this exercise, we will learn how to train our own subword tokenizers with different algorithms: BPE and Unigram. We will use `sentencepiece`, a library from Google to help create our tokenizers.\n",
        "\n",
        "## Ref:\n",
        "https://github.com/google/sentencepiece/blob/master/python"
      ]
    },
    {
      "cell_type": "markdown",
      "metadata": {
        "id": "pI9gRZlUE80g"
      },
      "source": [
        "## Setup"
      ]
    },
    {
      "cell_type": "code",
      "execution_count": null,
      "metadata": {
        "id": "1pOsV-jaW975",
        "colab": {
          "base_uri": "https://localhost:8080/"
        },
        "outputId": "5e17f78d-c305-46d0-c1d0-40af0f67858a"
      },
      "outputs": [
        {
          "output_type": "stream",
          "name": "stdout",
          "text": [
            "--2025-01-15 04:44:28--  https://github.com/Knight-H/thai-lm/raw/refs/heads/master/data/pra-apai-manee-ch1-50.txt\n",
            "Resolving github.com (github.com)... 140.82.114.3\n",
            "Connecting to github.com (github.com)|140.82.114.3|:443... connected.\n",
            "HTTP request sent, awaiting response... 302 Found\n",
            "Location: https://raw.githubusercontent.com/Knight-H/thai-lm/refs/heads/master/data/pra-apai-manee-ch1-50.txt [following]\n",
            "--2025-01-15 04:44:29--  https://raw.githubusercontent.com/Knight-H/thai-lm/refs/heads/master/data/pra-apai-manee-ch1-50.txt\n",
            "Resolving raw.githubusercontent.com (raw.githubusercontent.com)... 185.199.108.133, 185.199.109.133, 185.199.110.133, ...\n",
            "Connecting to raw.githubusercontent.com (raw.githubusercontent.com)|185.199.108.133|:443... connected.\n",
            "HTTP request sent, awaiting response... 200 OK\n",
            "Length: 3231076 (3.1M) [application/octet-stream]\n",
            "Saving to: ‘pra-apai-manee-ch1-50.txt’\n",
            "\n",
            "pra-apai-manee-ch1- 100%[===================>]   3.08M  --.-KB/s    in 0.06s   \n",
            "\n",
            "2025-01-15 04:44:29 (53.9 MB/s) - ‘pra-apai-manee-ch1-50.txt’ saved [3231076/3231076]\n",
            "\n",
            "--2025-01-15 04:44:29--  https://github.com/Knight-H/thai-lm/raw/refs/heads/master/data/kratoo-40000000-40002000.jsonl\n",
            "Resolving github.com (github.com)... 140.82.112.4\n",
            "Connecting to github.com (github.com)|140.82.112.4|:443... connected.\n",
            "HTTP request sent, awaiting response... 302 Found\n",
            "Location: https://raw.githubusercontent.com/Knight-H/thai-lm/refs/heads/master/data/kratoo-40000000-40002000.jsonl [following]\n",
            "--2025-01-15 04:44:30--  https://raw.githubusercontent.com/Knight-H/thai-lm/refs/heads/master/data/kratoo-40000000-40002000.jsonl\n",
            "Resolving raw.githubusercontent.com (raw.githubusercontent.com)... 185.199.108.133, 185.199.109.133, 185.199.110.133, ...\n",
            "Connecting to raw.githubusercontent.com (raw.githubusercontent.com)|185.199.108.133|:443... connected.\n",
            "HTTP request sent, awaiting response... 200 OK\n",
            "Length: 2968483 (2.8M) [text/plain]\n",
            "Saving to: ‘kratoo-40000000-40002000.jsonl’\n",
            "\n",
            "kratoo-40000000-400 100%[===================>]   2.83M  --.-KB/s    in 0.06s   \n",
            "\n",
            "2025-01-15 04:44:30 (50.1 MB/s) - ‘kratoo-40000000-40002000.jsonl’ saved [2968483/2968483]\n",
            "\n"
          ]
        }
      ],
      "source": [
        "!wget https://github.com/Knight-H/thai-lm/raw/refs/heads/master/data/pra-apai-manee-ch1-50.txt\n",
        "!wget https://github.com/Knight-H/thai-lm/raw/refs/heads/master/data/kratoo-40000000-40002000.jsonl"
      ]
    },
    {
      "cell_type": "markdown",
      "metadata": {
        "id": "CSiDpG9WE-cT"
      },
      "source": [
        "## Code"
      ]
    },
    {
      "cell_type": "code",
      "execution_count": null,
      "metadata": {
        "id": "OQd7M6gLWPLN"
      },
      "outputs": [],
      "source": [
        "import sentencepiece as spm\n",
        "import io\n",
        "import json"
      ]
    },
    {
      "cell_type": "markdown",
      "metadata": {
        "id": "OifbmMIstzs8"
      },
      "source": [
        "Load data"
      ]
    },
    {
      "cell_type": "code",
      "execution_count": null,
      "metadata": {
        "id": "-FnIDvb1lMuh",
        "colab": {
          "base_uri": "https://localhost:8080/"
        },
        "outputId": "49fe0c2d-8705-40cd-945c-d5c984c6eb7d"
      },
      "outputs": [
        {
          "output_type": "execute_result",
          "data": {
            "text/plain": [
              "1060318"
            ]
          },
          "metadata": {},
          "execution_count": 69
        }
      ],
      "source": [
        "pantip_text = []\n",
        "with open('kratoo-40000000-40002000.jsonl', 'r') as json_file:\n",
        "    json_list = list(json_file)\n",
        "    for json_str in json_list:\n",
        "        result = json.loads(json_str)\n",
        "        pantip_text.append(f\"{result['title']}\\n{result['content']}\\n\")\n",
        "sum([len(t) for t in pantip_text])"
      ]
    },
    {
      "cell_type": "code",
      "execution_count": null,
      "metadata": {
        "id": "yaaQVXZ8A0j1"
      },
      "outputs": [],
      "source": [
        "with open(\"pra-apai-manee-ch1-50.txt\") as f:\n",
        "  pra_apai_manee_data = f.readlines()"
      ]
    },
    {
      "cell_type": "code",
      "execution_count": null,
      "metadata": {
        "id": "LksJKc9MA5F_",
        "colab": {
          "base_uri": "https://localhost:8080/"
        },
        "outputId": "0495a6a7-0eee-4111-d4be-f796ca093e1e"
      },
      "outputs": [
        {
          "output_type": "execute_result",
          "data": {
            "text/plain": [
              "1100605"
            ]
          },
          "metadata": {},
          "execution_count": 71
        }
      ],
      "source": [
        "sum([len(t) for t in pra_apai_manee_data])"
      ]
    },
    {
      "cell_type": "code",
      "execution_count": null,
      "metadata": {
        "id": "RbdfkF-vAoie"
      },
      "outputs": [],
      "source": [
        "pantip_train_text = pantip_text[:int(len(pantip_text)*0.8)]\n",
        "pantip_test_text = pantip_text[int(len(pantip_text)*0.8):]\n",
        "\n",
        "pam_train_text = pra_apai_manee_data[:int(len(pra_apai_manee_data)*0.8)] #pam = pra_apai_manee\n",
        "pam_test_text = pra_apai_manee_data[int(len(pra_apai_manee_data)*0.8):]"
      ]
    },
    {
      "cell_type": "markdown",
      "metadata": {
        "id": "BhwcH0Aot1XI"
      },
      "source": [
        "## Run tokenizer training\n",
        "\n",
        "The Python wrapper provides multiple APIs for training our tokenizers\n",
        "\n",
        "1. `spm.SentencePieceTrainer.train(input='input.txt', model_prefix='m', vocab_size=vocab_size, model_type=model_type)`\n",
        "  <br> This will output the tokenizer files `m.model` and `m.vocab` that can be later loaded into `SentencePieceProcessor`.\n",
        "  <br><br>\n",
        "2. `spm.SentencePieceTrainer.train(sentence_iterator=iterator, model_writer=obj_with_write_method, vocab_size=vocab_size, model_type=model_type)`\n",
        "  <br> This method will require a file object e.g. `obj_with_write_method = io.BytesIO()`. The advantage of this method is you can run sentencepiece on environments that have limited access to the local file system. But you will still have to save the model file if you want to re-use the model else you will have to train it again.\n",
        "<br><br>\n",
        "3.  `spm.SentencePieceTrainer.train('--input=input.txt --model_prefix=m --vocab_size=vocab_size --model_type=model_type')`\n",
        "<br> Same as no.1\n",
        "\n",
        "\n"
      ]
    },
    {
      "cell_type": "markdown",
      "metadata": {
        "id": "c3XeFFYw-T_0"
      },
      "source": [
        "### Unigram tokenizer\n",
        "\n",
        "We are going to start with training a unigram tokenizer. You can use any method of training one. Make sure to set vocab_size to 1000."
      ]
    },
    {
      "cell_type": "code",
      "source": [
        "import tempfile\n",
        "\n",
        "pantip_train_text_str = \"\\n\".join(pantip_train_text)\n",
        "\n",
        "with tempfile.NamedTemporaryFile(delete=False, mode='w', encoding='utf-8') as temp_file:\n",
        "    temp_file.write(pantip_train_text_str)\n",
        "    temp_file.close()\n",
        "    pantip_train_file = temp_file.name\n",
        "\n",
        "pam_train_text_str = \"\\n\".join(pam_train_text)\n",
        "\n",
        "with tempfile.NamedTemporaryFile(delete=False, mode='w', encoding='utf-8') as temp_file:\n",
        "    temp_file.write(pam_train_text_str)\n",
        "    temp_file.close()\n",
        "    pam_train_file = temp_file.name"
      ],
      "metadata": {
        "id": "f3FyPKX-Y2lf"
      },
      "execution_count": null,
      "outputs": []
    },
    {
      "cell_type": "code",
      "execution_count": null,
      "metadata": {
        "id": "bFCfHphd15g9"
      },
      "outputs": [],
      "source": [
        "## Train\n",
        "spm.SentencePieceTrainer.train(input=pam_train_file, model_prefix='model_unigram_pam', vocab_size=1000, model_type='unigram')"
      ]
    },
    {
      "cell_type": "markdown",
      "metadata": {
        "id": "gdXPaoW3_v2T"
      },
      "source": [
        "### Q1 MCV\n",
        "\n",
        "How many tokens did you get when tokenizing the following sentence with your unigram tokenizer: <br>\n",
        "'อรุณสวัสดิ์ ฉันเอามเหสีมาหาม สวัสดี ประเทศไทยสบายดีไหม'"
      ]
    },
    {
      "cell_type": "code",
      "source": [
        "sp_pam = spm.SentencePieceProcessor(model_file='/content/model_unigram_pam.model')"
      ],
      "metadata": {
        "id": "2aen7VoSVRff"
      },
      "execution_count": null,
      "outputs": []
    },
    {
      "cell_type": "code",
      "execution_count": null,
      "metadata": {
        "id": "J1bO3s-z-PLb",
        "colab": {
          "base_uri": "https://localhost:8080/"
        },
        "outputId": "4edf177f-1fbe-45c4-c5ae-0af9f6c3d9e9"
      },
      "outputs": [
        {
          "output_type": "execute_result",
          "data": {
            "text/plain": [
              "29"
            ]
          },
          "metadata": {},
          "execution_count": 77
        }
      ],
      "source": [
        "len(sp_pam.encode('อรุณสวัสดิ์ ฉันเอามเหสีมาหาม สวัสดี ประเทศไทยสบายดีไหม', out_type=str))"
      ]
    },
    {
      "cell_type": "markdown",
      "metadata": {
        "id": "tKkc1D-hAFxl"
      },
      "source": [
        "### BPE Tokenizer\n",
        "\n",
        "Now try training a BPE tokenizer."
      ]
    },
    {
      "cell_type": "code",
      "execution_count": null,
      "metadata": {
        "id": "AiXj57rh-PIv"
      },
      "outputs": [],
      "source": [
        "spm.SentencePieceTrainer.train(input=pantip_train_file, model_prefix='model_bpe_panthip', vocab_size=1000, model_type='bpe')\n",
        "spm.SentencePieceTrainer.train(input=pam_train_file, model_prefix='model_bpe_pam', vocab_size=1000, model_type='bpe')"
      ]
    },
    {
      "cell_type": "markdown",
      "metadata": {
        "id": "nrQwGmL5AMXc"
      },
      "source": [
        "### Q2 MCV\n",
        "\n",
        "How many tokens did you get when tokenizing the following sentence with your BPE tokenizer: <br>\n",
        "'อรุณสวัสดิ์ ฉันเอามเหสีมาหาม สวัสดี ประเทศไทยสบายดีไหม'"
      ]
    },
    {
      "cell_type": "code",
      "source": [
        "bpe = spm.SentencePieceProcessor(model_file='/content/model_bpe_pam.model')"
      ],
      "metadata": {
        "id": "eC6xhwGtYdYA"
      },
      "execution_count": null,
      "outputs": []
    },
    {
      "cell_type": "code",
      "execution_count": null,
      "metadata": {
        "id": "0AXuzyaN-PEr",
        "colab": {
          "base_uri": "https://localhost:8080/"
        },
        "outputId": "2ad65341-32af-47e8-dc28-a4518b87293e"
      },
      "outputs": [
        {
          "output_type": "execute_result",
          "data": {
            "text/plain": [
              "28"
            ]
          },
          "metadata": {},
          "execution_count": 80
        }
      ],
      "source": [
        "len(bpe.encode('อรุณสวัสดิ์ ฉันเอามเหสีมาหาม สวัสดี ประเทศไทยสบายดีไหม', out_type=str))"
      ]
    },
    {
      "cell_type": "markdown",
      "metadata": {
        "id": "rbb6C6-IS_Ly"
      },
      "source": [
        "These are some of your vocabs. Note that you will see \"▁\" (U+2581) in every type of tokenizer in SentencePiece since it makes it possible to perform detokenization \\(unsplit your sentences\\) without relying on language-specific resources."
      ]
    },
    {
      "cell_type": "code",
      "execution_count": null,
      "metadata": {
        "id": "Aa9j6XrTKjyA",
        "colab": {
          "base_uri": "https://localhost:8080/",
          "height": 157
        },
        "outputId": "f8ee7e66-1b45-4e21-b31f-8ce05f015418"
      },
      "outputs": [
        {
          "output_type": "execute_result",
          "data": {
            "text/plain": [
              "'<unk> | <s> | </s> | ▁ | า | เ | น | ม | ย | ก | ร | ว | ด | ส | ง | บ | ค | มา | อ | ล | จะ | ท | ให้ | ห | ไป | ไม่ | แ | ว่า | พ | ุ | ี | ๏ | ฯ | ข | ช | เป็น | พระ | โ | ที่ | ใจ | ▁จะ | จ | ะ | ิ | ต | ก็ | อยู่ | ป | ได้ | ่ | ไ | เข้า | ู | ▁พระ | ้า | ตาม | ใน | ้ | ▁แล้ว | เหมือน | รา | ศ | เจ้า | เห็น | ลา | กัน | ั | หา | นาง | ทรง | ประ | ์ | ยา | ัก | ํา | ซ | าน | ัง | ฉ | องค์ | ัด | แล้ว | อน | ดู | ถ | ด้วย | มี | ▁จึง | นี้ | ่า | ผ | น้อง | แต่ | ทํา | ▁นาง | ▁ให้ | รัก | พี่ | คิด | ลูก | พา | รู้ | การ | กับ | ัน | หน้า | กระ | วน | ออก | ่อ | เขา | ถึง | ระ | ข้า | ับ | พล | นั่ง | ทั้ง | หน | รับ | ษ | กล | วง | ลง | ฝ | กร | พร | ความ | เสีย | ดี | ขึ้น | อง | ่ง | ธ | ▁แต่ | คน | กลับ | ▁ฝ่าย | ้น | อด | ภ | หรือ | ตร | ือ | ฟัง | แม่ | ▁ไม่ | ไว้ | ยัง | ▁เห็น | นา | ขอ | มิ | น้ํา | หล | ดัง | ▁พอ | ▁ทั้ง | ช่วย | สม | นั้น | ริ | ทัพ | ต้อง | วัน | อา | น้อย | รบ | ิน | อย่า | เอา | จน | เรา | สุด | เสียง | ข้าง | หลัง | ตี | ตัว | ละ | สุ | วัง | ทุก | ่น | ึก | นึก | เฝ้า | นาย | ฝรั่ง | ทูล | เส | วิ | ปล | ▁ถึง | ตาย | ใคร | อก | อั | ตา | เรือ | จึง | แล | ี่ | ั่ง | แสน | สอง | ของ | ็ | ลี | ี้ | จิต | หมาย | ้ม | แจ้ง | ั่น | สั่ง | ราช | พิ | เห | หาย | ้อง | เมือง | เหลือ | กลาง | กษัตริย์ | ยิ่ง | ตรัส | ึง | เลย | เล่า | ทาง | ุด | ศรี | เคย | ไหน | สาม | หนี | ณ | มัน | ื้อ | ค่อย | ชาย | พราหมณ์ | ▁อย่า | ญ | ที | นิ | น่า | สิ้น | ฉัน | กาย | ลังกา | ▁ด้วย | คอย | บอก | สิ | ฟ | สงสาร | พ่อ | ยง | จริง | ชาว | ถาม | ไร | ทหาร | ตั้ง | ▁อัน | เที่ยว | ปร | ผู้ | พวก | สาร | ชม | ศึก | คํา | ▁เป็น | ทอง | อบ | ใหญ่ | ถือ | สาว | พระอภัย | จง | สา | จับ | ั้น | พลาง | ▁มา | ยก | ▁บ้าง | ไพร่ | ลม | ล้วน | ▁ต่าง | ร้อย | พบ | งาม | แกล้ง | อาย | จะได้ | เคียง | อย่าง | เครื่อง | กลัว | ลาย | จํา | ต่าง | สินสมุทร | ▁พวก | ม้า | ลํา | นี่ | ผา | แก้ว | เพราะ | ▁ครั้น | ▁จน | ▁แม้น | สาย | พัน | พระองค์ | พร้อม | วาย | ชิง | ห้อง | ร้อง | สู้ | ▁จง | ลิ | ราย | ล่อ | จาก | ้ว | ท่าน | รอง | เดิน | เรียก | ขัด | เหล่า | กุมาร | ผล | ป่า | ู่ | คู่ | รูป | กิน | พอ | ร่ํา | โฉม | ▁ถ้า | คง | ่าย | ใช้ | ตอบ | หลง | ไล่ | จัด | ดับ | ▁เมื่อ | บน | อ่อน | แสง | คืน | ใส่ | แค้น | รถ | ตรง | แต่ง | แน่ | เชิญ | ชื่น | ถวาย | โห | จร | มิได้ | นอน | ุก | ชวน | เมีย | อาลัย | ้อม | ลับ | ไหว | ▁แม้ | บิดา | หญิง | หลับ | ดอก | กล้า | ขาด | จัก | ไม่มี | บาท | เสนา | ย์ | ช่าง | โศก | วาง | ติด | เสร็จ | ร้อน | คุณ | ผัว | นัก | ความตาม | พักตร์ | หน่อ | ้อย | ▁ซึ่ง | ตะ | ห้าม | พราย | ฟ้า | ไฉน | ใ | ตก | เมื่อ | ยศ | ชล | ดํา | หนึ่ง | ผัน | ใด | สัก | ร้าย | วิ่ง | แก้ | ยาม | ศรีสุวรรณ | ปืน | ฆ่า | ขับ | ขวา | ไฟ | พูด | หมอง | ก็ไม่ | กําลัง | รักษา | เช่น | ุ่ม | ผี | หาญ | เล่น | เนื้อ | รีบ | ถูก | ชัย | บุตรี | ฟัน | บ้าง | เอ๋ย | สงสัย | ผิด | นิ่ง | ชื่อ | เถิด | ผ่อน | หลาน | สี่ | ชาติ | อี | ปาก | ช้า | ึ | แตก | ตรา | รณ | ลอง | ปี | หมอ | เจ้าพราหมณ์ | พี่เลี้ยง | ต่อ | พลอย | โฉมยง | เนตร | หัก | กอด | เชย | ทั้งสอง | ยิ้ม | ค่ํา | นอก | ขวัญ | ซ้ํา | อารมณ์ | ทุกข์ | แขก | เย็น | หนักหนา | ั้ง | ปิด | โปรด | ้ง | กําปั่น | เรียง | แรง | สิ่ง | เศร้า'"
            ],
            "application/vnd.google.colaboratory.intrinsic+json": {
              "type": "string"
            }
          },
          "metadata": {},
          "execution_count": 81
        }
      ],
      "source": [
        "unigram_vocabs = [sp_pam.id_to_piece(id) for id in range(sp_pam.get_piece_size())]\n",
        "\" | \".join(unigram_vocabs[:500])"
      ]
    },
    {
      "cell_type": "code",
      "execution_count": null,
      "metadata": {
        "id": "2TsXA0UqN5LN",
        "colab": {
          "base_uri": "https://localhost:8080/",
          "height": 139
        },
        "outputId": "fc932b28-82cf-4a38-f46a-1ef259efd0fc"
      },
      "outputs": [
        {
          "output_type": "execute_result",
          "data": {
            "text/plain": [
              "'<unk> | <s> | </s> | ้า | ่า | อง | ระ | ํา | รา | อย | ่ง | มา | จะ | ัง | ัน | ▁เ | าย | ้ว | ับ | ี่ | ม่ | อน | ให | าม | ้น | ็น | พระ | ีย | าง | กล | ้ง | ัก | หน | ให้ | ไม่ | หล | ่น | ึง | ▁แ | ทั | ตร | าร | ้อง | ไป | ิด | ข้า | ว่า | หม | คร | ือ | ล้ว | เป | เส | ประ | าน | ั่ง | ▁๏ | ▁ฯ | ที่ | อก | เล | ิน | ได | พล | ทร | ัด | นาง | ึก | ได้ | ู่ | ▁จะ | ค์ | ี้ | พร | เป็น | สุ | ทั้ง | อม | ัย | เร | ห็น | ▁จ | ▁พระ | ก็ | ใจ | อา | ื่ | ่าง | ต่ | กร | ิง | วง | วน | ือน | เจ | ู้ | ียง | อยู่ | รร | ตาม | ▁พ | ้วย | าว | ถึง | คล | ั้น | รี | เข | ด้วย | สม | องค์ | สน | าก | ▁แล้ว | เช | ัว | ย์ | ใน | คว | น้ | หมือน | ▁ส | ูก | อบ | กระ | เจ้า | ทรง | ลา | กัน | มี | ่าย | พรา | ิ่ง | เข้า | เห็น | ิต | สง | อด | ณ์ | วย | ้ม | คิด | เม | เก | เด | ▁นาง | วา | ุก | ▁ให้ | ดู | หา | ▁อ | ▁จึง | ทํา | ลง | รัก | เค | แล้ว | ่าน | พี่ | เหมือน | ั่น | ความ | ยง | อย่า | หร | มิ | ืน | ช่ | การ | ัญ | ▁ไม่ | ฝ่าย | ศรี | ้าง | วก | ้อม | ือง | น้อง | ยว | พา | แก | กํา | ่อน | ื่น | หน้า | ยา | ดี | ั้ง | ▁ทั้ง | ปรา | คน | เน | หว | รับ | แต่ | ้าย | ัส | เหล | ดา | สํา | นี้ | สาร | กับ | ลูก | ละ | ▁ต | รู้ | ื่อ | ▁ฝ่าย | ึ่ง | ลัง | าด | ื้ | กา | ขึ | นั่ง | เท | ▁เห็น | ฟัง | ้อย | ไร | ขึ้น | เสีย | ▁แต่ | บุ | สา | ไว | ทุก | กลับ | สุด | ัต | ใคร | น้ํา | ชา | ุด | ทัพ | วัน | สอง | นา | หย | ตา | รบ | ▁มา | ่อ | หรือ | ทู | ยัง | รง | จร | ปร | ▁บ | ไว้ | ดัง | วิ | ช่วย | ปล | ออก | ัตร | เพ | สิ | แจ | แล | ็จ | ิย์ | ▁พอ | มาร | ค่ | วรร | หมณ์ | คํา | เขา | นั้น | กษ | เย | ข้าง | หมา | เว | ไพร | หลัง | จิต | พราหมณ์ | ้ํา | ▁ถึง | ขอ | ทูล | สาม | ื้อ | วาย | อภ | ทาง | ▁แม | วัง | โฉ | ่ม | จน | ▁เป | ัตริย์ | ื่อง | สั่ง | แม่ | ▁ช | ฝ้า | โฉม | ราช | ฝร | ▁ถ | ฝรั่ง | ิ์ | ลม | แต | ▁เป็น | หาร | ื้น | เห | ้อน | ตาย | ุ่ง | ตัว | อย่าง | ลี | ผู้ | น้อย | ฉัน | ตรี | กุ | ษา | ุทร | ถาม | ของ | พร้อม | ชี | สร | เอ | ุง | พลาง | ตี | สมุทร | หาย | ที | วรรณ | เลี้ | นึก | จึง | หมาย | ▁ด้วย | ขว | ียน | ศึก | ่อง | ต้อง | ลัย | บา | พิ | อุ | สุวรรณ | โย | เรา | กลาง | เฝ้า | กษัตริย์ | สะ | แท | สัย | แจ้ง | หญ | ▁อย่า | รํา | ตรัส | อภัย | ผล | เลย | ียว | ไหน | ้าว | แน | ิดา | ริ | สาว | ิ้ม | เมือง | เล่า | ขัด | ค่อย | ภา | โอ | ่ํา | มัน | ชม | ห์ | ชาย | ัล | นาย | ▁เจ | เสียง | ยิ่ง | รู | ๋ย | เปล | เอา | ▁เส | คง | ตรา | ห้า | ินสมุทร | คอย | หญิง | หนี | ้าน | ญา | คุ | บรร | ▁ประ | กาย | ทหาร | ▁อัน | สิ้น | ทธ | ทอง | ักษ | ลังกา | นิ | พู | ศ์ | ่ว | จา | ใหญ | ที่ยว | มน | ไล | จริง | ▁เจ้า | จํา | ▁บ้าง | บอก | ▁ต่าง | ติ | ▁เข้า | ไม | ศร | อั | เคย | เลี้ยง | กรา | แสน | ▁จน | จับ | พบ | ครั้น | จง | พวก | สี | ไข | ษฐ | เกล | คา | รม | พัก | พัน | ซึ่ง | หนัก | นี | ่าว | กรุง | กล้ง | ▁เหมือน | ครา | เคร | ท้าว | ใส | ▁พวก | ตั้ง | หลง | ล้วน | ▁ไป | ผี | ลํา | นัก | ร้อง | ▁จง | ทรา | หนา | ▁ก็ | กลัว | ▁ที่ | เคียง | อาย | เรือ | ▁แม้น | เต | แค | ยก | พราะ | ใหญ่ | ▁ครั้น | ▁น | แก้ว | ถือ | ▁ได้ | เหลือ'"
            ],
            "application/vnd.google.colaboratory.intrinsic+json": {
              "type": "string"
            }
          },
          "metadata": {},
          "execution_count": 82
        }
      ],
      "source": [
        "bpe_vocabs = [bpe.id_to_piece(id) for id in range(bpe.get_piece_size())]\n",
        "\" | \".join(bpe_vocabs[:500])"
      ]
    },
    {
      "cell_type": "markdown",
      "metadata": {
        "id": "eu6QnnRfQyFj"
      },
      "source": [
        "### User-defined symbols\n",
        "\n",
        "Another important concept to know of is User-defined symbols. These special symbols are reserved for a special purpose \\(e.g.\\, the \\<MASK\\> token used in BERT) and will always be tokenized into one token.\n",
        "\n",
        "Refer to the documentation for ways to add these special tokens to your tokenizer.\n",
        "\n",
        "https://github.com/google/sentencepiece/blob/master/python"
      ]
    },
    {
      "cell_type": "markdown",
      "metadata": {
        "id": "QEFOj62ZEdzT"
      },
      "source": [
        "## Train another tokenizer on another domain\n",
        "\n",
        "Now try training another unigram tokenizer on `pantip_text` and we will use it to compare with the unigram tokenizer we trained earlier."
      ]
    },
    {
      "cell_type": "code",
      "execution_count": null,
      "metadata": {
        "id": "O7-QkA1eMZFf"
      },
      "outputs": [],
      "source": [
        "## Train\n",
        "spm.SentencePieceTrainer.train(input=pantip_train_file, model_prefix='model_unigram_panthip', vocab_size=1000, model_type='unigram')"
      ]
    },
    {
      "cell_type": "markdown",
      "metadata": {
        "id": "R5WOVMbONnYv"
      },
      "source": [
        "## Analyse top tokens on different datasets\n",
        "\n",
        "Use your tokenizers to tokenize the datasets and analyse your most common vocabularies (try 300-400 vocabs with len>1). Hint: tokenize your data and count the tokens."
      ]
    },
    {
      "cell_type": "code",
      "execution_count": null,
      "metadata": {
        "id": "wbfkGcsUrPYS"
      },
      "outputs": [],
      "source": [
        "from collections import Counter\n",
        "def tokenize_and_filter(sp, dataset):\n",
        "    all_tokens = []\n",
        "    for sentence in dataset:\n",
        "        tokens = sp.encode(sentence, out_type=str)\n",
        "        all_tokens.extend(tokens)\n",
        "    return all_tokens\n",
        "\n",
        "sp_pam = spm.SentencePieceProcessor(model_file='/content/model_unigram_pam.model')\n",
        "sp_pantip = spm.SentencePieceProcessor(model_file='/content/model_unigram_panthip.model')\n",
        "\n",
        "pam_tokens = tokenize_and_filter(sp_pam, pam_train_text)\n",
        "pantip_tokens = tokenize_and_filter(sp_pantip, pantip_train_text)\n",
        "\n",
        "pantip_token_counts = Counter(pantip_tokens)\n",
        "pam_token_counts = Counter(pam_tokens)\n",
        "\n",
        "pantip_filtered_tokens = {token: count for token, count in pantip_token_counts.items() if len(token) > 1}\n",
        "pam_filtered_tokens = {token: count for token, count in pam_token_counts.items() if len(token) > 1}\n",
        "\n",
        "pantip_top_tokens = dict(sorted(pantip_filtered_tokens.items(), key=lambda x: x[1], reverse=True)[:300])\n",
        "pam_top_tokens = dict(sorted(pam_filtered_tokens.items(), key=lambda x: x[1], reverse=True)[:300])"
      ]
    },
    {
      "cell_type": "code",
      "source": [
        "print(\"Top 300 Tokens for Pantip Dataset:\")\n",
        "for token, count in pantip_top_tokens.items():\n",
        "    print(f\"{token}: {count}\")"
      ],
      "metadata": {
        "colab": {
          "base_uri": "https://localhost:8080/"
        },
        "collapsed": true,
        "id": "WdFOHed_aFxX",
        "outputId": "92bea850-ba51-46af-ffc8-2d767aea3c1e"
      },
      "execution_count": null,
      "outputs": [
        {
          "output_type": "stream",
          "name": "stdout",
          "text": [
            "Top 300 Tokens for Pantip Dataset:\n",
            "ที่: 4183\n",
            "เรา: 2568\n",
            "จะ: 2559\n",
            "มา: 2478\n",
            "ไป: 2449\n",
            "ได้: 2432\n",
            "ก็: 2392\n",
            "ไม่: 2222\n",
            "ว่า: 2195\n",
            "มี: 2076\n",
            "เป็น: 2056\n",
            "การ: 1747\n",
            "ให้: 1608\n",
            "ของ: 1475\n",
            "ใน: 1376\n",
            "แล้ว: 1367\n",
            "เลย: 1358\n",
            "ครับ: 1325\n",
            "กัน: 1305\n",
            "นี้: 1291\n",
            "กับ: 1234\n",
            "ค่ะ: 1172\n",
            "ดี: 1155\n",
            "▁แต่: 1107\n",
            "คน: 1065\n",
            "ทํา: 1044\n",
            "ต้อง: 1021\n",
            "มัน: 1000\n",
            "้า: 932\n",
            "มาก: 924\n",
            "อยู่: 910\n",
            "จาก: 903\n",
            "เขา: 900\n",
            "่า: 880\n",
            "ความ: 865\n",
            "ใช้: 767\n",
            "ด้วย: 749\n",
            "แต่: 740\n",
            "อะไร: 736\n",
            "▁เรา: 736\n",
            "ผม: 731\n",
            "ตัว: 727\n",
            "ใจ: 713\n",
            "เรื่อง: 709\n",
            "หา: 686\n",
            "ํา: 682\n",
            "ไม่ได้: 666\n",
            "ดู: 659\n",
            "ีย: 646\n",
            "▁และ: 642\n",
            "วัน: 640\n",
            "พอ: 636\n",
            "▁(: 634\n",
            "และ: 612\n",
            "ับ: 611\n",
            "รับ: 600\n",
            "เข้า: 594\n",
            "แบบ: 591\n",
            "งาน: 588\n",
            "อยาก: 585\n",
            "นั้น: 585\n",
            "ถึง: 585\n",
            "ัง: 582\n",
            "คือ: 580\n",
            "ขึ้น: 579\n",
            "▁แล้ว: 566\n",
            "อย่าง: 543\n",
            "ัน: 536\n",
            "สอบ: 535\n",
            "เวลา: 527\n",
            "ตาม: 524\n",
            "เมื่อ: 520\n",
            "อีก: 518\n",
            "ขอ: 510\n",
            "ปี: 496\n",
            "เพื่อน: 495\n",
            "บ้าง: 494\n",
            "▁1: 493\n",
            "อน: 492\n",
            "เค้า: 490\n",
            "ทาง: 487\n",
            "คะ: 487\n",
            "ทุก: 479\n",
            "ไหน: 476\n",
            "เงิน: 475\n",
            "ยัง: 475\n",
            "ลง: 470\n",
            "▁2: 469\n",
            "ผู้: 468\n",
            "หน้า: 467\n",
            "หรือ: 463\n",
            "▁คือ: 456\n",
            "ยา: 456\n",
            "บอก: 455\n",
            "ิน: 454\n",
            "บ้าน: 453\n",
            "ก่อน: 453\n",
            "ต่อ: 450\n",
            "เหมือน: 445\n",
            "รา: 438\n",
            "ตอน: 436\n",
            "▁หรือ: 435\n",
            "ละ: 434\n",
            "ออก: 432\n",
            "on: 432\n",
            "ที: 430\n",
            "น้ํา: 422\n",
            "นา: 422\n",
            "นะ: 420\n",
            "ลา: 418\n",
            "เรียน: 418\n",
            "ชอบ: 416\n",
            "แฟน: 406\n",
            "ัด: 404\n",
            "เราก็: 401\n",
            "ประ: 398\n",
            "เอา: 397\n",
            "คํา: 394\n",
            "ทั้ง: 391\n",
            "ริ: 391\n",
            "จน: 385\n",
            "00: 379\n",
            "ควร: 374\n",
            "คิด: 374\n",
            "▁เพราะ: 374\n",
            "ซื้อ: 370\n",
            "ัก: 370\n",
            "เเ: 368\n",
            "แม่: 365\n",
            "ติด: 364\n",
            "หน่อย: 362\n",
            "้น: 361\n",
            "กว่า: 361\n",
            "่อ: 360\n",
            "ร์: 360\n",
            "ค่า: 354\n",
            "รี: 353\n",
            "ใคร: 352\n",
            "สามารถ: 349\n",
            "เห็น: 348\n",
            "เดือน: 348\n",
            "วิ: 345\n",
            "รู้: 344\n",
            "in: 341\n",
            "กระ: 341\n",
            "อา: 339\n",
            "ไหม: 338\n",
            "วง: 338\n",
            "▁ผม: 336\n",
            "นะคะ: 336\n",
            "อม: 336\n",
            "ตา: 336\n",
            "เม: 330\n",
            "ส่ง: 328\n",
            "20: 325\n",
            "แค่: 323\n",
            "เห: 323\n",
            "เพราะ: 322\n",
            "คุย: 320\n",
            "รู้สึก: 318\n",
            "ทําให้: 318\n",
            "ar: 318\n",
            "ข้อความ: 315\n",
            "ไว้: 314\n",
            "พี่: 314\n",
            "ช่วย: 314\n",
            "ไทย: 313\n",
            "ไม่มี: 312\n",
            "or: 311\n",
            "▁ถ้า: 307\n",
            "รถ: 307\n",
            "ติ: 307\n",
            "โดย: 306\n",
            "▁แนวข้อสอบ: 306\n",
            "เส: 305\n",
            "ตอนนี้: 305\n",
            "▁ซึ่ง: 303\n",
            "่ง: 303\n",
            "▁S: 300\n",
            "ัย: 298\n",
            "เด: 294\n",
            "er: 292\n",
            "ใหม่: 290\n",
            "เพื่อ: 290\n",
            "an: 289\n",
            "เคย: 289\n",
            "แบบนี้: 288\n",
            "▁อยาก: 288\n",
            "ข้อ: 288\n",
            "เท: 288\n",
            "เจอ: 288\n",
            "เก: 287\n",
            "ระ: 287\n",
            "อร์: 285\n",
            "ชา: 284\n",
            "ทํางาน: 284\n",
            "ผ่าน: 283\n",
            "เล: 283\n",
            "ผล: 282\n",
            "พล: 281\n",
            "▁บาท: 281\n",
            "รุ: 280\n",
            "ราคา: 278\n",
            "ถาม: 276\n",
            "10: 275\n",
            "ถูก: 274\n",
            "ครั้ง: 274\n",
            "อง: 274\n",
            "com: 274\n",
            "อด: 273\n",
            "://: 273\n",
            "ี่: 270\n",
            "กร: 269\n",
            "re: 268\n",
            "เอ: 267\n",
            "...: 267\n",
            "วน: 266\n",
            "ภาพ: 266\n",
            "กลับ: 265\n",
            "ตั้ง: 263\n",
            "▁แก้ไข: 261\n",
            "เค: 261\n",
            "ถ้า: 260\n",
            "บาง: 260\n",
            "เกี่ยวกับ: 260\n",
            "▁C: 260\n",
            "▁http: 259\n",
            "ขอบคุณ: 256\n",
            "ช่วง: 255\n",
            "หลาย: 254\n",
            "เอง: 253\n",
            "รัก: 251\n",
            "เปิด: 251\n",
            "ส่วน: 250\n",
            "ยังไง: 249\n",
            "ประมาณ: 249\n",
            "เล่น: 245\n",
            "เดียว: 242\n",
            "แนะนํา: 241\n",
            "st: 240\n",
            "เสีย: 237\n",
            "ู่: 237\n",
            "หลัง: 235\n",
            "ตอบ: 235\n",
            "al: 235\n",
            "คุณ: 233\n",
            "นี่: 231\n",
            "หมด: 230\n",
            "นิ: 229\n",
            "น้อง: 229\n",
            "เปลี่ยน: 229\n",
            "เริ่ม: 228\n",
            "เลือก: 228\n",
            "เกิด: 228\n",
            "ี้: 227\n",
            "ย์: 226\n",
            "บอกว่า: 226\n",
            "พ่อ: 226\n",
            "en: 226\n",
            "ื่อ: 224\n",
            "เว: 223\n",
            "พูด: 222\n",
            "สิ: 219\n",
            "กิน: 219\n",
            "▁M: 219\n",
            "ลูก: 217\n",
            "อ่าน: 216\n",
            "เบ: 215\n",
            "ปกติ: 213\n",
            "จริง: 213\n",
            "ั่น: 212\n",
            "เป: 211\n",
            "ใส่: 210\n",
            "นึง: 210\n",
            "25: 210\n",
            "ั้น: 210\n",
            "สุด: 210\n",
            "อัน: 210\n",
            "มั้ย: 207\n",
            "แรก: 207\n",
            "ตลอด: 206\n",
            "สม: 205\n",
            "ตัวเอง: 204\n",
            "ตรง: 203\n",
            "จริงๆ: 201\n",
            "....: 201\n",
            "มือ: 200\n",
            "ไม่รู้: 199\n",
            "อย: 199\n",
            "นาน: 199\n",
            "ิ่ง: 198\n",
            "ทําไม: 196\n",
            "นํา: 196\n",
            "มากๆ: 196\n",
            "เครื่อง: 196\n",
            "อะ: 195\n",
            "ผิด: 193\n",
            "ราย: 193\n",
            "ขาย: 192\n",
            "นัก: 190\n"
          ]
        }
      ]
    },
    {
      "cell_type": "code",
      "source": [
        "print(\"Top 300 Tokens for Pam Dataset:\")\n",
        "for token, count in pam_top_tokens.items():\n",
        "    print(f\"{token}: {count}\")"
      ],
      "metadata": {
        "colab": {
          "base_uri": "https://localhost:8080/"
        },
        "collapsed": true,
        "id": "Pv4pajK9aKyZ",
        "outputId": "6f594d9d-477f-4522-ada3-dc2672d322f7"
      },
      "execution_count": null,
      "outputs": [
        {
          "output_type": "stream",
          "name": "stdout",
          "text": [
            "Top 300 Tokens for Pam Dataset:\n",
            "มา: 3002\n",
            "จะ: 2506\n",
            "ไป: 2407\n",
            "ให้: 2391\n",
            "ว่า: 2214\n",
            "ไม่: 2085\n",
            "ที่: 1632\n",
            "เป็น: 1587\n",
            "▁จะ: 1580\n",
            "พระ: 1561\n",
            "ใจ: 1458\n",
            "ก็: 1368\n",
            "อยู่: 1339\n",
            "▁พระ: 1251\n",
            "ได้: 1247\n",
            "เข้า: 1190\n",
            "รา: 1128\n",
            "ตาม: 1096\n",
            "้า: 1086\n",
            "▁แล้ว: 1085\n",
            "ใน: 1069\n",
            "ยา: 1063\n",
            "ลา: 1052\n",
            "ํา: 1039\n",
            "เจ้า: 1024\n",
            "เหมือน: 1009\n",
            "กัน: 976\n",
            "หา: 973\n",
            "ประ: 944\n",
            "อน: 933\n",
            "ทรง: 914\n",
            "ัง: 914\n",
            "เห็น: 910\n",
            "▁ให้: 898\n",
            "าน: 879\n",
            "นาง: 875\n",
            "ัก: 868\n",
            "ัด: 837\n",
            "ดู: 834\n",
            "องค์: 827\n",
            "มี: 809\n",
            "่า: 801\n",
            "▁จึง: 799\n",
            "▁นาง: 792\n",
            "วน: 782\n",
            "พา: 777\n",
            "แล้ว: 771\n",
            "นี้: 770\n",
            "่อ: 765\n",
            "ด้วย: 760\n",
            "ลูก: 744\n",
            "น้อง: 741\n",
            "ทํา: 738\n",
            "รัก: 736\n",
            "หน: 731\n",
            "พี่: 719\n",
            "การ: 714\n",
            "คิด: 712\n",
            "พล: 712\n",
            "กระ: 710\n",
            "รู้: 695\n",
            "กับ: 683\n",
            "แต่: 677\n",
            "หน้า: 670\n",
            "ระ: 666\n",
            "ออก: 665\n",
            "▁ไม่: 662\n",
            "ัน: 660\n",
            "ับ: 656\n",
            "เขา: 652\n",
            "่ง: 637\n",
            "พร: 622\n",
            "นั่ง: 620\n",
            "ข้า: 620\n",
            "คน: 617\n",
            "รับ: 616\n",
            "วง: 614\n",
            "ดี: 610\n",
            "ถึง: 601\n",
            "ริ: 597\n",
            "▁แต่: 592\n",
            "หล: 585\n",
            "▁เห็น: 581\n",
            "ลง: 578\n",
            "กร: 576\n",
            "อด: 576\n",
            "กล: 574\n",
            "สม: 573\n",
            "ความ: 573\n",
            "ตร: 568\n",
            "ทั้ง: 566\n",
            "ขึ้น: 566\n",
            "เสีย: 564\n",
            "ือ: 557\n",
            "กลับ: 555\n",
            "▁ฝ่าย: 553\n",
            "ปร: 544\n",
            "มิ: 540\n",
            "ขอ: 540\n",
            "้น: 539\n",
            "หรือ: 534\n",
            "ยัง: 531\n",
            "▁ทั้ง: 528\n",
            "เส: 526\n",
            "ฟัง: 523\n",
            "แม่: 522\n",
            "ไว้: 521\n",
            "▁พอ: 513\n",
            "วัน: 512\n",
            "ดัง: 508\n",
            "รบ: 504\n",
            "น้ํา: 502\n",
            "ิน: 502\n",
            "อา: 497\n",
            "ี่: 493\n",
            "ช่วย: 493\n",
            "นา: 491\n",
            "นั้น: 490\n",
            "อง: 489\n",
            "ทัพ: 477\n",
            "▁มา: 474\n",
            "ต้อง: 474\n",
            "น้อย: 472\n",
            "เรา: 468\n",
            "จน: 467\n",
            "ปล: 465\n",
            "เอา: 462\n",
            "สุด: 456\n",
            "ละ: 453\n",
            "เสียง: 452\n",
            "สุ: 451\n",
            "ข้าง: 448\n",
            "ตี: 446\n",
            "ึก: 444\n",
            "หลัง: 440\n",
            "พิ: 439\n",
            "▁ถึง: 436\n",
            "ตัว: 436\n",
            "วัง: 433\n",
            "นาย: 433\n",
            "ทูล: 432\n",
            "วิ: 431\n",
            "่น: 429\n",
            "ยง: 429\n",
            "อก: 426\n",
            "อย่า: 423\n",
            "ทุก: 420\n",
            "นึก: 417\n",
            "ลี: 412\n",
            "เฝ้า: 406\n",
            "ตา: 403\n",
            "ตาย: 398\n",
            "ฝรั่ง: 398\n",
            "▁เป็น: 394\n",
            "แล: 392\n",
            "อั: 391\n",
            "ใคร: 391\n",
            "ราช: 390\n",
            "ย์: 390\n",
            "เรือ: 383\n",
            "้ม: 380\n",
            "ของ: 372\n",
            "สอง: 369\n",
            "กษัตริย์: 367\n",
            "แสน: 367\n",
            "ี้: 367\n",
            "ึง: 363\n",
            "หาย: 359\n",
            "ั่ง: 359\n",
            "จิต: 358\n",
            "หมาย: 357\n",
            "สั่ง: 355\n",
            "จึง: 355\n",
            "▁ด้วย: 354\n",
            "แจ้ง: 352\n",
            "นิ: 346\n",
            "เห: 346\n",
            "ุด: 345\n",
            "สาม: 343\n",
            "▁อย่า: 342\n",
            "เมือง: 341\n",
            "ั่น: 340\n",
            "สาว: 340\n",
            "เหลือ: 339\n",
            "กลาง: 338\n",
            "ยิ่ง: 336\n",
            "ตรัส: 335\n",
            "มัน: 333\n",
            "ลังกา: 333\n",
            "เลย: 332\n",
            "เล่า: 331\n",
            "ทาง: 329\n",
            "ศรี: 328\n",
            "ไหน: 328\n",
            "้อง: 327\n",
            "เคย: 327\n",
            "หนี: 326\n",
            "ื้อ: 323\n",
            "น่า: 322\n",
            "ที: 322\n",
            "ยก: 321\n",
            "ค่อย: 320\n",
            "ชาย: 318\n",
            "พราหมณ์: 313\n",
            "ถาม: 311\n",
            "ไร: 306\n",
            "สิ้น: 305\n",
            "กาย: 305\n",
            "ฉัน: 305\n",
            "ลม: 304\n",
            "บอก: 303\n",
            "ชาว: 301\n",
            "พ่อ: 301\n",
            "คอย: 299\n",
            "สงสาร: 298\n",
            "สาร: 297\n",
            "อบ: 296\n",
            "ชม: 295\n",
            "จริง: 295\n",
            "▁อัน: 291\n",
            "คํา: 291\n",
            "ตั้ง: 291\n",
            "ทหาร: 291\n",
            "เที่ยว: 290\n",
            "ผู้: 289\n",
            "วาย: 288\n",
            "ทอง: 287\n",
            "ผา: 286\n",
            "ศึก: 286\n",
            "สิ: 283\n",
            "จะได้: 282\n",
            "ใหญ่: 281\n",
            "ถือ: 281\n",
            "สา: 280\n",
            "▁บ้าง: 279\n",
            "ั้น: 279\n",
            "พบ: 279\n",
            "พระอภัย: 278\n",
            "▁ต่าง: 277\n",
            "ม้า: 277\n",
            "จับ: 276\n",
            "จง: 273\n",
            "พลาง: 273\n",
            "ล่อ: 271\n",
            "พวก: 270\n",
            "▁จน: 268\n",
            "ลาย: 268\n",
            "ไพร่: 267\n",
            "ราย: 267\n",
            "รอง: 264\n",
            "ร้อย: 264\n",
            "ล้วน: 263\n",
            "▁พวก: 263\n",
            "อาย: 262\n",
            "พร้อม: 261\n",
            "้ว: 261\n",
            "ชิง: 260\n",
            "พัน: 260\n",
            "งาม: 259\n",
            "อย่าง: 258\n",
            "แกล้ง: 257\n",
            "จํา: 254\n",
            "เคียง: 252\n",
            "เครื่อง: 251\n",
            "กลัว: 251\n",
            "ลํา: 250\n",
            "นี่: 249\n",
            "▁จง: 245\n",
            "สินสมุทร: 244\n",
            "สาย: 241\n",
            "แก้ว: 240\n",
            "พระองค์: 240\n",
            "▁แม้น: 239\n",
            "▁ครั้น: 238\n",
            "เพราะ: 238\n",
            "บน: 236\n",
            "ร้อง: 235\n",
            "คง: 234\n",
            "ต่าง: 232\n",
            "ผล: 231\n",
            "ห้อง: 229\n",
            "สู้: 227\n",
            "จาก: 222\n",
            "ท่าน: 220\n",
            "ขัด: 220\n",
            "โห: 219\n",
            "เดิน: 217\n",
            "หลับ: 217\n",
            "เรียก: 216\n",
            "ป่า: 216\n",
            "นัก: 215\n",
            "เหล่า: 215\n",
            "กิน: 214\n",
            "กุมาร: 214\n",
            "ลิ: 212\n",
            "คู่: 211\n",
            "โศก: 210\n",
            "หลง: 209\n",
            "ร่ํา: 209\n",
            "ู่: 209\n"
          ]
        }
      ]
    },
    {
      "cell_type": "markdown",
      "metadata": {
        "id": "Qz0GdZ-5YYM9"
      },
      "source": [
        "### To answer\n",
        "What are some notable differences you see between the two vocabs?\n",
        "\n",
        "Write your answer below."
      ]
    },
    {
      "cell_type": "code",
      "execution_count": null,
      "metadata": {
        "id": "QxxYr0QLbDoU"
      },
      "outputs": [],
      "source": [
        "\"\"\"The Pantip tokens feels more modern while the Pam vocabulary feels with formal and old\n",
        "These differences show their respective on social media data vs literature data. \"\"\""
      ]
    },
    {
      "cell_type": "markdown",
      "metadata": {
        "id": "ipjO87HPYl4N"
      },
      "source": [
        "## Using tokenizer across domains\n",
        "\n",
        "One problem you may face is your dataset is very specialized. In that case the tokenizer trained on a general domain may not perform as good as it should when used on your dataset.\n",
        "\n",
        "Next you will try using tokenizers trained on one general domain (on Pantip) and use it on a specialized domain (พระอภัยมณี) and vice versa."
      ]
    },
    {
      "cell_type": "markdown",
      "metadata": {
        "id": "I4_6JG_l5BXh"
      },
      "source": [
        "### Q3 MCV\n",
        "\n",
        "What percentage increase do you observe when tokenizing the whole พระอภัยมณี dataset with a tokenizer trained on Pantip compared to the one trained on พระอภัยมณี."
      ]
    },
    {
      "cell_type": "code",
      "execution_count": null,
      "metadata": {
        "id": "3tCh1RaZrTAM"
      },
      "outputs": [],
      "source": [
        "pam_tokens_on_pantip_model = tokenize_and_filter(sp_pantip, pra_apai_manee_data)\n",
        "pam_tokens_on_pam_model = tokenize_and_filter(sp_pam, pra_apai_manee_data)"
      ]
    },
    {
      "cell_type": "code",
      "source": [
        "len(pam_tokens_on_panthip_model) * 100 / len(pam_tokens_on_pam_model)"
      ],
      "metadata": {
        "colab": {
          "base_uri": "https://localhost:8080/"
        },
        "id": "MMr0WItOdggY",
        "outputId": "4bd0b3cd-2212-494c-eca9-449b3cef8cb5"
      },
      "execution_count": null,
      "outputs": [
        {
          "output_type": "execute_result",
          "data": {
            "text/plain": [
              "141.50978497925553"
            ]
          },
          "metadata": {},
          "execution_count": 88
        }
      ]
    },
    {
      "cell_type": "markdown",
      "metadata": {
        "id": "duaCJRO96SX1"
      },
      "source": [
        "### Q4 MCV\n",
        "\n",
        "What percentage increase do you observe when tokenizing the whole Pantip dataset with a tokenizer trained on พระอภัยมณี compared to the one trained on Pantip."
      ]
    },
    {
      "cell_type": "code",
      "execution_count": null,
      "metadata": {
        "id": "axk9gOIgrTYd"
      },
      "outputs": [],
      "source": [
        "panthip_tokens_on_pam_model = tokenize_and_filter(sp_pam, pantip_text)\n",
        "panthip_tokens_on_panthip_model = tokenize_and_filter(sp_pantip, pantip_text)"
      ]
    },
    {
      "cell_type": "code",
      "source": [
        "len(panthip_tokens_on_pam_model) * 100 / len(panthip_tokens_on_panthip_model)"
      ],
      "metadata": {
        "colab": {
          "base_uri": "https://localhost:8080/"
        },
        "id": "uHOAGnBPgYFc",
        "outputId": "51cf7c47-28bb-4eb4-e56a-e500cb685d9c"
      },
      "execution_count": null,
      "outputs": [
        {
          "output_type": "execute_result",
          "data": {
            "text/plain": [
              "115.5704503918366"
            ]
          },
          "metadata": {},
          "execution_count": 90
        }
      ]
    },
    {
      "cell_type": "markdown",
      "metadata": {
        "id": "yZYKuamv7-wI"
      },
      "source": [
        "### To answer\n",
        "Why do you think the number of tokens tokenized by the general tokenizer (the one trained on Pantip) has a higher percentage increase compared to the number of tokens tokenized by the specialized tokenizer? (Hint: we fixed vocab size.)"
      ]
    },
    {
      "cell_type": "code",
      "execution_count": null,
      "metadata": {
        "id": "gh9a6d7Q8ivJ"
      },
      "outputs": [],
      "source": [
        "\"\"\"\n",
        "Since we fixed the vocab size, the one trained on Panthip are more generalized.\n",
        "And it will not recognize the specialized word on Pam (such as โศก, กุมาร, พระอภัยมณี).\n",
        "So it will cut these word into characters, making it has more tokens\n",
        "\"\"\""
      ]
    },
    {
      "cell_type": "markdown",
      "metadata": {
        "id": "O7j_Cc0p9-5S"
      },
      "source": [
        "## The effect on language models\n",
        "\n",
        "Next, we will see the effect of using \"cross-domain\" tokenizers on Language models."
      ]
    },
    {
      "cell_type": "markdown",
      "metadata": {
        "id": "KiWztANvohhn"
      },
      "source": [
        "### Setup\n",
        "We are going to reuse the code from the last assignment"
      ]
    },
    {
      "cell_type": "code",
      "execution_count": null,
      "metadata": {
        "id": "7pVtSbmVpwOo",
        "colab": {
          "base_uri": "https://localhost:8080/"
        },
        "outputId": "12b756ae-8809-4eca-f0d4-cd6bb302ddbd"
      },
      "outputs": [
        {
          "output_type": "stream",
          "name": "stdout",
          "text": [
            "Collecting lightning\n",
            "  Downloading lightning-2.5.0.post0-py3-none-any.whl.metadata (40 kB)\n",
            "\u001b[?25l     \u001b[90m━━━━━━━━━━━━━━━━━━━━━━━━━━━━━━━━━━━━━━━━\u001b[0m \u001b[32m0.0/40.4 kB\u001b[0m \u001b[31m?\u001b[0m eta \u001b[36m-:--:--\u001b[0m\r\u001b[2K     \u001b[90m━━━━━━━━━━━━━━━━━━━━━━━━━━━━━━━━━━━━━━━━\u001b[0m \u001b[32m40.4/40.4 kB\u001b[0m \u001b[31m2.0 MB/s\u001b[0m eta \u001b[36m0:00:00\u001b[0m\n",
            "\u001b[?25hRequirement already satisfied: PyYAML<8.0,>=5.4 in /usr/local/lib/python3.10/dist-packages (from lightning) (6.0.2)\n",
            "Requirement already satisfied: fsspec<2026.0,>=2022.5.0 in /usr/local/lib/python3.10/dist-packages (from fsspec[http]<2026.0,>=2022.5.0->lightning) (2024.10.0)\n",
            "Collecting lightning-utilities<2.0,>=0.10.0 (from lightning)\n",
            "  Downloading lightning_utilities-0.11.9-py3-none-any.whl.metadata (5.2 kB)\n",
            "Requirement already satisfied: packaging<25.0,>=20.0 in /usr/local/lib/python3.10/dist-packages (from lightning) (24.2)\n",
            "Requirement already satisfied: torch<4.0,>=2.1.0 in /usr/local/lib/python3.10/dist-packages (from lightning) (2.5.1+cu121)\n",
            "Collecting torchmetrics<3.0,>=0.7.0 (from lightning)\n",
            "  Downloading torchmetrics-1.6.1-py3-none-any.whl.metadata (21 kB)\n",
            "Requirement already satisfied: tqdm<6.0,>=4.57.0 in /usr/local/lib/python3.10/dist-packages (from lightning) (4.67.1)\n",
            "Requirement already satisfied: typing-extensions<6.0,>=4.4.0 in /usr/local/lib/python3.10/dist-packages (from lightning) (4.12.2)\n",
            "Collecting pytorch-lightning (from lightning)\n",
            "  Downloading pytorch_lightning-2.5.0.post0-py3-none-any.whl.metadata (21 kB)\n",
            "Requirement already satisfied: aiohttp!=4.0.0a0,!=4.0.0a1 in /usr/local/lib/python3.10/dist-packages (from fsspec[http]<2026.0,>=2022.5.0->lightning) (3.11.10)\n",
            "Requirement already satisfied: setuptools in /usr/local/lib/python3.10/dist-packages (from lightning-utilities<2.0,>=0.10.0->lightning) (75.1.0)\n",
            "Requirement already satisfied: filelock in /usr/local/lib/python3.10/dist-packages (from torch<4.0,>=2.1.0->lightning) (3.16.1)\n",
            "Requirement already satisfied: networkx in /usr/local/lib/python3.10/dist-packages (from torch<4.0,>=2.1.0->lightning) (3.4.2)\n",
            "Requirement already satisfied: jinja2 in /usr/local/lib/python3.10/dist-packages (from torch<4.0,>=2.1.0->lightning) (3.1.4)\n",
            "Requirement already satisfied: sympy==1.13.1 in /usr/local/lib/python3.10/dist-packages (from torch<4.0,>=2.1.0->lightning) (1.13.1)\n",
            "Requirement already satisfied: mpmath<1.4,>=1.1.0 in /usr/local/lib/python3.10/dist-packages (from sympy==1.13.1->torch<4.0,>=2.1.0->lightning) (1.3.0)\n",
            "Requirement already satisfied: numpy>1.20.0 in /usr/local/lib/python3.10/dist-packages (from torchmetrics<3.0,>=0.7.0->lightning) (1.26.4)\n",
            "Requirement already satisfied: aiohappyeyeballs>=2.3.0 in /usr/local/lib/python3.10/dist-packages (from aiohttp!=4.0.0a0,!=4.0.0a1->fsspec[http]<2026.0,>=2022.5.0->lightning) (2.4.4)\n",
            "Requirement already satisfied: aiosignal>=1.1.2 in /usr/local/lib/python3.10/dist-packages (from aiohttp!=4.0.0a0,!=4.0.0a1->fsspec[http]<2026.0,>=2022.5.0->lightning) (1.3.2)\n",
            "Requirement already satisfied: async-timeout<6.0,>=4.0 in /usr/local/lib/python3.10/dist-packages (from aiohttp!=4.0.0a0,!=4.0.0a1->fsspec[http]<2026.0,>=2022.5.0->lightning) (4.0.3)\n",
            "Requirement already satisfied: attrs>=17.3.0 in /usr/local/lib/python3.10/dist-packages (from aiohttp!=4.0.0a0,!=4.0.0a1->fsspec[http]<2026.0,>=2022.5.0->lightning) (24.3.0)\n",
            "Requirement already satisfied: frozenlist>=1.1.1 in /usr/local/lib/python3.10/dist-packages (from aiohttp!=4.0.0a0,!=4.0.0a1->fsspec[http]<2026.0,>=2022.5.0->lightning) (1.5.0)\n",
            "Requirement already satisfied: multidict<7.0,>=4.5 in /usr/local/lib/python3.10/dist-packages (from aiohttp!=4.0.0a0,!=4.0.0a1->fsspec[http]<2026.0,>=2022.5.0->lightning) (6.1.0)\n",
            "Requirement already satisfied: propcache>=0.2.0 in /usr/local/lib/python3.10/dist-packages (from aiohttp!=4.0.0a0,!=4.0.0a1->fsspec[http]<2026.0,>=2022.5.0->lightning) (0.2.1)\n",
            "Requirement already satisfied: yarl<2.0,>=1.17.0 in /usr/local/lib/python3.10/dist-packages (from aiohttp!=4.0.0a0,!=4.0.0a1->fsspec[http]<2026.0,>=2022.5.0->lightning) (1.18.3)\n",
            "Requirement already satisfied: MarkupSafe>=2.0 in /usr/local/lib/python3.10/dist-packages (from jinja2->torch<4.0,>=2.1.0->lightning) (3.0.2)\n",
            "Requirement already satisfied: idna>=2.0 in /usr/local/lib/python3.10/dist-packages (from yarl<2.0,>=1.17.0->aiohttp!=4.0.0a0,!=4.0.0a1->fsspec[http]<2026.0,>=2022.5.0->lightning) (3.10)\n",
            "Downloading lightning-2.5.0.post0-py3-none-any.whl (815 kB)\n",
            "\u001b[2K   \u001b[90m━━━━━━━━━━━━━━━━━━━━━━━━━━━━━━━━━━━━━━━━\u001b[0m \u001b[32m815.2/815.2 kB\u001b[0m \u001b[31m16.7 MB/s\u001b[0m eta \u001b[36m0:00:00\u001b[0m\n",
            "\u001b[?25hDownloading lightning_utilities-0.11.9-py3-none-any.whl (28 kB)\n",
            "Downloading torchmetrics-1.6.1-py3-none-any.whl (927 kB)\n",
            "\u001b[2K   \u001b[90m━━━━━━━━━━━━━━━━━━━━━━━━━━━━━━━━━━━━━━━━\u001b[0m \u001b[32m927.3/927.3 kB\u001b[0m \u001b[31m47.4 MB/s\u001b[0m eta \u001b[36m0:00:00\u001b[0m\n",
            "\u001b[?25hDownloading pytorch_lightning-2.5.0.post0-py3-none-any.whl (819 kB)\n",
            "\u001b[2K   \u001b[90m━━━━━━━━━━━━━━━━━━━━━━━━━━━━━━━━━━━━━━━━\u001b[0m \u001b[32m819.3/819.3 kB\u001b[0m \u001b[31m50.0 MB/s\u001b[0m eta \u001b[36m0:00:00\u001b[0m\n",
            "\u001b[?25hInstalling collected packages: lightning-utilities, torchmetrics, pytorch-lightning, lightning\n",
            "Successfully installed lightning-2.5.0.post0 lightning-utilities-0.11.9 pytorch-lightning-2.5.0.post0 torchmetrics-1.6.1\n"
          ]
        }
      ],
      "source": [
        "!pip install lightning"
      ]
    },
    {
      "cell_type": "code",
      "execution_count": null,
      "metadata": {
        "id": "JMt5GzLrW4x3"
      },
      "outputs": [],
      "source": [
        "import itertools\n",
        "import torch\n",
        "import torch.nn as nn\n",
        "from torch.utils.data import Dataset, DataLoader\n",
        "import torch.optim as optim\n",
        "import lightning as L\n",
        "from tqdm import tqdm\n",
        "import numpy as np"
      ]
    },
    {
      "cell_type": "code",
      "execution_count": null,
      "metadata": {
        "id": "0OIs_VS_oo1M"
      },
      "outputs": [],
      "source": [
        "class TextDataset(Dataset):\n",
        "  def __init__(self, data, tokenizer, seq_len = 128):\n",
        "\n",
        "    token_ids = [tokenizer.encode(d, add_bos=True, add_eos=True) for d in data]\n",
        "    flatten_token_ids = list(itertools.chain(*token_ids))\n",
        "    encoded = torch.LongTensor(flatten_token_ids)\n",
        "\n",
        "    left_over = len(encoded) % seq_len\n",
        "    encoded = encoded[:len(encoded)-left_over]\n",
        "    self.encoded = encoded.view(-1, seq_len)\n",
        "\n",
        "  def __getitem__(self, idx):\n",
        "    return self.encoded[idx]\n",
        "\n",
        "  def __len__(self):\n",
        "    return len(self.encoded)"
      ]
    },
    {
      "cell_type": "code",
      "execution_count": null,
      "metadata": {
        "id": "hk6vEPiMq34n"
      },
      "outputs": [],
      "source": [
        "class LSTM(L.LightningModule):\n",
        "    def __init__(self, vocab_size, embedding_dim, hidden_dim, num_layers, dropout_rate, learning_rate, criterion):\n",
        "\n",
        "        super().__init__()\n",
        "\n",
        "        self.num_layers = num_layers\n",
        "        self.hidden_dim = hidden_dim\n",
        "        self.embedding_dim = embedding_dim\n",
        "        self.vocab_size=vocab_size\n",
        "\n",
        "        self.embedding = nn.Embedding(vocab_size, embedding_dim)\n",
        "        self.lstm = nn.LSTM(embedding_dim, hidden_dim, num_layers=num_layers,\n",
        "                    dropout=dropout_rate, batch_first=True)\n",
        "        self.dropout = nn.Dropout(dropout_rate)\n",
        "        self.fc = nn.Linear(hidden_dim, vocab_size)\n",
        "        self.learning_rate = learning_rate\n",
        "        self.criterion = criterion\n",
        "\n",
        "    def forward(self, src):\n",
        "        src = self.embedding(src)\n",
        "        src, _ = self.lstm(src)\n",
        "        src = self.dropout(src)\n",
        "        src = self.fc(src)\n",
        "        return src\n",
        "\n",
        "    def training_step(self, batch, batch_idx):\n",
        "\n",
        "        src = batch[:, :-1]\n",
        "        target = batch[:, 1:]\n",
        "        prediction = self(src)\n",
        "        prediction = prediction.reshape(-1, self.vocab_size)\n",
        "        target = target.reshape(-1)\n",
        "        loss = self.criterion(prediction, target)\n",
        "        self.log(\"train_loss\", loss)\n",
        "        return loss\n",
        "\n",
        "    def test_step(self, batch, batch_idx, dataloader_idx=0):\n",
        "\n",
        "        src = batch[:, :-1]\n",
        "        target = batch[:, 1:]\n",
        "        with torch.no_grad():\n",
        "          prediction = self(src)\n",
        "        prediction = prediction.reshape(-1, self.vocab_size)\n",
        "        target = target.reshape(-1)\n",
        "        loss = self.criterion(prediction, target)\n",
        "        self.log(\"test_loss\", loss)\n",
        "        return loss\n",
        "\n",
        "    def configure_optimizers(self):\n",
        "        return optim.Adam(self.parameters(), lr=self.learning_rate)"
      ]
    },
    {
      "cell_type": "code",
      "execution_count": null,
      "metadata": {
        "id": "oKhuOygixndB"
      },
      "outputs": [],
      "source": [
        "vocab_size = sp_pam.get_piece_size()\n",
        "embedding_dim = 200\n",
        "hidden_dim = 512\n",
        "num_layers = 3\n",
        "dropout_rate = 0.2\n",
        "lr = 1e-3\n",
        "criterion = nn.CrossEntropyLoss()\n",
        "train_batch_size = 64\n",
        "test_batch_size = 128"
      ]
    },
    {
      "cell_type": "markdown",
      "metadata": {
        "id": "kOtOE7mr-heY"
      },
      "source": [
        "### Training"
      ]
    },
    {
      "cell_type": "markdown",
      "metadata": {
        "id": "g8-x9HiPDcpE"
      },
      "source": [
        "<a name=\"no1\"></a>\n",
        "#### 1. Training on Pantip data with Pantip tokenizer"
      ]
    },
    {
      "cell_type": "code",
      "execution_count": null,
      "metadata": {
        "id": "oUv_A4MTx0Ob",
        "colab": {
          "base_uri": "https://localhost:8080/",
          "height": 780,
          "referenced_widgets": [
            "26096372d9b3486890636f9c848b32ab",
            "f4c585097bdc4c52a0969689b4f31573",
            "cfe5c00490da4e76926487b24fd604eb",
            "457a34b4ca3b4e5cbd61a456657c1448",
            "31c4b6af3dee44de9e83c4b38f0ef2a6",
            "6c81c62f1b30443cadf6f43face641e7",
            "678b14b17c8e478d9c92481273bd949d",
            "dc292207dfe2446a9518d8629693c3bb",
            "54899febbbb44624bec5bb5a88c64df7",
            "a12a03f0a701466ea4a3620c90c8eb60",
            "40c9a750ef294534a6992167bbe63649"
          ]
        },
        "outputId": "6f74ef35-6973-4594-d308-4da1a8e94d5c"
      },
      "outputs": [
        {
          "output_type": "stream",
          "name": "stderr",
          "text": [
            "INFO: GPU available: True (cuda), used: True\n",
            "INFO:lightning.pytorch.utilities.rank_zero:GPU available: True (cuda), used: True\n",
            "INFO: TPU available: False, using: 0 TPU cores\n",
            "INFO:lightning.pytorch.utilities.rank_zero:TPU available: False, using: 0 TPU cores\n",
            "INFO: HPU available: False, using: 0 HPUs\n",
            "INFO:lightning.pytorch.utilities.rank_zero:HPU available: False, using: 0 HPUs\n",
            "INFO: LOCAL_RANK: 0 - CUDA_VISIBLE_DEVICES: [0]\n",
            "INFO:lightning.pytorch.accelerators.cuda:LOCAL_RANK: 0 - CUDA_VISIBLE_DEVICES: [0]\n",
            "INFO: \n",
            "  | Name      | Type             | Params | Mode \n",
            "-------------------------------------------------------\n",
            "0 | embedding | Embedding        | 200 K  | train\n",
            "1 | lstm      | LSTM             | 5.7 M  | train\n",
            "2 | dropout   | Dropout          | 0      | train\n",
            "3 | fc        | Linear           | 513 K  | train\n",
            "4 | criterion | CrossEntropyLoss | 0      | train\n",
            "-------------------------------------------------------\n",
            "6.4 M     Trainable params\n",
            "0         Non-trainable params\n",
            "6.4 M     Total params\n",
            "25.511    Total estimated model params size (MB)\n",
            "5         Modules in train mode\n",
            "0         Modules in eval mode\n",
            "INFO:lightning.pytorch.callbacks.model_summary:\n",
            "  | Name      | Type             | Params | Mode \n",
            "-------------------------------------------------------\n",
            "0 | embedding | Embedding        | 200 K  | train\n",
            "1 | lstm      | LSTM             | 5.7 M  | train\n",
            "2 | dropout   | Dropout          | 0      | train\n",
            "3 | fc        | Linear           | 513 K  | train\n",
            "4 | criterion | CrossEntropyLoss | 0      | train\n",
            "-------------------------------------------------------\n",
            "6.4 M     Trainable params\n",
            "0         Non-trainable params\n",
            "6.4 M     Total params\n",
            "25.511    Total estimated model params size (MB)\n",
            "5         Modules in train mode\n",
            "0         Modules in eval mode\n",
            "/usr/local/lib/python3.10/dist-packages/lightning/pytorch/loops/fit_loop.py:310: The number of training batches (44) is smaller than the logging interval Trainer(log_every_n_steps=50). Set a lower value for log_every_n_steps if you want to see logs for the training epoch.\n"
          ]
        },
        {
          "output_type": "display_data",
          "data": {
            "text/plain": [
              "Training: |          | 0/? [00:00<?, ?it/s]"
            ],
            "application/vnd.jupyter.widget-view+json": {
              "version_major": 2,
              "version_minor": 0,
              "model_id": "26096372d9b3486890636f9c848b32ab"
            }
          },
          "metadata": {}
        },
        {
          "output_type": "stream",
          "name": "stderr",
          "text": [
            "INFO: `Trainer.fit` stopped: `max_epochs=10` reached.\n",
            "INFO:lightning.pytorch.utilities.rank_zero:`Trainer.fit` stopped: `max_epochs=10` reached.\n"
          ]
        }
      ],
      "source": [
        "trainer = L.Trainer(\n",
        "    max_epochs=10,\n",
        "    deterministic=True\n",
        ")\n",
        "model = LSTM(vocab_size, embedding_dim, hidden_dim, num_layers, dropout_rate, lr, criterion)\n",
        "\n",
        "pantip_train_dataset = TextDataset(pantip_train_text, sp_pantip)\n",
        "pantip_train_loader = DataLoader(pantip_train_dataset, batch_size = train_batch_size, shuffle = True)\n",
        "\n",
        "pantip_test_dataset = TextDataset(pantip_test_text, sp_pantip)\n",
        "pantip_test_loader = DataLoader(pantip_test_dataset, batch_size = test_batch_size, shuffle = False)\n",
        "\n",
        "pam_train_dataset = TextDataset(pam_train_text, sp_pantip)\n",
        "pam_train_loader = DataLoader(pam_train_dataset, batch_size = train_batch_size, shuffle = True)\n",
        "\n",
        "pam_test_dataset = TextDataset(pam_test_text, sp_pantip)\n",
        "pam_test_loader = DataLoader(pam_test_dataset, batch_size = test_batch_size, shuffle = False)\n",
        "\n",
        "trainer.fit(model, train_dataloaders=pantip_train_loader)"
      ]
    },
    {
      "cell_type": "code",
      "execution_count": null,
      "metadata": {
        "id": "1e-Y1_GYy65g",
        "colab": {
          "base_uri": "https://localhost:8080/",
          "height": 190,
          "referenced_widgets": [
            "e89e65ea663c42abbaddc2c3062561c3",
            "c9492a8649044c768f26e06adea9f0b1",
            "e7f81a80ec794bcbabcc3b1793768c41",
            "17c80aa85e054e289c287edacafb1604",
            "a5a18e3247cc46e2ac26094821eacb69",
            "f49bb7abc78b47e8907ece0ea4d4389b",
            "d88d54a9f2274ab789444d4a8d95be4a",
            "3ef1a3237efa48d9aedacc15e99ba947",
            "3fd52f7c7386463484a1b97a1f41915e",
            "6e8618abdb0749fe94b91739c462f5d8",
            "061c13237afc41f2a6d72e52e8cddea9"
          ]
        },
        "outputId": "385e2fc8-aecc-4ad9-f712-f4c1b7828640"
      },
      "outputs": [
        {
          "output_type": "stream",
          "name": "stderr",
          "text": [
            "INFO: LOCAL_RANK: 0 - CUDA_VISIBLE_DEVICES: [0]\n",
            "INFO:lightning.pytorch.accelerators.cuda:LOCAL_RANK: 0 - CUDA_VISIBLE_DEVICES: [0]\n",
            "/usr/local/lib/python3.10/dist-packages/lightning/pytorch/trainer/connectors/data_connector.py:476: Your `test_dataloader`'s sampler has shuffling enabled, it is strongly recommended that you turn shuffling off for val/test dataloaders.\n"
          ]
        },
        {
          "output_type": "display_data",
          "data": {
            "text/plain": [
              "Testing: |          | 0/? [00:00<?, ?it/s]"
            ],
            "application/vnd.jupyter.widget-view+json": {
              "version_major": 2,
              "version_minor": 0,
              "model_id": "e89e65ea663c42abbaddc2c3062561c3"
            }
          },
          "metadata": {}
        },
        {
          "output_type": "stream",
          "name": "stdout",
          "text": [
            "Perplexity on Pantip train set is:\t71.43131527344208\n",
            "Perplexity on Pra apai manee train set is:\t119.03102056999516\n",
            "Perplexity on Pantip test set is:\t107.07077318573974\n",
            "Perplexity on Pra apai manee test set is:\t121.54718064775484\n"
          ]
        }
      ],
      "source": [
        "test_result = trainer.test(model, dataloaders=[pantip_train_loader, pam_train_loader, pantip_test_loader,pam_test_loader], verbose=False)\n",
        "\n",
        "print(f\"Perplexity on Pantip train set is:\\t{np.exp(test_result[0]['test_loss/dataloader_idx_0'])}\")\n",
        "print(f\"Perplexity on Pra apai manee train set is:\\t{np.exp(test_result[1]['test_loss/dataloader_idx_1'])}\")\n",
        "print(f\"Perplexity on Pantip test set is:\\t{np.exp(test_result[2]['test_loss/dataloader_idx_2'])}\")\n",
        "print(f\"Perplexity on Pra apai manee test set is:\\t{np.exp(test_result[3]['test_loss/dataloader_idx_3'])}\")"
      ]
    },
    {
      "cell_type": "markdown",
      "metadata": {
        "id": "7s3AmE4nDjmL"
      },
      "source": [
        "<a name=\"no2\"></a>\n",
        "#### 2. Training on Pantip data with Pra apai manee tokenizer"
      ]
    },
    {
      "cell_type": "code",
      "execution_count": null,
      "metadata": {
        "id": "vfRdW3m1Dmj_",
        "colab": {
          "base_uri": "https://localhost:8080/",
          "height": 743,
          "referenced_widgets": [
            "97b6c41be82e4bd9a8885b2abbba1d43",
            "9a8cdb4d144e49acac467a134c24eaf5",
            "1017bbd767624a00841dc0ffc5351e49",
            "97a53d746b734ab989b3864ffa5d25e3",
            "5b143f5caf9b4528bfe5df975a5b29a1",
            "ff33357879fd44b48ee034a06c534e45",
            "30452da80ef0482286b275dc3c78ccff",
            "c8f1f736d02e4e6084c2ee35cec00ada",
            "8f5783f349df4ec8b4180058aa03ba8e",
            "1ee6577d03854f598770d3d3ff8fd11c",
            "3131da52b61f42608ec69c150a2ce7f6"
          ]
        },
        "outputId": "02f5f422-12e0-4f56-be10-25e927370847"
      },
      "outputs": [
        {
          "output_type": "stream",
          "name": "stderr",
          "text": [
            "INFO: GPU available: True (cuda), used: True\n",
            "INFO:lightning.pytorch.utilities.rank_zero:GPU available: True (cuda), used: True\n",
            "INFO: TPU available: False, using: 0 TPU cores\n",
            "INFO:lightning.pytorch.utilities.rank_zero:TPU available: False, using: 0 TPU cores\n",
            "INFO: HPU available: False, using: 0 HPUs\n",
            "INFO:lightning.pytorch.utilities.rank_zero:HPU available: False, using: 0 HPUs\n",
            "INFO: LOCAL_RANK: 0 - CUDA_VISIBLE_DEVICES: [0]\n",
            "INFO:lightning.pytorch.accelerators.cuda:LOCAL_RANK: 0 - CUDA_VISIBLE_DEVICES: [0]\n",
            "INFO: \n",
            "  | Name      | Type             | Params | Mode \n",
            "-------------------------------------------------------\n",
            "0 | embedding | Embedding        | 200 K  | train\n",
            "1 | lstm      | LSTM             | 5.7 M  | train\n",
            "2 | dropout   | Dropout          | 0      | train\n",
            "3 | fc        | Linear           | 513 K  | train\n",
            "4 | criterion | CrossEntropyLoss | 0      | train\n",
            "-------------------------------------------------------\n",
            "6.4 M     Trainable params\n",
            "0         Non-trainable params\n",
            "6.4 M     Total params\n",
            "25.511    Total estimated model params size (MB)\n",
            "5         Modules in train mode\n",
            "0         Modules in eval mode\n",
            "INFO:lightning.pytorch.callbacks.model_summary:\n",
            "  | Name      | Type             | Params | Mode \n",
            "-------------------------------------------------------\n",
            "0 | embedding | Embedding        | 200 K  | train\n",
            "1 | lstm      | LSTM             | 5.7 M  | train\n",
            "2 | dropout   | Dropout          | 0      | train\n",
            "3 | fc        | Linear           | 513 K  | train\n",
            "4 | criterion | CrossEntropyLoss | 0      | train\n",
            "-------------------------------------------------------\n",
            "6.4 M     Trainable params\n",
            "0         Non-trainable params\n",
            "6.4 M     Total params\n",
            "25.511    Total estimated model params size (MB)\n",
            "5         Modules in train mode\n",
            "0         Modules in eval mode\n"
          ]
        },
        {
          "output_type": "display_data",
          "data": {
            "text/plain": [
              "Training: |          | 0/? [00:00<?, ?it/s]"
            ],
            "application/vnd.jupyter.widget-view+json": {
              "version_major": 2,
              "version_minor": 0,
              "model_id": "97b6c41be82e4bd9a8885b2abbba1d43"
            }
          },
          "metadata": {}
        },
        {
          "output_type": "stream",
          "name": "stderr",
          "text": [
            "INFO: `Trainer.fit` stopped: `max_epochs=10` reached.\n",
            "INFO:lightning.pytorch.utilities.rank_zero:`Trainer.fit` stopped: `max_epochs=10` reached.\n"
          ]
        }
      ],
      "source": [
        "trainer = L.Trainer(\n",
        "    max_epochs=10,\n",
        "    deterministic=True\n",
        ")\n",
        "model = LSTM(vocab_size, embedding_dim, hidden_dim, num_layers, dropout_rate, lr, criterion)\n",
        "\n",
        "pantip_train_dataset = TextDataset(pantip_train_text, sp_pam)\n",
        "pantip_train_loader = DataLoader(pantip_train_dataset, batch_size = train_batch_size, shuffle = True)\n",
        "\n",
        "pantip_test_dataset = TextDataset(pantip_test_text, sp_pam)\n",
        "pantip_test_loader = DataLoader(pantip_test_dataset, batch_size = test_batch_size, shuffle = False)\n",
        "\n",
        "pam_train_dataset = TextDataset(pam_train_text, sp_pam)\n",
        "pam_train_loader = DataLoader(pam_train_dataset, batch_size = train_batch_size, shuffle = True)\n",
        "\n",
        "pam_test_dataset = TextDataset(pam_test_text, sp_pam)\n",
        "pam_test_loader = DataLoader(pam_test_dataset, batch_size = test_batch_size, shuffle = False)\n",
        "\n",
        "trainer.fit(model, train_dataloaders=pantip_train_loader)"
      ]
    },
    {
      "cell_type": "code",
      "execution_count": null,
      "metadata": {
        "id": "xwLN1IarD3g9",
        "colab": {
          "base_uri": "https://localhost:8080/",
          "height": 153,
          "referenced_widgets": [
            "1d0afe0b633d44eaa7d8ade27ae42778",
            "b21bff28ed2e4e598334026596eaec74",
            "3f222d48f3bf4411a29504544da68480",
            "038d17949b1f480ca01bab6dbe2b9b4c",
            "39e46b12f4544e5f9b294c62b819c1a0",
            "fb4d89b4976f41eca3c1b6f61a5942ce",
            "d1b7211b6e074902b477cd852dc09806",
            "e0b83d39f47240dcb0013805272de32c",
            "eeb9da9c31054d19a056ed35fbcecdef",
            "f0379b975436467089fee25c4b2cb350",
            "03faea99e5bd495287e771c5ffa42090"
          ]
        },
        "outputId": "2d91f3bb-dcb3-4083-9531-c2d9c22ad514"
      },
      "outputs": [
        {
          "output_type": "stream",
          "name": "stderr",
          "text": [
            "INFO: LOCAL_RANK: 0 - CUDA_VISIBLE_DEVICES: [0]\n",
            "INFO:lightning.pytorch.accelerators.cuda:LOCAL_RANK: 0 - CUDA_VISIBLE_DEVICES: [0]\n"
          ]
        },
        {
          "output_type": "display_data",
          "data": {
            "text/plain": [
              "Testing: |          | 0/? [00:00<?, ?it/s]"
            ],
            "application/vnd.jupyter.widget-view+json": {
              "version_major": 2,
              "version_minor": 0,
              "model_id": "1d0afe0b633d44eaa7d8ade27ae42778"
            }
          },
          "metadata": {}
        },
        {
          "output_type": "stream",
          "name": "stdout",
          "text": [
            "Perplexity on Pantip train set is:\t32.2488034383008\n",
            "Perplexity on Pra apai manee train set is:\t464.6393798964347\n",
            "Perplexity on Pantip test set is:\t43.66749208870022\n",
            "Perplexity on Pra apai manee test set is:\t436.0695305647203\n"
          ]
        }
      ],
      "source": [
        "test_result = trainer.test(model, dataloaders=[pantip_train_loader, pam_train_loader, pantip_test_loader,pam_test_loader], verbose=False)\n",
        "\n",
        "print(f\"Perplexity on Pantip train set is:\\t{np.exp(test_result[0]['test_loss/dataloader_idx_0'])}\")\n",
        "print(f\"Perplexity on Pra apai manee train set is:\\t{np.exp(test_result[1]['test_loss/dataloader_idx_1'])}\")\n",
        "print(f\"Perplexity on Pantip test set is:\\t{np.exp(test_result[2]['test_loss/dataloader_idx_2'])}\")\n",
        "print(f\"Perplexity on Pra apai manee test set is:\\t{np.exp(test_result[3]['test_loss/dataloader_idx_3'])}\")"
      ]
    },
    {
      "cell_type": "markdown",
      "metadata": {
        "id": "NB8zqptTWcA6"
      },
      "source": [
        "#### To answer\n",
        "\n",
        "The perplexity numbers should indicate that:\n",
        "1. Training the LM with Pra apai manee tokenizer on Pantip (no. [2](#no2)) results in overfitting to Pantip and poor generalization to the Pra apai manee dataset.\n",
        "2. However using the Pantip tokenizer (no. [1](#no1)) results in a much better generalization.\n",
        "\n",
        "Try and come up with some reasons for the results above. <br>\n",
        "Hint:\n",
        "1. think about \"general\" vocabs and domain-specific vocabs.\n",
        "2. what do you think happens to the model when the token ids become longer."
      ]
    },
    {
      "cell_type": "code",
      "execution_count": null,
      "metadata": {
        "id": "TmHGQf2saPj_"
      },
      "outputs": [],
      "source": [
        "\"\"\"\n",
        "Training a model with a domain-specific tokenizer like using Pam tokenizer on Pantip dataset\n",
        "cause the model to not able to capture the generalized pattern used in panthip datasets.\n",
        "Since the model's tokenizer only have fimilar with Pam vocabs which are not generalized.\n",
        "The model will end up memorizing the patterns without actually learning it.\n",
        "Which leads to overfitting on training data, which is Pantip data.\n",
        "\n",
        "When token ids become longer, it might be better since the model will capture more subword patterns and maybe even into character level\n",
        "which can improve handling of rare words but the computational cost is higher.\n",
        "\"\"\""
      ]
    },
    {
      "cell_type": "markdown",
      "metadata": {
        "id": "y8VPMm7pLdSl"
      },
      "source": [
        "\n",
        "<a name=\"no3\"></a>\n",
        "#### 3. Training on Pra apai manee data with Pantip tokenizer\n"
      ]
    },
    {
      "cell_type": "code",
      "execution_count": null,
      "metadata": {
        "id": "oR5fp-YCLnnU",
        "colab": {
          "base_uri": "https://localhost:8080/",
          "height": 743,
          "referenced_widgets": [
            "1c231ad5204748c49d00cbabf66c0dc1",
            "2dc0ef88b8f5456e87bed8941f43952b",
            "6b7e3df4f98840c6a0af8857999f0121",
            "9e96d56e4d36402d8db40ee6708b53e0",
            "a40ce9da56114617bbe1b1c3a9b37f95",
            "63aa5c2515e449aa82cdc6d577eba445",
            "2f4699e6e20b409d9efe6f8caec7ee76",
            "ffcbe81df7dc4607b102d0e980f56684",
            "ed1d80580d4f4632890055ae52c3121b",
            "602580198d2c46a9a1714eb7d5d343c2",
            "2ba0c63c7a0a45f19588566be1bacaa2"
          ]
        },
        "outputId": "43862ce8-886d-4aeb-9fc2-2928bffddfa6"
      },
      "outputs": [
        {
          "output_type": "stream",
          "name": "stderr",
          "text": [
            "INFO: GPU available: True (cuda), used: True\n",
            "INFO:lightning.pytorch.utilities.rank_zero:GPU available: True (cuda), used: True\n",
            "INFO: TPU available: False, using: 0 TPU cores\n",
            "INFO:lightning.pytorch.utilities.rank_zero:TPU available: False, using: 0 TPU cores\n",
            "INFO: HPU available: False, using: 0 HPUs\n",
            "INFO:lightning.pytorch.utilities.rank_zero:HPU available: False, using: 0 HPUs\n",
            "INFO: LOCAL_RANK: 0 - CUDA_VISIBLE_DEVICES: [0]\n",
            "INFO:lightning.pytorch.accelerators.cuda:LOCAL_RANK: 0 - CUDA_VISIBLE_DEVICES: [0]\n",
            "INFO: \n",
            "  | Name      | Type             | Params | Mode \n",
            "-------------------------------------------------------\n",
            "0 | embedding | Embedding        | 200 K  | train\n",
            "1 | lstm      | LSTM             | 5.7 M  | train\n",
            "2 | dropout   | Dropout          | 0      | train\n",
            "3 | fc        | Linear           | 513 K  | train\n",
            "4 | criterion | CrossEntropyLoss | 0      | train\n",
            "-------------------------------------------------------\n",
            "6.4 M     Trainable params\n",
            "0         Non-trainable params\n",
            "6.4 M     Total params\n",
            "25.511    Total estimated model params size (MB)\n",
            "5         Modules in train mode\n",
            "0         Modules in eval mode\n",
            "INFO:lightning.pytorch.callbacks.model_summary:\n",
            "  | Name      | Type             | Params | Mode \n",
            "-------------------------------------------------------\n",
            "0 | embedding | Embedding        | 200 K  | train\n",
            "1 | lstm      | LSTM             | 5.7 M  | train\n",
            "2 | dropout   | Dropout          | 0      | train\n",
            "3 | fc        | Linear           | 513 K  | train\n",
            "4 | criterion | CrossEntropyLoss | 0      | train\n",
            "-------------------------------------------------------\n",
            "6.4 M     Trainable params\n",
            "0         Non-trainable params\n",
            "6.4 M     Total params\n",
            "25.511    Total estimated model params size (MB)\n",
            "5         Modules in train mode\n",
            "0         Modules in eval mode\n"
          ]
        },
        {
          "output_type": "display_data",
          "data": {
            "text/plain": [
              "Training: |          | 0/? [00:00<?, ?it/s]"
            ],
            "application/vnd.jupyter.widget-view+json": {
              "version_major": 2,
              "version_minor": 0,
              "model_id": "1c231ad5204748c49d00cbabf66c0dc1"
            }
          },
          "metadata": {}
        },
        {
          "output_type": "stream",
          "name": "stderr",
          "text": [
            "INFO: `Trainer.fit` stopped: `max_epochs=10` reached.\n",
            "INFO:lightning.pytorch.utilities.rank_zero:`Trainer.fit` stopped: `max_epochs=10` reached.\n"
          ]
        }
      ],
      "source": [
        "trainer = L.Trainer(\n",
        "    max_epochs=10,\n",
        "    deterministic=True\n",
        ")\n",
        "model = LSTM(vocab_size, embedding_dim, hidden_dim, num_layers, dropout_rate, lr, criterion)\n",
        "\n",
        "pantip_train_dataset = TextDataset(pantip_train_text, sp_pantip)\n",
        "pantip_train_loader = DataLoader(pantip_train_dataset, batch_size = train_batch_size, shuffle = True)\n",
        "\n",
        "pantip_test_dataset = TextDataset(pantip_test_text, sp_pantip)\n",
        "pantip_test_loader = DataLoader(pantip_test_dataset, batch_size = test_batch_size, shuffle = False)\n",
        "\n",
        "pam_train_dataset = TextDataset(pam_train_text, sp_pantip)\n",
        "pam_train_loader = DataLoader(pam_train_dataset, batch_size = train_batch_size, shuffle = True)\n",
        "\n",
        "pam_test_dataset = TextDataset(pam_test_text, sp_pantip)\n",
        "pam_test_loader = DataLoader(pam_test_dataset, batch_size = test_batch_size, shuffle = False)\n",
        "\n",
        "trainer.fit(model, train_dataloaders=pam_train_loader)"
      ]
    },
    {
      "cell_type": "code",
      "execution_count": null,
      "metadata": {
        "id": "f_LhF7w7Lxwo",
        "colab": {
          "base_uri": "https://localhost:8080/",
          "height": 153,
          "referenced_widgets": [
            "985dc64995e24bfca9d1db21105bad92",
            "476d50d7fcda48a1ba6695fb452af4d3",
            "34745a7eb09443e2bf4bba7ebfff9a01",
            "ebd679afbb14451399c88d855c47670f",
            "84f4f9b11b6046d88a1a461c63326c23",
            "1cfa5cea727b4f259bddb9b94c4b5aa2",
            "436ebcaee52c4181980538ac938bd5fd",
            "19a791ce1dc84b6ba4924349d28d7850",
            "3aa7fb2460b24a1ebc80910bcae494b3",
            "fdf555bd87b44c74a43404d9c9f7308b",
            "308319ab5ba54a3090ec0c7c0792c356"
          ]
        },
        "outputId": "8e775fcc-2dcd-4bee-ad6c-8ab9db8d0c76"
      },
      "outputs": [
        {
          "output_type": "stream",
          "name": "stderr",
          "text": [
            "INFO: LOCAL_RANK: 0 - CUDA_VISIBLE_DEVICES: [0]\n",
            "INFO:lightning.pytorch.accelerators.cuda:LOCAL_RANK: 0 - CUDA_VISIBLE_DEVICES: [0]\n"
          ]
        },
        {
          "output_type": "display_data",
          "data": {
            "text/plain": [
              "Testing: |          | 0/? [00:00<?, ?it/s]"
            ],
            "application/vnd.jupyter.widget-view+json": {
              "version_major": 2,
              "version_minor": 0,
              "model_id": "985dc64995e24bfca9d1db21105bad92"
            }
          },
          "metadata": {}
        },
        {
          "output_type": "stream",
          "name": "stdout",
          "text": [
            "Perplexity on Pantip train set is:\t3705.300941219527\n",
            "Perplexity on Pra apai manee train set is:\t35.82152279791863\n",
            "Perplexity on Pantip test set is:\t3069.673364227882\n",
            "Perplexity on Pra apai manee test set is:\t39.19618183879924\n"
          ]
        }
      ],
      "source": [
        "test_result = trainer.test(model, dataloaders=[pantip_train_loader, pam_train_loader, pantip_test_loader,pam_test_loader], verbose=False)\n",
        "\n",
        "print(f\"Perplexity on Pantip train set is:\\t{np.exp(test_result[0]['test_loss/dataloader_idx_0'])}\")\n",
        "print(f\"Perplexity on Pra apai manee train set is:\\t{np.exp(test_result[1]['test_loss/dataloader_idx_1'])}\")\n",
        "print(f\"Perplexity on Pantip test set is:\\t{np.exp(test_result[2]['test_loss/dataloader_idx_2'])}\")\n",
        "print(f\"Perplexity on Pra apai manee test set is:\\t{np.exp(test_result[3]['test_loss/dataloader_idx_3'])}\")"
      ]
    },
    {
      "cell_type": "markdown",
      "metadata": {
        "id": "apk9crJjMLoW"
      },
      "source": [
        "<a name=\"no4\"></a>\n",
        "#### 4. Training on Pra apai manee data with Pra apai manee tokenizer\n",
        "\n",
        "\n"
      ]
    },
    {
      "cell_type": "code",
      "execution_count": null,
      "metadata": {
        "id": "_G7GMBIKLzGK",
        "colab": {
          "base_uri": "https://localhost:8080/",
          "height": 780,
          "referenced_widgets": [
            "38b51a251e384480b555d8850553a214",
            "e834717816094a32b8334bf30d6280d8",
            "40ba1704bb6e4414aa9e684d20df0690",
            "7b3ca980773241c0af10681a0ac25554",
            "74fb2909832c4e408c36f0fca7ef8ad0",
            "e37103c251b94b04b90987100b66150f",
            "55d21debeca448a1991ab771e374b5d5",
            "56d28e9560854e3a854eaa1dcf731122",
            "b801324555db44a988b2c0c1163a7cd4",
            "e462cf709d5f487bb6ff1dec47c32e16",
            "e25661f6b7374b47acd1fa6814235b8e"
          ]
        },
        "outputId": "0e3e961c-3072-4adf-bb9c-9416fb33c915"
      },
      "outputs": [
        {
          "output_type": "stream",
          "name": "stderr",
          "text": [
            "INFO: GPU available: True (cuda), used: True\n",
            "INFO:lightning.pytorch.utilities.rank_zero:GPU available: True (cuda), used: True\n",
            "INFO: TPU available: False, using: 0 TPU cores\n",
            "INFO:lightning.pytorch.utilities.rank_zero:TPU available: False, using: 0 TPU cores\n",
            "INFO: HPU available: False, using: 0 HPUs\n",
            "INFO:lightning.pytorch.utilities.rank_zero:HPU available: False, using: 0 HPUs\n",
            "INFO: LOCAL_RANK: 0 - CUDA_VISIBLE_DEVICES: [0]\n",
            "INFO:lightning.pytorch.accelerators.cuda:LOCAL_RANK: 0 - CUDA_VISIBLE_DEVICES: [0]\n",
            "INFO: \n",
            "  | Name      | Type             | Params | Mode \n",
            "-------------------------------------------------------\n",
            "0 | embedding | Embedding        | 200 K  | train\n",
            "1 | lstm      | LSTM             | 5.7 M  | train\n",
            "2 | dropout   | Dropout          | 0      | train\n",
            "3 | fc        | Linear           | 513 K  | train\n",
            "4 | criterion | CrossEntropyLoss | 0      | train\n",
            "-------------------------------------------------------\n",
            "6.4 M     Trainable params\n",
            "0         Non-trainable params\n",
            "6.4 M     Total params\n",
            "25.511    Total estimated model params size (MB)\n",
            "5         Modules in train mode\n",
            "0         Modules in eval mode\n",
            "INFO:lightning.pytorch.callbacks.model_summary:\n",
            "  | Name      | Type             | Params | Mode \n",
            "-------------------------------------------------------\n",
            "0 | embedding | Embedding        | 200 K  | train\n",
            "1 | lstm      | LSTM             | 5.7 M  | train\n",
            "2 | dropout   | Dropout          | 0      | train\n",
            "3 | fc        | Linear           | 513 K  | train\n",
            "4 | criterion | CrossEntropyLoss | 0      | train\n",
            "-------------------------------------------------------\n",
            "6.4 M     Trainable params\n",
            "0         Non-trainable params\n",
            "6.4 M     Total params\n",
            "25.511    Total estimated model params size (MB)\n",
            "5         Modules in train mode\n",
            "0         Modules in eval mode\n",
            "/usr/local/lib/python3.10/dist-packages/lightning/pytorch/loops/fit_loop.py:310: The number of training batches (48) is smaller than the logging interval Trainer(log_every_n_steps=50). Set a lower value for log_every_n_steps if you want to see logs for the training epoch.\n"
          ]
        },
        {
          "output_type": "display_data",
          "data": {
            "text/plain": [
              "Training: |          | 0/? [00:00<?, ?it/s]"
            ],
            "application/vnd.jupyter.widget-view+json": {
              "version_major": 2,
              "version_minor": 0,
              "model_id": "38b51a251e384480b555d8850553a214"
            }
          },
          "metadata": {}
        },
        {
          "output_type": "stream",
          "name": "stderr",
          "text": [
            "INFO: `Trainer.fit` stopped: `max_epochs=10` reached.\n",
            "INFO:lightning.pytorch.utilities.rank_zero:`Trainer.fit` stopped: `max_epochs=10` reached.\n"
          ]
        }
      ],
      "source": [
        "trainer = L.Trainer(\n",
        "    max_epochs=10,\n",
        "    deterministic=True\n",
        ")\n",
        "model = LSTM(vocab_size, embedding_dim, hidden_dim, num_layers, dropout_rate, lr, criterion)\n",
        "\n",
        "pantip_train_dataset = TextDataset(pantip_train_text, sp_pam)\n",
        "pantip_train_loader = DataLoader(pantip_train_dataset, batch_size = train_batch_size, shuffle = True)\n",
        "\n",
        "pantip_test_dataset = TextDataset(pantip_test_text, sp_pam)\n",
        "pantip_test_loader = DataLoader(pantip_test_dataset, batch_size = test_batch_size, shuffle = False)\n",
        "\n",
        "pam_train_dataset = TextDataset(pam_train_text, sp_pam)\n",
        "pam_train_loader = DataLoader(pam_train_dataset, batch_size = train_batch_size, shuffle = True)\n",
        "\n",
        "pam_test_dataset = TextDataset(pam_test_text, sp_pam)\n",
        "pam_test_loader = DataLoader(pam_test_dataset, batch_size = test_batch_size, shuffle = False)\n",
        "\n",
        "trainer.fit(model, train_dataloaders=pam_train_loader)"
      ]
    },
    {
      "cell_type": "code",
      "execution_count": null,
      "metadata": {
        "id": "9H753o_JMRFw",
        "colab": {
          "base_uri": "https://localhost:8080/",
          "height": 153,
          "referenced_widgets": [
            "722875871df3416f89e2e824fc839d26",
            "36ff85801d12483eb07f3fe27bb966c0",
            "3f3779e2efaa4c6c9395fecd39ca6055",
            "2ec63ee73e3b42819591850fefea6fd0",
            "056833f6c41d42cb81474157a44221fd",
            "c00f554ac104458eaa9b77882a312937",
            "23481977d1344113be7300f67827c23a",
            "59bb7a4deee54850bcfe9f88b1ca57c9",
            "602aaf0710d54f2b992bd3cc0eb17805",
            "92f42b63996947ff916e0abce864a383",
            "379f0e26e2104d32844dc51c582bc5a1"
          ]
        },
        "outputId": "c0830b64-e46b-4a73-db0c-d1b89730ebb8"
      },
      "outputs": [
        {
          "output_type": "stream",
          "name": "stderr",
          "text": [
            "INFO: LOCAL_RANK: 0 - CUDA_VISIBLE_DEVICES: [0]\n",
            "INFO:lightning.pytorch.accelerators.cuda:LOCAL_RANK: 0 - CUDA_VISIBLE_DEVICES: [0]\n"
          ]
        },
        {
          "output_type": "display_data",
          "data": {
            "text/plain": [
              "Testing: |          | 0/? [00:00<?, ?it/s]"
            ],
            "application/vnd.jupyter.widget-view+json": {
              "version_major": 2,
              "version_minor": 0,
              "model_id": "722875871df3416f89e2e824fc839d26"
            }
          },
          "metadata": {}
        },
        {
          "output_type": "stream",
          "name": "stdout",
          "text": [
            "Perplexity on Pantip train set is:\t546.5363328008725\n",
            "Perplexity on Pra apai manee train set is:\t76.10995488503019\n",
            "Perplexity on Pantip test set is:\t530.2536537341476\n",
            "Perplexity on Pra apai manee test set is:\t86.42270668485293\n"
          ]
        }
      ],
      "source": [
        "test_result = trainer.test(model, dataloaders=[pantip_train_loader, pam_train_loader, pantip_test_loader,pam_test_loader], verbose=False)\n",
        "\n",
        "print(f\"Perplexity on Pantip train set is:\\t{np.exp(test_result[0]['test_loss/dataloader_idx_0'])}\")\n",
        "print(f\"Perplexity on Pra apai manee train set is:\\t{np.exp(test_result[1]['test_loss/dataloader_idx_1'])}\")\n",
        "print(f\"Perplexity on Pantip test set is:\\t{np.exp(test_result[2]['test_loss/dataloader_idx_2'])}\")\n",
        "print(f\"Perplexity on Pra apai manee test set is:\\t{np.exp(test_result[3]['test_loss/dataloader_idx_3'])}\")"
      ]
    },
    {
      "cell_type": "markdown",
      "metadata": {
        "id": "en9Lmmj4dZ-1"
      },
      "source": [
        "#### To answer\n",
        "\n",
        "The perplexity numbers should indicate that:\n",
        "1. Both LM overfits on Pra apai manee data and performs really bad on Pantip data.\n",
        "2. However using the Pra apai manee tokenizer (no. [4](#no4)) results in a  better generalization than the Pantip tokenizer(no. [3](#no3)).\n",
        "\n",
        "Try and come up with some reasons for the results above. <br>"
      ]
    },
    {
      "cell_type": "code",
      "execution_count": null,
      "metadata": {
        "id": "HlE-mWSMfbv3"
      },
      "outputs": [],
      "source": [
        "\"\"\"\n",
        "Both models have a bad performance on Panthip data because it was trained on domain-specific data which is Pam.\n",
        "This leads to poor generalization on Pantip data that is more generalized data.\n",
        "\n",
        "\"Garbage in Garbage out\"\n",
        "\n",
        "But for no.4, Pam tokenizer results in a better generalization than the Pantip tokenizer no.3.\n",
        "Because we're using the same domain-specific data for tokenizer and data for training,\n",
        "Leads to the better results for Pam-related fields data.\n",
        "\"\"\""
      ]
    }
  ],
  "metadata": {
    "accelerator": "GPU",
    "colab": {
      "gpuType": "T4",
      "provenance": [],
      "toc_visible": true,
      "include_colab_link": true
    },
    "kernelspec": {
      "display_name": "Python 3",
      "name": "python3"
    },
    "language_info": {
      "name": "python"
    },
    "widgets": {
      "application/vnd.jupyter.widget-state+json": {
        "26096372d9b3486890636f9c848b32ab": {
          "model_module": "@jupyter-widgets/controls",
          "model_name": "HBoxModel",
          "model_module_version": "1.5.0",
          "state": {
            "_dom_classes": [],
            "_model_module": "@jupyter-widgets/controls",
            "_model_module_version": "1.5.0",
            "_model_name": "HBoxModel",
            "_view_count": null,
            "_view_module": "@jupyter-widgets/controls",
            "_view_module_version": "1.5.0",
            "_view_name": "HBoxView",
            "box_style": "",
            "children": [
              "IPY_MODEL_f4c585097bdc4c52a0969689b4f31573",
              "IPY_MODEL_cfe5c00490da4e76926487b24fd604eb",
              "IPY_MODEL_457a34b4ca3b4e5cbd61a456657c1448"
            ],
            "layout": "IPY_MODEL_31c4b6af3dee44de9e83c4b38f0ef2a6"
          }
        },
        "f4c585097bdc4c52a0969689b4f31573": {
          "model_module": "@jupyter-widgets/controls",
          "model_name": "HTMLModel",
          "model_module_version": "1.5.0",
          "state": {
            "_dom_classes": [],
            "_model_module": "@jupyter-widgets/controls",
            "_model_module_version": "1.5.0",
            "_model_name": "HTMLModel",
            "_view_count": null,
            "_view_module": "@jupyter-widgets/controls",
            "_view_module_version": "1.5.0",
            "_view_name": "HTMLView",
            "description": "",
            "description_tooltip": null,
            "layout": "IPY_MODEL_6c81c62f1b30443cadf6f43face641e7",
            "placeholder": "​",
            "style": "IPY_MODEL_678b14b17c8e478d9c92481273bd949d",
            "value": "Epoch 9: 100%"
          }
        },
        "cfe5c00490da4e76926487b24fd604eb": {
          "model_module": "@jupyter-widgets/controls",
          "model_name": "FloatProgressModel",
          "model_module_version": "1.5.0",
          "state": {
            "_dom_classes": [],
            "_model_module": "@jupyter-widgets/controls",
            "_model_module_version": "1.5.0",
            "_model_name": "FloatProgressModel",
            "_view_count": null,
            "_view_module": "@jupyter-widgets/controls",
            "_view_module_version": "1.5.0",
            "_view_name": "ProgressView",
            "bar_style": "success",
            "description": "",
            "description_tooltip": null,
            "layout": "IPY_MODEL_dc292207dfe2446a9518d8629693c3bb",
            "max": 44,
            "min": 0,
            "orientation": "horizontal",
            "style": "IPY_MODEL_54899febbbb44624bec5bb5a88c64df7",
            "value": 44
          }
        },
        "457a34b4ca3b4e5cbd61a456657c1448": {
          "model_module": "@jupyter-widgets/controls",
          "model_name": "HTMLModel",
          "model_module_version": "1.5.0",
          "state": {
            "_dom_classes": [],
            "_model_module": "@jupyter-widgets/controls",
            "_model_module_version": "1.5.0",
            "_model_name": "HTMLModel",
            "_view_count": null,
            "_view_module": "@jupyter-widgets/controls",
            "_view_module_version": "1.5.0",
            "_view_name": "HTMLView",
            "description": "",
            "description_tooltip": null,
            "layout": "IPY_MODEL_a12a03f0a701466ea4a3620c90c8eb60",
            "placeholder": "​",
            "style": "IPY_MODEL_40c9a750ef294534a6992167bbe63649",
            "value": " 44/44 [00:04&lt;00:00,  9.21it/s, v_num=0]"
          }
        },
        "31c4b6af3dee44de9e83c4b38f0ef2a6": {
          "model_module": "@jupyter-widgets/base",
          "model_name": "LayoutModel",
          "model_module_version": "1.2.0",
          "state": {
            "_model_module": "@jupyter-widgets/base",
            "_model_module_version": "1.2.0",
            "_model_name": "LayoutModel",
            "_view_count": null,
            "_view_module": "@jupyter-widgets/base",
            "_view_module_version": "1.2.0",
            "_view_name": "LayoutView",
            "align_content": null,
            "align_items": null,
            "align_self": null,
            "border": null,
            "bottom": null,
            "display": "inline-flex",
            "flex": null,
            "flex_flow": "row wrap",
            "grid_area": null,
            "grid_auto_columns": null,
            "grid_auto_flow": null,
            "grid_auto_rows": null,
            "grid_column": null,
            "grid_gap": null,
            "grid_row": null,
            "grid_template_areas": null,
            "grid_template_columns": null,
            "grid_template_rows": null,
            "height": null,
            "justify_content": null,
            "justify_items": null,
            "left": null,
            "margin": null,
            "max_height": null,
            "max_width": null,
            "min_height": null,
            "min_width": null,
            "object_fit": null,
            "object_position": null,
            "order": null,
            "overflow": null,
            "overflow_x": null,
            "overflow_y": null,
            "padding": null,
            "right": null,
            "top": null,
            "visibility": null,
            "width": "100%"
          }
        },
        "6c81c62f1b30443cadf6f43face641e7": {
          "model_module": "@jupyter-widgets/base",
          "model_name": "LayoutModel",
          "model_module_version": "1.2.0",
          "state": {
            "_model_module": "@jupyter-widgets/base",
            "_model_module_version": "1.2.0",
            "_model_name": "LayoutModel",
            "_view_count": null,
            "_view_module": "@jupyter-widgets/base",
            "_view_module_version": "1.2.0",
            "_view_name": "LayoutView",
            "align_content": null,
            "align_items": null,
            "align_self": null,
            "border": null,
            "bottom": null,
            "display": null,
            "flex": null,
            "flex_flow": null,
            "grid_area": null,
            "grid_auto_columns": null,
            "grid_auto_flow": null,
            "grid_auto_rows": null,
            "grid_column": null,
            "grid_gap": null,
            "grid_row": null,
            "grid_template_areas": null,
            "grid_template_columns": null,
            "grid_template_rows": null,
            "height": null,
            "justify_content": null,
            "justify_items": null,
            "left": null,
            "margin": null,
            "max_height": null,
            "max_width": null,
            "min_height": null,
            "min_width": null,
            "object_fit": null,
            "object_position": null,
            "order": null,
            "overflow": null,
            "overflow_x": null,
            "overflow_y": null,
            "padding": null,
            "right": null,
            "top": null,
            "visibility": null,
            "width": null
          }
        },
        "678b14b17c8e478d9c92481273bd949d": {
          "model_module": "@jupyter-widgets/controls",
          "model_name": "DescriptionStyleModel",
          "model_module_version": "1.5.0",
          "state": {
            "_model_module": "@jupyter-widgets/controls",
            "_model_module_version": "1.5.0",
            "_model_name": "DescriptionStyleModel",
            "_view_count": null,
            "_view_module": "@jupyter-widgets/base",
            "_view_module_version": "1.2.0",
            "_view_name": "StyleView",
            "description_width": ""
          }
        },
        "dc292207dfe2446a9518d8629693c3bb": {
          "model_module": "@jupyter-widgets/base",
          "model_name": "LayoutModel",
          "model_module_version": "1.2.0",
          "state": {
            "_model_module": "@jupyter-widgets/base",
            "_model_module_version": "1.2.0",
            "_model_name": "LayoutModel",
            "_view_count": null,
            "_view_module": "@jupyter-widgets/base",
            "_view_module_version": "1.2.0",
            "_view_name": "LayoutView",
            "align_content": null,
            "align_items": null,
            "align_self": null,
            "border": null,
            "bottom": null,
            "display": null,
            "flex": "2",
            "flex_flow": null,
            "grid_area": null,
            "grid_auto_columns": null,
            "grid_auto_flow": null,
            "grid_auto_rows": null,
            "grid_column": null,
            "grid_gap": null,
            "grid_row": null,
            "grid_template_areas": null,
            "grid_template_columns": null,
            "grid_template_rows": null,
            "height": null,
            "justify_content": null,
            "justify_items": null,
            "left": null,
            "margin": null,
            "max_height": null,
            "max_width": null,
            "min_height": null,
            "min_width": null,
            "object_fit": null,
            "object_position": null,
            "order": null,
            "overflow": null,
            "overflow_x": null,
            "overflow_y": null,
            "padding": null,
            "right": null,
            "top": null,
            "visibility": null,
            "width": null
          }
        },
        "54899febbbb44624bec5bb5a88c64df7": {
          "model_module": "@jupyter-widgets/controls",
          "model_name": "ProgressStyleModel",
          "model_module_version": "1.5.0",
          "state": {
            "_model_module": "@jupyter-widgets/controls",
            "_model_module_version": "1.5.0",
            "_model_name": "ProgressStyleModel",
            "_view_count": null,
            "_view_module": "@jupyter-widgets/base",
            "_view_module_version": "1.2.0",
            "_view_name": "StyleView",
            "bar_color": null,
            "description_width": ""
          }
        },
        "a12a03f0a701466ea4a3620c90c8eb60": {
          "model_module": "@jupyter-widgets/base",
          "model_name": "LayoutModel",
          "model_module_version": "1.2.0",
          "state": {
            "_model_module": "@jupyter-widgets/base",
            "_model_module_version": "1.2.0",
            "_model_name": "LayoutModel",
            "_view_count": null,
            "_view_module": "@jupyter-widgets/base",
            "_view_module_version": "1.2.0",
            "_view_name": "LayoutView",
            "align_content": null,
            "align_items": null,
            "align_self": null,
            "border": null,
            "bottom": null,
            "display": null,
            "flex": null,
            "flex_flow": null,
            "grid_area": null,
            "grid_auto_columns": null,
            "grid_auto_flow": null,
            "grid_auto_rows": null,
            "grid_column": null,
            "grid_gap": null,
            "grid_row": null,
            "grid_template_areas": null,
            "grid_template_columns": null,
            "grid_template_rows": null,
            "height": null,
            "justify_content": null,
            "justify_items": null,
            "left": null,
            "margin": null,
            "max_height": null,
            "max_width": null,
            "min_height": null,
            "min_width": null,
            "object_fit": null,
            "object_position": null,
            "order": null,
            "overflow": null,
            "overflow_x": null,
            "overflow_y": null,
            "padding": null,
            "right": null,
            "top": null,
            "visibility": null,
            "width": null
          }
        },
        "40c9a750ef294534a6992167bbe63649": {
          "model_module": "@jupyter-widgets/controls",
          "model_name": "DescriptionStyleModel",
          "model_module_version": "1.5.0",
          "state": {
            "_model_module": "@jupyter-widgets/controls",
            "_model_module_version": "1.5.0",
            "_model_name": "DescriptionStyleModel",
            "_view_count": null,
            "_view_module": "@jupyter-widgets/base",
            "_view_module_version": "1.2.0",
            "_view_name": "StyleView",
            "description_width": ""
          }
        },
        "e89e65ea663c42abbaddc2c3062561c3": {
          "model_module": "@jupyter-widgets/controls",
          "model_name": "HBoxModel",
          "model_module_version": "1.5.0",
          "state": {
            "_dom_classes": [],
            "_model_module": "@jupyter-widgets/controls",
            "_model_module_version": "1.5.0",
            "_model_name": "HBoxModel",
            "_view_count": null,
            "_view_module": "@jupyter-widgets/controls",
            "_view_module_version": "1.5.0",
            "_view_name": "HBoxView",
            "box_style": "",
            "children": [
              "IPY_MODEL_c9492a8649044c768f26e06adea9f0b1",
              "IPY_MODEL_e7f81a80ec794bcbabcc3b1793768c41",
              "IPY_MODEL_17c80aa85e054e289c287edacafb1604"
            ],
            "layout": "IPY_MODEL_a5a18e3247cc46e2ac26094821eacb69"
          }
        },
        "c9492a8649044c768f26e06adea9f0b1": {
          "model_module": "@jupyter-widgets/controls",
          "model_name": "HTMLModel",
          "model_module_version": "1.5.0",
          "state": {
            "_dom_classes": [],
            "_model_module": "@jupyter-widgets/controls",
            "_model_module_version": "1.5.0",
            "_model_name": "HTMLModel",
            "_view_count": null,
            "_view_module": "@jupyter-widgets/controls",
            "_view_module_version": "1.5.0",
            "_view_name": "HTMLView",
            "description": "",
            "description_tooltip": null,
            "layout": "IPY_MODEL_f49bb7abc78b47e8907ece0ea4d4389b",
            "placeholder": "​",
            "style": "IPY_MODEL_d88d54a9f2274ab789444d4a8d95be4a",
            "value": "Testing DataLoader 3: 100%"
          }
        },
        "e7f81a80ec794bcbabcc3b1793768c41": {
          "model_module": "@jupyter-widgets/controls",
          "model_name": "FloatProgressModel",
          "model_module_version": "1.5.0",
          "state": {
            "_dom_classes": [],
            "_model_module": "@jupyter-widgets/controls",
            "_model_module_version": "1.5.0",
            "_model_name": "FloatProgressModel",
            "_view_count": null,
            "_view_module": "@jupyter-widgets/controls",
            "_view_module_version": "1.5.0",
            "_view_name": "ProgressView",
            "bar_style": "success",
            "description": "",
            "description_tooltip": null,
            "layout": "IPY_MODEL_3ef1a3237efa48d9aedacc15e99ba947",
            "max": 9,
            "min": 0,
            "orientation": "horizontal",
            "style": "IPY_MODEL_3fd52f7c7386463484a1b97a1f41915e",
            "value": 9
          }
        },
        "17c80aa85e054e289c287edacafb1604": {
          "model_module": "@jupyter-widgets/controls",
          "model_name": "HTMLModel",
          "model_module_version": "1.5.0",
          "state": {
            "_dom_classes": [],
            "_model_module": "@jupyter-widgets/controls",
            "_model_module_version": "1.5.0",
            "_model_name": "HTMLModel",
            "_view_count": null,
            "_view_module": "@jupyter-widgets/controls",
            "_view_module_version": "1.5.0",
            "_view_name": "HTMLView",
            "description": "",
            "description_tooltip": null,
            "layout": "IPY_MODEL_6e8618abdb0749fe94b91739c462f5d8",
            "placeholder": "​",
            "style": "IPY_MODEL_061c13237afc41f2a6d72e52e8cddea9",
            "value": " 9/9 [00:00&lt;00:00, 13.93it/s]"
          }
        },
        "a5a18e3247cc46e2ac26094821eacb69": {
          "model_module": "@jupyter-widgets/base",
          "model_name": "LayoutModel",
          "model_module_version": "1.2.0",
          "state": {
            "_model_module": "@jupyter-widgets/base",
            "_model_module_version": "1.2.0",
            "_model_name": "LayoutModel",
            "_view_count": null,
            "_view_module": "@jupyter-widgets/base",
            "_view_module_version": "1.2.0",
            "_view_name": "LayoutView",
            "align_content": null,
            "align_items": null,
            "align_self": null,
            "border": null,
            "bottom": null,
            "display": "inline-flex",
            "flex": null,
            "flex_flow": "row wrap",
            "grid_area": null,
            "grid_auto_columns": null,
            "grid_auto_flow": null,
            "grid_auto_rows": null,
            "grid_column": null,
            "grid_gap": null,
            "grid_row": null,
            "grid_template_areas": null,
            "grid_template_columns": null,
            "grid_template_rows": null,
            "height": null,
            "justify_content": null,
            "justify_items": null,
            "left": null,
            "margin": null,
            "max_height": null,
            "max_width": null,
            "min_height": null,
            "min_width": null,
            "object_fit": null,
            "object_position": null,
            "order": null,
            "overflow": null,
            "overflow_x": null,
            "overflow_y": null,
            "padding": null,
            "right": null,
            "top": null,
            "visibility": null,
            "width": "100%"
          }
        },
        "f49bb7abc78b47e8907ece0ea4d4389b": {
          "model_module": "@jupyter-widgets/base",
          "model_name": "LayoutModel",
          "model_module_version": "1.2.0",
          "state": {
            "_model_module": "@jupyter-widgets/base",
            "_model_module_version": "1.2.0",
            "_model_name": "LayoutModel",
            "_view_count": null,
            "_view_module": "@jupyter-widgets/base",
            "_view_module_version": "1.2.0",
            "_view_name": "LayoutView",
            "align_content": null,
            "align_items": null,
            "align_self": null,
            "border": null,
            "bottom": null,
            "display": null,
            "flex": null,
            "flex_flow": null,
            "grid_area": null,
            "grid_auto_columns": null,
            "grid_auto_flow": null,
            "grid_auto_rows": null,
            "grid_column": null,
            "grid_gap": null,
            "grid_row": null,
            "grid_template_areas": null,
            "grid_template_columns": null,
            "grid_template_rows": null,
            "height": null,
            "justify_content": null,
            "justify_items": null,
            "left": null,
            "margin": null,
            "max_height": null,
            "max_width": null,
            "min_height": null,
            "min_width": null,
            "object_fit": null,
            "object_position": null,
            "order": null,
            "overflow": null,
            "overflow_x": null,
            "overflow_y": null,
            "padding": null,
            "right": null,
            "top": null,
            "visibility": null,
            "width": null
          }
        },
        "d88d54a9f2274ab789444d4a8d95be4a": {
          "model_module": "@jupyter-widgets/controls",
          "model_name": "DescriptionStyleModel",
          "model_module_version": "1.5.0",
          "state": {
            "_model_module": "@jupyter-widgets/controls",
            "_model_module_version": "1.5.0",
            "_model_name": "DescriptionStyleModel",
            "_view_count": null,
            "_view_module": "@jupyter-widgets/base",
            "_view_module_version": "1.2.0",
            "_view_name": "StyleView",
            "description_width": ""
          }
        },
        "3ef1a3237efa48d9aedacc15e99ba947": {
          "model_module": "@jupyter-widgets/base",
          "model_name": "LayoutModel",
          "model_module_version": "1.2.0",
          "state": {
            "_model_module": "@jupyter-widgets/base",
            "_model_module_version": "1.2.0",
            "_model_name": "LayoutModel",
            "_view_count": null,
            "_view_module": "@jupyter-widgets/base",
            "_view_module_version": "1.2.0",
            "_view_name": "LayoutView",
            "align_content": null,
            "align_items": null,
            "align_self": null,
            "border": null,
            "bottom": null,
            "display": null,
            "flex": "2",
            "flex_flow": null,
            "grid_area": null,
            "grid_auto_columns": null,
            "grid_auto_flow": null,
            "grid_auto_rows": null,
            "grid_column": null,
            "grid_gap": null,
            "grid_row": null,
            "grid_template_areas": null,
            "grid_template_columns": null,
            "grid_template_rows": null,
            "height": null,
            "justify_content": null,
            "justify_items": null,
            "left": null,
            "margin": null,
            "max_height": null,
            "max_width": null,
            "min_height": null,
            "min_width": null,
            "object_fit": null,
            "object_position": null,
            "order": null,
            "overflow": null,
            "overflow_x": null,
            "overflow_y": null,
            "padding": null,
            "right": null,
            "top": null,
            "visibility": null,
            "width": null
          }
        },
        "3fd52f7c7386463484a1b97a1f41915e": {
          "model_module": "@jupyter-widgets/controls",
          "model_name": "ProgressStyleModel",
          "model_module_version": "1.5.0",
          "state": {
            "_model_module": "@jupyter-widgets/controls",
            "_model_module_version": "1.5.0",
            "_model_name": "ProgressStyleModel",
            "_view_count": null,
            "_view_module": "@jupyter-widgets/base",
            "_view_module_version": "1.2.0",
            "_view_name": "StyleView",
            "bar_color": null,
            "description_width": ""
          }
        },
        "6e8618abdb0749fe94b91739c462f5d8": {
          "model_module": "@jupyter-widgets/base",
          "model_name": "LayoutModel",
          "model_module_version": "1.2.0",
          "state": {
            "_model_module": "@jupyter-widgets/base",
            "_model_module_version": "1.2.0",
            "_model_name": "LayoutModel",
            "_view_count": null,
            "_view_module": "@jupyter-widgets/base",
            "_view_module_version": "1.2.0",
            "_view_name": "LayoutView",
            "align_content": null,
            "align_items": null,
            "align_self": null,
            "border": null,
            "bottom": null,
            "display": null,
            "flex": null,
            "flex_flow": null,
            "grid_area": null,
            "grid_auto_columns": null,
            "grid_auto_flow": null,
            "grid_auto_rows": null,
            "grid_column": null,
            "grid_gap": null,
            "grid_row": null,
            "grid_template_areas": null,
            "grid_template_columns": null,
            "grid_template_rows": null,
            "height": null,
            "justify_content": null,
            "justify_items": null,
            "left": null,
            "margin": null,
            "max_height": null,
            "max_width": null,
            "min_height": null,
            "min_width": null,
            "object_fit": null,
            "object_position": null,
            "order": null,
            "overflow": null,
            "overflow_x": null,
            "overflow_y": null,
            "padding": null,
            "right": null,
            "top": null,
            "visibility": null,
            "width": null
          }
        },
        "061c13237afc41f2a6d72e52e8cddea9": {
          "model_module": "@jupyter-widgets/controls",
          "model_name": "DescriptionStyleModel",
          "model_module_version": "1.5.0",
          "state": {
            "_model_module": "@jupyter-widgets/controls",
            "_model_module_version": "1.5.0",
            "_model_name": "DescriptionStyleModel",
            "_view_count": null,
            "_view_module": "@jupyter-widgets/base",
            "_view_module_version": "1.2.0",
            "_view_name": "StyleView",
            "description_width": ""
          }
        },
        "97b6c41be82e4bd9a8885b2abbba1d43": {
          "model_module": "@jupyter-widgets/controls",
          "model_name": "HBoxModel",
          "model_module_version": "1.5.0",
          "state": {
            "_dom_classes": [],
            "_model_module": "@jupyter-widgets/controls",
            "_model_module_version": "1.5.0",
            "_model_name": "HBoxModel",
            "_view_count": null,
            "_view_module": "@jupyter-widgets/controls",
            "_view_module_version": "1.5.0",
            "_view_name": "HBoxView",
            "box_style": "",
            "children": [
              "IPY_MODEL_9a8cdb4d144e49acac467a134c24eaf5",
              "IPY_MODEL_1017bbd767624a00841dc0ffc5351e49",
              "IPY_MODEL_97a53d746b734ab989b3864ffa5d25e3"
            ],
            "layout": "IPY_MODEL_5b143f5caf9b4528bfe5df975a5b29a1"
          }
        },
        "9a8cdb4d144e49acac467a134c24eaf5": {
          "model_module": "@jupyter-widgets/controls",
          "model_name": "HTMLModel",
          "model_module_version": "1.5.0",
          "state": {
            "_dom_classes": [],
            "_model_module": "@jupyter-widgets/controls",
            "_model_module_version": "1.5.0",
            "_model_name": "HTMLModel",
            "_view_count": null,
            "_view_module": "@jupyter-widgets/controls",
            "_view_module_version": "1.5.0",
            "_view_name": "HTMLView",
            "description": "",
            "description_tooltip": null,
            "layout": "IPY_MODEL_ff33357879fd44b48ee034a06c534e45",
            "placeholder": "​",
            "style": "IPY_MODEL_30452da80ef0482286b275dc3c78ccff",
            "value": "Epoch 9: 100%"
          }
        },
        "1017bbd767624a00841dc0ffc5351e49": {
          "model_module": "@jupyter-widgets/controls",
          "model_name": "FloatProgressModel",
          "model_module_version": "1.5.0",
          "state": {
            "_dom_classes": [],
            "_model_module": "@jupyter-widgets/controls",
            "_model_module_version": "1.5.0",
            "_model_name": "FloatProgressModel",
            "_view_count": null,
            "_view_module": "@jupyter-widgets/controls",
            "_view_module_version": "1.5.0",
            "_view_name": "ProgressView",
            "bar_style": "success",
            "description": "",
            "description_tooltip": null,
            "layout": "IPY_MODEL_c8f1f736d02e4e6084c2ee35cec00ada",
            "max": 51,
            "min": 0,
            "orientation": "horizontal",
            "style": "IPY_MODEL_8f5783f349df4ec8b4180058aa03ba8e",
            "value": 51
          }
        },
        "97a53d746b734ab989b3864ffa5d25e3": {
          "model_module": "@jupyter-widgets/controls",
          "model_name": "HTMLModel",
          "model_module_version": "1.5.0",
          "state": {
            "_dom_classes": [],
            "_model_module": "@jupyter-widgets/controls",
            "_model_module_version": "1.5.0",
            "_model_name": "HTMLModel",
            "_view_count": null,
            "_view_module": "@jupyter-widgets/controls",
            "_view_module_version": "1.5.0",
            "_view_name": "HTMLView",
            "description": "",
            "description_tooltip": null,
            "layout": "IPY_MODEL_1ee6577d03854f598770d3d3ff8fd11c",
            "placeholder": "​",
            "style": "IPY_MODEL_3131da52b61f42608ec69c150a2ce7f6",
            "value": " 51/51 [00:05&lt;00:00,  9.24it/s, v_num=1]"
          }
        },
        "5b143f5caf9b4528bfe5df975a5b29a1": {
          "model_module": "@jupyter-widgets/base",
          "model_name": "LayoutModel",
          "model_module_version": "1.2.0",
          "state": {
            "_model_module": "@jupyter-widgets/base",
            "_model_module_version": "1.2.0",
            "_model_name": "LayoutModel",
            "_view_count": null,
            "_view_module": "@jupyter-widgets/base",
            "_view_module_version": "1.2.0",
            "_view_name": "LayoutView",
            "align_content": null,
            "align_items": null,
            "align_self": null,
            "border": null,
            "bottom": null,
            "display": "inline-flex",
            "flex": null,
            "flex_flow": "row wrap",
            "grid_area": null,
            "grid_auto_columns": null,
            "grid_auto_flow": null,
            "grid_auto_rows": null,
            "grid_column": null,
            "grid_gap": null,
            "grid_row": null,
            "grid_template_areas": null,
            "grid_template_columns": null,
            "grid_template_rows": null,
            "height": null,
            "justify_content": null,
            "justify_items": null,
            "left": null,
            "margin": null,
            "max_height": null,
            "max_width": null,
            "min_height": null,
            "min_width": null,
            "object_fit": null,
            "object_position": null,
            "order": null,
            "overflow": null,
            "overflow_x": null,
            "overflow_y": null,
            "padding": null,
            "right": null,
            "top": null,
            "visibility": null,
            "width": "100%"
          }
        },
        "ff33357879fd44b48ee034a06c534e45": {
          "model_module": "@jupyter-widgets/base",
          "model_name": "LayoutModel",
          "model_module_version": "1.2.0",
          "state": {
            "_model_module": "@jupyter-widgets/base",
            "_model_module_version": "1.2.0",
            "_model_name": "LayoutModel",
            "_view_count": null,
            "_view_module": "@jupyter-widgets/base",
            "_view_module_version": "1.2.0",
            "_view_name": "LayoutView",
            "align_content": null,
            "align_items": null,
            "align_self": null,
            "border": null,
            "bottom": null,
            "display": null,
            "flex": null,
            "flex_flow": null,
            "grid_area": null,
            "grid_auto_columns": null,
            "grid_auto_flow": null,
            "grid_auto_rows": null,
            "grid_column": null,
            "grid_gap": null,
            "grid_row": null,
            "grid_template_areas": null,
            "grid_template_columns": null,
            "grid_template_rows": null,
            "height": null,
            "justify_content": null,
            "justify_items": null,
            "left": null,
            "margin": null,
            "max_height": null,
            "max_width": null,
            "min_height": null,
            "min_width": null,
            "object_fit": null,
            "object_position": null,
            "order": null,
            "overflow": null,
            "overflow_x": null,
            "overflow_y": null,
            "padding": null,
            "right": null,
            "top": null,
            "visibility": null,
            "width": null
          }
        },
        "30452da80ef0482286b275dc3c78ccff": {
          "model_module": "@jupyter-widgets/controls",
          "model_name": "DescriptionStyleModel",
          "model_module_version": "1.5.0",
          "state": {
            "_model_module": "@jupyter-widgets/controls",
            "_model_module_version": "1.5.0",
            "_model_name": "DescriptionStyleModel",
            "_view_count": null,
            "_view_module": "@jupyter-widgets/base",
            "_view_module_version": "1.2.0",
            "_view_name": "StyleView",
            "description_width": ""
          }
        },
        "c8f1f736d02e4e6084c2ee35cec00ada": {
          "model_module": "@jupyter-widgets/base",
          "model_name": "LayoutModel",
          "model_module_version": "1.2.0",
          "state": {
            "_model_module": "@jupyter-widgets/base",
            "_model_module_version": "1.2.0",
            "_model_name": "LayoutModel",
            "_view_count": null,
            "_view_module": "@jupyter-widgets/base",
            "_view_module_version": "1.2.0",
            "_view_name": "LayoutView",
            "align_content": null,
            "align_items": null,
            "align_self": null,
            "border": null,
            "bottom": null,
            "display": null,
            "flex": "2",
            "flex_flow": null,
            "grid_area": null,
            "grid_auto_columns": null,
            "grid_auto_flow": null,
            "grid_auto_rows": null,
            "grid_column": null,
            "grid_gap": null,
            "grid_row": null,
            "grid_template_areas": null,
            "grid_template_columns": null,
            "grid_template_rows": null,
            "height": null,
            "justify_content": null,
            "justify_items": null,
            "left": null,
            "margin": null,
            "max_height": null,
            "max_width": null,
            "min_height": null,
            "min_width": null,
            "object_fit": null,
            "object_position": null,
            "order": null,
            "overflow": null,
            "overflow_x": null,
            "overflow_y": null,
            "padding": null,
            "right": null,
            "top": null,
            "visibility": null,
            "width": null
          }
        },
        "8f5783f349df4ec8b4180058aa03ba8e": {
          "model_module": "@jupyter-widgets/controls",
          "model_name": "ProgressStyleModel",
          "model_module_version": "1.5.0",
          "state": {
            "_model_module": "@jupyter-widgets/controls",
            "_model_module_version": "1.5.0",
            "_model_name": "ProgressStyleModel",
            "_view_count": null,
            "_view_module": "@jupyter-widgets/base",
            "_view_module_version": "1.2.0",
            "_view_name": "StyleView",
            "bar_color": null,
            "description_width": ""
          }
        },
        "1ee6577d03854f598770d3d3ff8fd11c": {
          "model_module": "@jupyter-widgets/base",
          "model_name": "LayoutModel",
          "model_module_version": "1.2.0",
          "state": {
            "_model_module": "@jupyter-widgets/base",
            "_model_module_version": "1.2.0",
            "_model_name": "LayoutModel",
            "_view_count": null,
            "_view_module": "@jupyter-widgets/base",
            "_view_module_version": "1.2.0",
            "_view_name": "LayoutView",
            "align_content": null,
            "align_items": null,
            "align_self": null,
            "border": null,
            "bottom": null,
            "display": null,
            "flex": null,
            "flex_flow": null,
            "grid_area": null,
            "grid_auto_columns": null,
            "grid_auto_flow": null,
            "grid_auto_rows": null,
            "grid_column": null,
            "grid_gap": null,
            "grid_row": null,
            "grid_template_areas": null,
            "grid_template_columns": null,
            "grid_template_rows": null,
            "height": null,
            "justify_content": null,
            "justify_items": null,
            "left": null,
            "margin": null,
            "max_height": null,
            "max_width": null,
            "min_height": null,
            "min_width": null,
            "object_fit": null,
            "object_position": null,
            "order": null,
            "overflow": null,
            "overflow_x": null,
            "overflow_y": null,
            "padding": null,
            "right": null,
            "top": null,
            "visibility": null,
            "width": null
          }
        },
        "3131da52b61f42608ec69c150a2ce7f6": {
          "model_module": "@jupyter-widgets/controls",
          "model_name": "DescriptionStyleModel",
          "model_module_version": "1.5.0",
          "state": {
            "_model_module": "@jupyter-widgets/controls",
            "_model_module_version": "1.5.0",
            "_model_name": "DescriptionStyleModel",
            "_view_count": null,
            "_view_module": "@jupyter-widgets/base",
            "_view_module_version": "1.2.0",
            "_view_name": "StyleView",
            "description_width": ""
          }
        },
        "1d0afe0b633d44eaa7d8ade27ae42778": {
          "model_module": "@jupyter-widgets/controls",
          "model_name": "HBoxModel",
          "model_module_version": "1.5.0",
          "state": {
            "_dom_classes": [],
            "_model_module": "@jupyter-widgets/controls",
            "_model_module_version": "1.5.0",
            "_model_name": "HBoxModel",
            "_view_count": null,
            "_view_module": "@jupyter-widgets/controls",
            "_view_module_version": "1.5.0",
            "_view_name": "HBoxView",
            "box_style": "",
            "children": [
              "IPY_MODEL_b21bff28ed2e4e598334026596eaec74",
              "IPY_MODEL_3f222d48f3bf4411a29504544da68480",
              "IPY_MODEL_038d17949b1f480ca01bab6dbe2b9b4c"
            ],
            "layout": "IPY_MODEL_39e46b12f4544e5f9b294c62b819c1a0"
          }
        },
        "b21bff28ed2e4e598334026596eaec74": {
          "model_module": "@jupyter-widgets/controls",
          "model_name": "HTMLModel",
          "model_module_version": "1.5.0",
          "state": {
            "_dom_classes": [],
            "_model_module": "@jupyter-widgets/controls",
            "_model_module_version": "1.5.0",
            "_model_name": "HTMLModel",
            "_view_count": null,
            "_view_module": "@jupyter-widgets/controls",
            "_view_module_version": "1.5.0",
            "_view_name": "HTMLView",
            "description": "",
            "description_tooltip": null,
            "layout": "IPY_MODEL_fb4d89b4976f41eca3c1b6f61a5942ce",
            "placeholder": "​",
            "style": "IPY_MODEL_d1b7211b6e074902b477cd852dc09806",
            "value": "Testing DataLoader 3: 100%"
          }
        },
        "3f222d48f3bf4411a29504544da68480": {
          "model_module": "@jupyter-widgets/controls",
          "model_name": "FloatProgressModel",
          "model_module_version": "1.5.0",
          "state": {
            "_dom_classes": [],
            "_model_module": "@jupyter-widgets/controls",
            "_model_module_version": "1.5.0",
            "_model_name": "FloatProgressModel",
            "_view_count": null,
            "_view_module": "@jupyter-widgets/controls",
            "_view_module_version": "1.5.0",
            "_view_name": "ProgressView",
            "bar_style": "success",
            "description": "",
            "description_tooltip": null,
            "layout": "IPY_MODEL_e0b83d39f47240dcb0013805272de32c",
            "max": 7,
            "min": 0,
            "orientation": "horizontal",
            "style": "IPY_MODEL_eeb9da9c31054d19a056ed35fbcecdef",
            "value": 7
          }
        },
        "038d17949b1f480ca01bab6dbe2b9b4c": {
          "model_module": "@jupyter-widgets/controls",
          "model_name": "HTMLModel",
          "model_module_version": "1.5.0",
          "state": {
            "_dom_classes": [],
            "_model_module": "@jupyter-widgets/controls",
            "_model_module_version": "1.5.0",
            "_model_name": "HTMLModel",
            "_view_count": null,
            "_view_module": "@jupyter-widgets/controls",
            "_view_module_version": "1.5.0",
            "_view_name": "HTMLView",
            "description": "",
            "description_tooltip": null,
            "layout": "IPY_MODEL_f0379b975436467089fee25c4b2cb350",
            "placeholder": "​",
            "style": "IPY_MODEL_03faea99e5bd495287e771c5ffa42090",
            "value": " 7/7 [00:00&lt;00:00, 17.08it/s]"
          }
        },
        "39e46b12f4544e5f9b294c62b819c1a0": {
          "model_module": "@jupyter-widgets/base",
          "model_name": "LayoutModel",
          "model_module_version": "1.2.0",
          "state": {
            "_model_module": "@jupyter-widgets/base",
            "_model_module_version": "1.2.0",
            "_model_name": "LayoutModel",
            "_view_count": null,
            "_view_module": "@jupyter-widgets/base",
            "_view_module_version": "1.2.0",
            "_view_name": "LayoutView",
            "align_content": null,
            "align_items": null,
            "align_self": null,
            "border": null,
            "bottom": null,
            "display": "inline-flex",
            "flex": null,
            "flex_flow": "row wrap",
            "grid_area": null,
            "grid_auto_columns": null,
            "grid_auto_flow": null,
            "grid_auto_rows": null,
            "grid_column": null,
            "grid_gap": null,
            "grid_row": null,
            "grid_template_areas": null,
            "grid_template_columns": null,
            "grid_template_rows": null,
            "height": null,
            "justify_content": null,
            "justify_items": null,
            "left": null,
            "margin": null,
            "max_height": null,
            "max_width": null,
            "min_height": null,
            "min_width": null,
            "object_fit": null,
            "object_position": null,
            "order": null,
            "overflow": null,
            "overflow_x": null,
            "overflow_y": null,
            "padding": null,
            "right": null,
            "top": null,
            "visibility": null,
            "width": "100%"
          }
        },
        "fb4d89b4976f41eca3c1b6f61a5942ce": {
          "model_module": "@jupyter-widgets/base",
          "model_name": "LayoutModel",
          "model_module_version": "1.2.0",
          "state": {
            "_model_module": "@jupyter-widgets/base",
            "_model_module_version": "1.2.0",
            "_model_name": "LayoutModel",
            "_view_count": null,
            "_view_module": "@jupyter-widgets/base",
            "_view_module_version": "1.2.0",
            "_view_name": "LayoutView",
            "align_content": null,
            "align_items": null,
            "align_self": null,
            "border": null,
            "bottom": null,
            "display": null,
            "flex": null,
            "flex_flow": null,
            "grid_area": null,
            "grid_auto_columns": null,
            "grid_auto_flow": null,
            "grid_auto_rows": null,
            "grid_column": null,
            "grid_gap": null,
            "grid_row": null,
            "grid_template_areas": null,
            "grid_template_columns": null,
            "grid_template_rows": null,
            "height": null,
            "justify_content": null,
            "justify_items": null,
            "left": null,
            "margin": null,
            "max_height": null,
            "max_width": null,
            "min_height": null,
            "min_width": null,
            "object_fit": null,
            "object_position": null,
            "order": null,
            "overflow": null,
            "overflow_x": null,
            "overflow_y": null,
            "padding": null,
            "right": null,
            "top": null,
            "visibility": null,
            "width": null
          }
        },
        "d1b7211b6e074902b477cd852dc09806": {
          "model_module": "@jupyter-widgets/controls",
          "model_name": "DescriptionStyleModel",
          "model_module_version": "1.5.0",
          "state": {
            "_model_module": "@jupyter-widgets/controls",
            "_model_module_version": "1.5.0",
            "_model_name": "DescriptionStyleModel",
            "_view_count": null,
            "_view_module": "@jupyter-widgets/base",
            "_view_module_version": "1.2.0",
            "_view_name": "StyleView",
            "description_width": ""
          }
        },
        "e0b83d39f47240dcb0013805272de32c": {
          "model_module": "@jupyter-widgets/base",
          "model_name": "LayoutModel",
          "model_module_version": "1.2.0",
          "state": {
            "_model_module": "@jupyter-widgets/base",
            "_model_module_version": "1.2.0",
            "_model_name": "LayoutModel",
            "_view_count": null,
            "_view_module": "@jupyter-widgets/base",
            "_view_module_version": "1.2.0",
            "_view_name": "LayoutView",
            "align_content": null,
            "align_items": null,
            "align_self": null,
            "border": null,
            "bottom": null,
            "display": null,
            "flex": "2",
            "flex_flow": null,
            "grid_area": null,
            "grid_auto_columns": null,
            "grid_auto_flow": null,
            "grid_auto_rows": null,
            "grid_column": null,
            "grid_gap": null,
            "grid_row": null,
            "grid_template_areas": null,
            "grid_template_columns": null,
            "grid_template_rows": null,
            "height": null,
            "justify_content": null,
            "justify_items": null,
            "left": null,
            "margin": null,
            "max_height": null,
            "max_width": null,
            "min_height": null,
            "min_width": null,
            "object_fit": null,
            "object_position": null,
            "order": null,
            "overflow": null,
            "overflow_x": null,
            "overflow_y": null,
            "padding": null,
            "right": null,
            "top": null,
            "visibility": null,
            "width": null
          }
        },
        "eeb9da9c31054d19a056ed35fbcecdef": {
          "model_module": "@jupyter-widgets/controls",
          "model_name": "ProgressStyleModel",
          "model_module_version": "1.5.0",
          "state": {
            "_model_module": "@jupyter-widgets/controls",
            "_model_module_version": "1.5.0",
            "_model_name": "ProgressStyleModel",
            "_view_count": null,
            "_view_module": "@jupyter-widgets/base",
            "_view_module_version": "1.2.0",
            "_view_name": "StyleView",
            "bar_color": null,
            "description_width": ""
          }
        },
        "f0379b975436467089fee25c4b2cb350": {
          "model_module": "@jupyter-widgets/base",
          "model_name": "LayoutModel",
          "model_module_version": "1.2.0",
          "state": {
            "_model_module": "@jupyter-widgets/base",
            "_model_module_version": "1.2.0",
            "_model_name": "LayoutModel",
            "_view_count": null,
            "_view_module": "@jupyter-widgets/base",
            "_view_module_version": "1.2.0",
            "_view_name": "LayoutView",
            "align_content": null,
            "align_items": null,
            "align_self": null,
            "border": null,
            "bottom": null,
            "display": null,
            "flex": null,
            "flex_flow": null,
            "grid_area": null,
            "grid_auto_columns": null,
            "grid_auto_flow": null,
            "grid_auto_rows": null,
            "grid_column": null,
            "grid_gap": null,
            "grid_row": null,
            "grid_template_areas": null,
            "grid_template_columns": null,
            "grid_template_rows": null,
            "height": null,
            "justify_content": null,
            "justify_items": null,
            "left": null,
            "margin": null,
            "max_height": null,
            "max_width": null,
            "min_height": null,
            "min_width": null,
            "object_fit": null,
            "object_position": null,
            "order": null,
            "overflow": null,
            "overflow_x": null,
            "overflow_y": null,
            "padding": null,
            "right": null,
            "top": null,
            "visibility": null,
            "width": null
          }
        },
        "03faea99e5bd495287e771c5ffa42090": {
          "model_module": "@jupyter-widgets/controls",
          "model_name": "DescriptionStyleModel",
          "model_module_version": "1.5.0",
          "state": {
            "_model_module": "@jupyter-widgets/controls",
            "_model_module_version": "1.5.0",
            "_model_name": "DescriptionStyleModel",
            "_view_count": null,
            "_view_module": "@jupyter-widgets/base",
            "_view_module_version": "1.2.0",
            "_view_name": "StyleView",
            "description_width": ""
          }
        },
        "1c231ad5204748c49d00cbabf66c0dc1": {
          "model_module": "@jupyter-widgets/controls",
          "model_name": "HBoxModel",
          "model_module_version": "1.5.0",
          "state": {
            "_dom_classes": [],
            "_model_module": "@jupyter-widgets/controls",
            "_model_module_version": "1.5.0",
            "_model_name": "HBoxModel",
            "_view_count": null,
            "_view_module": "@jupyter-widgets/controls",
            "_view_module_version": "1.5.0",
            "_view_name": "HBoxView",
            "box_style": "",
            "children": [
              "IPY_MODEL_2dc0ef88b8f5456e87bed8941f43952b",
              "IPY_MODEL_6b7e3df4f98840c6a0af8857999f0121",
              "IPY_MODEL_9e96d56e4d36402d8db40ee6708b53e0"
            ],
            "layout": "IPY_MODEL_a40ce9da56114617bbe1b1c3a9b37f95"
          }
        },
        "2dc0ef88b8f5456e87bed8941f43952b": {
          "model_module": "@jupyter-widgets/controls",
          "model_name": "HTMLModel",
          "model_module_version": "1.5.0",
          "state": {
            "_dom_classes": [],
            "_model_module": "@jupyter-widgets/controls",
            "_model_module_version": "1.5.0",
            "_model_name": "HTMLModel",
            "_view_count": null,
            "_view_module": "@jupyter-widgets/controls",
            "_view_module_version": "1.5.0",
            "_view_name": "HTMLView",
            "description": "",
            "description_tooltip": null,
            "layout": "IPY_MODEL_63aa5c2515e449aa82cdc6d577eba445",
            "placeholder": "​",
            "style": "IPY_MODEL_2f4699e6e20b409d9efe6f8caec7ee76",
            "value": "Epoch 9: 100%"
          }
        },
        "6b7e3df4f98840c6a0af8857999f0121": {
          "model_module": "@jupyter-widgets/controls",
          "model_name": "FloatProgressModel",
          "model_module_version": "1.5.0",
          "state": {
            "_dom_classes": [],
            "_model_module": "@jupyter-widgets/controls",
            "_model_module_version": "1.5.0",
            "_model_name": "FloatProgressModel",
            "_view_count": null,
            "_view_module": "@jupyter-widgets/controls",
            "_view_module_version": "1.5.0",
            "_view_name": "ProgressView",
            "bar_style": "success",
            "description": "",
            "description_tooltip": null,
            "layout": "IPY_MODEL_ffcbe81df7dc4607b102d0e980f56684",
            "max": 66,
            "min": 0,
            "orientation": "horizontal",
            "style": "IPY_MODEL_ed1d80580d4f4632890055ae52c3121b",
            "value": 66
          }
        },
        "9e96d56e4d36402d8db40ee6708b53e0": {
          "model_module": "@jupyter-widgets/controls",
          "model_name": "HTMLModel",
          "model_module_version": "1.5.0",
          "state": {
            "_dom_classes": [],
            "_model_module": "@jupyter-widgets/controls",
            "_model_module_version": "1.5.0",
            "_model_name": "HTMLModel",
            "_view_count": null,
            "_view_module": "@jupyter-widgets/controls",
            "_view_module_version": "1.5.0",
            "_view_name": "HTMLView",
            "description": "",
            "description_tooltip": null,
            "layout": "IPY_MODEL_602580198d2c46a9a1714eb7d5d343c2",
            "placeholder": "​",
            "style": "IPY_MODEL_2ba0c63c7a0a45f19588566be1bacaa2",
            "value": " 66/66 [00:07&lt;00:00,  9.13it/s, v_num=2]"
          }
        },
        "a40ce9da56114617bbe1b1c3a9b37f95": {
          "model_module": "@jupyter-widgets/base",
          "model_name": "LayoutModel",
          "model_module_version": "1.2.0",
          "state": {
            "_model_module": "@jupyter-widgets/base",
            "_model_module_version": "1.2.0",
            "_model_name": "LayoutModel",
            "_view_count": null,
            "_view_module": "@jupyter-widgets/base",
            "_view_module_version": "1.2.0",
            "_view_name": "LayoutView",
            "align_content": null,
            "align_items": null,
            "align_self": null,
            "border": null,
            "bottom": null,
            "display": "inline-flex",
            "flex": null,
            "flex_flow": "row wrap",
            "grid_area": null,
            "grid_auto_columns": null,
            "grid_auto_flow": null,
            "grid_auto_rows": null,
            "grid_column": null,
            "grid_gap": null,
            "grid_row": null,
            "grid_template_areas": null,
            "grid_template_columns": null,
            "grid_template_rows": null,
            "height": null,
            "justify_content": null,
            "justify_items": null,
            "left": null,
            "margin": null,
            "max_height": null,
            "max_width": null,
            "min_height": null,
            "min_width": null,
            "object_fit": null,
            "object_position": null,
            "order": null,
            "overflow": null,
            "overflow_x": null,
            "overflow_y": null,
            "padding": null,
            "right": null,
            "top": null,
            "visibility": null,
            "width": "100%"
          }
        },
        "63aa5c2515e449aa82cdc6d577eba445": {
          "model_module": "@jupyter-widgets/base",
          "model_name": "LayoutModel",
          "model_module_version": "1.2.0",
          "state": {
            "_model_module": "@jupyter-widgets/base",
            "_model_module_version": "1.2.0",
            "_model_name": "LayoutModel",
            "_view_count": null,
            "_view_module": "@jupyter-widgets/base",
            "_view_module_version": "1.2.0",
            "_view_name": "LayoutView",
            "align_content": null,
            "align_items": null,
            "align_self": null,
            "border": null,
            "bottom": null,
            "display": null,
            "flex": null,
            "flex_flow": null,
            "grid_area": null,
            "grid_auto_columns": null,
            "grid_auto_flow": null,
            "grid_auto_rows": null,
            "grid_column": null,
            "grid_gap": null,
            "grid_row": null,
            "grid_template_areas": null,
            "grid_template_columns": null,
            "grid_template_rows": null,
            "height": null,
            "justify_content": null,
            "justify_items": null,
            "left": null,
            "margin": null,
            "max_height": null,
            "max_width": null,
            "min_height": null,
            "min_width": null,
            "object_fit": null,
            "object_position": null,
            "order": null,
            "overflow": null,
            "overflow_x": null,
            "overflow_y": null,
            "padding": null,
            "right": null,
            "top": null,
            "visibility": null,
            "width": null
          }
        },
        "2f4699e6e20b409d9efe6f8caec7ee76": {
          "model_module": "@jupyter-widgets/controls",
          "model_name": "DescriptionStyleModel",
          "model_module_version": "1.5.0",
          "state": {
            "_model_module": "@jupyter-widgets/controls",
            "_model_module_version": "1.5.0",
            "_model_name": "DescriptionStyleModel",
            "_view_count": null,
            "_view_module": "@jupyter-widgets/base",
            "_view_module_version": "1.2.0",
            "_view_name": "StyleView",
            "description_width": ""
          }
        },
        "ffcbe81df7dc4607b102d0e980f56684": {
          "model_module": "@jupyter-widgets/base",
          "model_name": "LayoutModel",
          "model_module_version": "1.2.0",
          "state": {
            "_model_module": "@jupyter-widgets/base",
            "_model_module_version": "1.2.0",
            "_model_name": "LayoutModel",
            "_view_count": null,
            "_view_module": "@jupyter-widgets/base",
            "_view_module_version": "1.2.0",
            "_view_name": "LayoutView",
            "align_content": null,
            "align_items": null,
            "align_self": null,
            "border": null,
            "bottom": null,
            "display": null,
            "flex": "2",
            "flex_flow": null,
            "grid_area": null,
            "grid_auto_columns": null,
            "grid_auto_flow": null,
            "grid_auto_rows": null,
            "grid_column": null,
            "grid_gap": null,
            "grid_row": null,
            "grid_template_areas": null,
            "grid_template_columns": null,
            "grid_template_rows": null,
            "height": null,
            "justify_content": null,
            "justify_items": null,
            "left": null,
            "margin": null,
            "max_height": null,
            "max_width": null,
            "min_height": null,
            "min_width": null,
            "object_fit": null,
            "object_position": null,
            "order": null,
            "overflow": null,
            "overflow_x": null,
            "overflow_y": null,
            "padding": null,
            "right": null,
            "top": null,
            "visibility": null,
            "width": null
          }
        },
        "ed1d80580d4f4632890055ae52c3121b": {
          "model_module": "@jupyter-widgets/controls",
          "model_name": "ProgressStyleModel",
          "model_module_version": "1.5.0",
          "state": {
            "_model_module": "@jupyter-widgets/controls",
            "_model_module_version": "1.5.0",
            "_model_name": "ProgressStyleModel",
            "_view_count": null,
            "_view_module": "@jupyter-widgets/base",
            "_view_module_version": "1.2.0",
            "_view_name": "StyleView",
            "bar_color": null,
            "description_width": ""
          }
        },
        "602580198d2c46a9a1714eb7d5d343c2": {
          "model_module": "@jupyter-widgets/base",
          "model_name": "LayoutModel",
          "model_module_version": "1.2.0",
          "state": {
            "_model_module": "@jupyter-widgets/base",
            "_model_module_version": "1.2.0",
            "_model_name": "LayoutModel",
            "_view_count": null,
            "_view_module": "@jupyter-widgets/base",
            "_view_module_version": "1.2.0",
            "_view_name": "LayoutView",
            "align_content": null,
            "align_items": null,
            "align_self": null,
            "border": null,
            "bottom": null,
            "display": null,
            "flex": null,
            "flex_flow": null,
            "grid_area": null,
            "grid_auto_columns": null,
            "grid_auto_flow": null,
            "grid_auto_rows": null,
            "grid_column": null,
            "grid_gap": null,
            "grid_row": null,
            "grid_template_areas": null,
            "grid_template_columns": null,
            "grid_template_rows": null,
            "height": null,
            "justify_content": null,
            "justify_items": null,
            "left": null,
            "margin": null,
            "max_height": null,
            "max_width": null,
            "min_height": null,
            "min_width": null,
            "object_fit": null,
            "object_position": null,
            "order": null,
            "overflow": null,
            "overflow_x": null,
            "overflow_y": null,
            "padding": null,
            "right": null,
            "top": null,
            "visibility": null,
            "width": null
          }
        },
        "2ba0c63c7a0a45f19588566be1bacaa2": {
          "model_module": "@jupyter-widgets/controls",
          "model_name": "DescriptionStyleModel",
          "model_module_version": "1.5.0",
          "state": {
            "_model_module": "@jupyter-widgets/controls",
            "_model_module_version": "1.5.0",
            "_model_name": "DescriptionStyleModel",
            "_view_count": null,
            "_view_module": "@jupyter-widgets/base",
            "_view_module_version": "1.2.0",
            "_view_name": "StyleView",
            "description_width": ""
          }
        },
        "985dc64995e24bfca9d1db21105bad92": {
          "model_module": "@jupyter-widgets/controls",
          "model_name": "HBoxModel",
          "model_module_version": "1.5.0",
          "state": {
            "_dom_classes": [],
            "_model_module": "@jupyter-widgets/controls",
            "_model_module_version": "1.5.0",
            "_model_name": "HBoxModel",
            "_view_count": null,
            "_view_module": "@jupyter-widgets/controls",
            "_view_module_version": "1.5.0",
            "_view_name": "HBoxView",
            "box_style": "",
            "children": [
              "IPY_MODEL_476d50d7fcda48a1ba6695fb452af4d3",
              "IPY_MODEL_34745a7eb09443e2bf4bba7ebfff9a01",
              "IPY_MODEL_ebd679afbb14451399c88d855c47670f"
            ],
            "layout": "IPY_MODEL_84f4f9b11b6046d88a1a461c63326c23"
          }
        },
        "476d50d7fcda48a1ba6695fb452af4d3": {
          "model_module": "@jupyter-widgets/controls",
          "model_name": "HTMLModel",
          "model_module_version": "1.5.0",
          "state": {
            "_dom_classes": [],
            "_model_module": "@jupyter-widgets/controls",
            "_model_module_version": "1.5.0",
            "_model_name": "HTMLModel",
            "_view_count": null,
            "_view_module": "@jupyter-widgets/controls",
            "_view_module_version": "1.5.0",
            "_view_name": "HTMLView",
            "description": "",
            "description_tooltip": null,
            "layout": "IPY_MODEL_1cfa5cea727b4f259bddb9b94c4b5aa2",
            "placeholder": "​",
            "style": "IPY_MODEL_436ebcaee52c4181980538ac938bd5fd",
            "value": "Testing DataLoader 3: 100%"
          }
        },
        "34745a7eb09443e2bf4bba7ebfff9a01": {
          "model_module": "@jupyter-widgets/controls",
          "model_name": "FloatProgressModel",
          "model_module_version": "1.5.0",
          "state": {
            "_dom_classes": [],
            "_model_module": "@jupyter-widgets/controls",
            "_model_module_version": "1.5.0",
            "_model_name": "FloatProgressModel",
            "_view_count": null,
            "_view_module": "@jupyter-widgets/controls",
            "_view_module_version": "1.5.0",
            "_view_name": "ProgressView",
            "bar_style": "success",
            "description": "",
            "description_tooltip": null,
            "layout": "IPY_MODEL_19a791ce1dc84b6ba4924349d28d7850",
            "max": 9,
            "min": 0,
            "orientation": "horizontal",
            "style": "IPY_MODEL_3aa7fb2460b24a1ebc80910bcae494b3",
            "value": 9
          }
        },
        "ebd679afbb14451399c88d855c47670f": {
          "model_module": "@jupyter-widgets/controls",
          "model_name": "HTMLModel",
          "model_module_version": "1.5.0",
          "state": {
            "_dom_classes": [],
            "_model_module": "@jupyter-widgets/controls",
            "_model_module_version": "1.5.0",
            "_model_name": "HTMLModel",
            "_view_count": null,
            "_view_module": "@jupyter-widgets/controls",
            "_view_module_version": "1.5.0",
            "_view_name": "HTMLView",
            "description": "",
            "description_tooltip": null,
            "layout": "IPY_MODEL_fdf555bd87b44c74a43404d9c9f7308b",
            "placeholder": "​",
            "style": "IPY_MODEL_308319ab5ba54a3090ec0c7c0792c356",
            "value": " 9/9 [00:00&lt;00:00, 13.61it/s]"
          }
        },
        "84f4f9b11b6046d88a1a461c63326c23": {
          "model_module": "@jupyter-widgets/base",
          "model_name": "LayoutModel",
          "model_module_version": "1.2.0",
          "state": {
            "_model_module": "@jupyter-widgets/base",
            "_model_module_version": "1.2.0",
            "_model_name": "LayoutModel",
            "_view_count": null,
            "_view_module": "@jupyter-widgets/base",
            "_view_module_version": "1.2.0",
            "_view_name": "LayoutView",
            "align_content": null,
            "align_items": null,
            "align_self": null,
            "border": null,
            "bottom": null,
            "display": "inline-flex",
            "flex": null,
            "flex_flow": "row wrap",
            "grid_area": null,
            "grid_auto_columns": null,
            "grid_auto_flow": null,
            "grid_auto_rows": null,
            "grid_column": null,
            "grid_gap": null,
            "grid_row": null,
            "grid_template_areas": null,
            "grid_template_columns": null,
            "grid_template_rows": null,
            "height": null,
            "justify_content": null,
            "justify_items": null,
            "left": null,
            "margin": null,
            "max_height": null,
            "max_width": null,
            "min_height": null,
            "min_width": null,
            "object_fit": null,
            "object_position": null,
            "order": null,
            "overflow": null,
            "overflow_x": null,
            "overflow_y": null,
            "padding": null,
            "right": null,
            "top": null,
            "visibility": null,
            "width": "100%"
          }
        },
        "1cfa5cea727b4f259bddb9b94c4b5aa2": {
          "model_module": "@jupyter-widgets/base",
          "model_name": "LayoutModel",
          "model_module_version": "1.2.0",
          "state": {
            "_model_module": "@jupyter-widgets/base",
            "_model_module_version": "1.2.0",
            "_model_name": "LayoutModel",
            "_view_count": null,
            "_view_module": "@jupyter-widgets/base",
            "_view_module_version": "1.2.0",
            "_view_name": "LayoutView",
            "align_content": null,
            "align_items": null,
            "align_self": null,
            "border": null,
            "bottom": null,
            "display": null,
            "flex": null,
            "flex_flow": null,
            "grid_area": null,
            "grid_auto_columns": null,
            "grid_auto_flow": null,
            "grid_auto_rows": null,
            "grid_column": null,
            "grid_gap": null,
            "grid_row": null,
            "grid_template_areas": null,
            "grid_template_columns": null,
            "grid_template_rows": null,
            "height": null,
            "justify_content": null,
            "justify_items": null,
            "left": null,
            "margin": null,
            "max_height": null,
            "max_width": null,
            "min_height": null,
            "min_width": null,
            "object_fit": null,
            "object_position": null,
            "order": null,
            "overflow": null,
            "overflow_x": null,
            "overflow_y": null,
            "padding": null,
            "right": null,
            "top": null,
            "visibility": null,
            "width": null
          }
        },
        "436ebcaee52c4181980538ac938bd5fd": {
          "model_module": "@jupyter-widgets/controls",
          "model_name": "DescriptionStyleModel",
          "model_module_version": "1.5.0",
          "state": {
            "_model_module": "@jupyter-widgets/controls",
            "_model_module_version": "1.5.0",
            "_model_name": "DescriptionStyleModel",
            "_view_count": null,
            "_view_module": "@jupyter-widgets/base",
            "_view_module_version": "1.2.0",
            "_view_name": "StyleView",
            "description_width": ""
          }
        },
        "19a791ce1dc84b6ba4924349d28d7850": {
          "model_module": "@jupyter-widgets/base",
          "model_name": "LayoutModel",
          "model_module_version": "1.2.0",
          "state": {
            "_model_module": "@jupyter-widgets/base",
            "_model_module_version": "1.2.0",
            "_model_name": "LayoutModel",
            "_view_count": null,
            "_view_module": "@jupyter-widgets/base",
            "_view_module_version": "1.2.0",
            "_view_name": "LayoutView",
            "align_content": null,
            "align_items": null,
            "align_self": null,
            "border": null,
            "bottom": null,
            "display": null,
            "flex": "2",
            "flex_flow": null,
            "grid_area": null,
            "grid_auto_columns": null,
            "grid_auto_flow": null,
            "grid_auto_rows": null,
            "grid_column": null,
            "grid_gap": null,
            "grid_row": null,
            "grid_template_areas": null,
            "grid_template_columns": null,
            "grid_template_rows": null,
            "height": null,
            "justify_content": null,
            "justify_items": null,
            "left": null,
            "margin": null,
            "max_height": null,
            "max_width": null,
            "min_height": null,
            "min_width": null,
            "object_fit": null,
            "object_position": null,
            "order": null,
            "overflow": null,
            "overflow_x": null,
            "overflow_y": null,
            "padding": null,
            "right": null,
            "top": null,
            "visibility": null,
            "width": null
          }
        },
        "3aa7fb2460b24a1ebc80910bcae494b3": {
          "model_module": "@jupyter-widgets/controls",
          "model_name": "ProgressStyleModel",
          "model_module_version": "1.5.0",
          "state": {
            "_model_module": "@jupyter-widgets/controls",
            "_model_module_version": "1.5.0",
            "_model_name": "ProgressStyleModel",
            "_view_count": null,
            "_view_module": "@jupyter-widgets/base",
            "_view_module_version": "1.2.0",
            "_view_name": "StyleView",
            "bar_color": null,
            "description_width": ""
          }
        },
        "fdf555bd87b44c74a43404d9c9f7308b": {
          "model_module": "@jupyter-widgets/base",
          "model_name": "LayoutModel",
          "model_module_version": "1.2.0",
          "state": {
            "_model_module": "@jupyter-widgets/base",
            "_model_module_version": "1.2.0",
            "_model_name": "LayoutModel",
            "_view_count": null,
            "_view_module": "@jupyter-widgets/base",
            "_view_module_version": "1.2.0",
            "_view_name": "LayoutView",
            "align_content": null,
            "align_items": null,
            "align_self": null,
            "border": null,
            "bottom": null,
            "display": null,
            "flex": null,
            "flex_flow": null,
            "grid_area": null,
            "grid_auto_columns": null,
            "grid_auto_flow": null,
            "grid_auto_rows": null,
            "grid_column": null,
            "grid_gap": null,
            "grid_row": null,
            "grid_template_areas": null,
            "grid_template_columns": null,
            "grid_template_rows": null,
            "height": null,
            "justify_content": null,
            "justify_items": null,
            "left": null,
            "margin": null,
            "max_height": null,
            "max_width": null,
            "min_height": null,
            "min_width": null,
            "object_fit": null,
            "object_position": null,
            "order": null,
            "overflow": null,
            "overflow_x": null,
            "overflow_y": null,
            "padding": null,
            "right": null,
            "top": null,
            "visibility": null,
            "width": null
          }
        },
        "308319ab5ba54a3090ec0c7c0792c356": {
          "model_module": "@jupyter-widgets/controls",
          "model_name": "DescriptionStyleModel",
          "model_module_version": "1.5.0",
          "state": {
            "_model_module": "@jupyter-widgets/controls",
            "_model_module_version": "1.5.0",
            "_model_name": "DescriptionStyleModel",
            "_view_count": null,
            "_view_module": "@jupyter-widgets/base",
            "_view_module_version": "1.2.0",
            "_view_name": "StyleView",
            "description_width": ""
          }
        },
        "38b51a251e384480b555d8850553a214": {
          "model_module": "@jupyter-widgets/controls",
          "model_name": "HBoxModel",
          "model_module_version": "1.5.0",
          "state": {
            "_dom_classes": [],
            "_model_module": "@jupyter-widgets/controls",
            "_model_module_version": "1.5.0",
            "_model_name": "HBoxModel",
            "_view_count": null,
            "_view_module": "@jupyter-widgets/controls",
            "_view_module_version": "1.5.0",
            "_view_name": "HBoxView",
            "box_style": "",
            "children": [
              "IPY_MODEL_e834717816094a32b8334bf30d6280d8",
              "IPY_MODEL_40ba1704bb6e4414aa9e684d20df0690",
              "IPY_MODEL_7b3ca980773241c0af10681a0ac25554"
            ],
            "layout": "IPY_MODEL_74fb2909832c4e408c36f0fca7ef8ad0"
          }
        },
        "e834717816094a32b8334bf30d6280d8": {
          "model_module": "@jupyter-widgets/controls",
          "model_name": "HTMLModel",
          "model_module_version": "1.5.0",
          "state": {
            "_dom_classes": [],
            "_model_module": "@jupyter-widgets/controls",
            "_model_module_version": "1.5.0",
            "_model_name": "HTMLModel",
            "_view_count": null,
            "_view_module": "@jupyter-widgets/controls",
            "_view_module_version": "1.5.0",
            "_view_name": "HTMLView",
            "description": "",
            "description_tooltip": null,
            "layout": "IPY_MODEL_e37103c251b94b04b90987100b66150f",
            "placeholder": "​",
            "style": "IPY_MODEL_55d21debeca448a1991ab771e374b5d5",
            "value": "Epoch 9: 100%"
          }
        },
        "40ba1704bb6e4414aa9e684d20df0690": {
          "model_module": "@jupyter-widgets/controls",
          "model_name": "FloatProgressModel",
          "model_module_version": "1.5.0",
          "state": {
            "_dom_classes": [],
            "_model_module": "@jupyter-widgets/controls",
            "_model_module_version": "1.5.0",
            "_model_name": "FloatProgressModel",
            "_view_count": null,
            "_view_module": "@jupyter-widgets/controls",
            "_view_module_version": "1.5.0",
            "_view_name": "ProgressView",
            "bar_style": "success",
            "description": "",
            "description_tooltip": null,
            "layout": "IPY_MODEL_56d28e9560854e3a854eaa1dcf731122",
            "max": 48,
            "min": 0,
            "orientation": "horizontal",
            "style": "IPY_MODEL_b801324555db44a988b2c0c1163a7cd4",
            "value": 48
          }
        },
        "7b3ca980773241c0af10681a0ac25554": {
          "model_module": "@jupyter-widgets/controls",
          "model_name": "HTMLModel",
          "model_module_version": "1.5.0",
          "state": {
            "_dom_classes": [],
            "_model_module": "@jupyter-widgets/controls",
            "_model_module_version": "1.5.0",
            "_model_name": "HTMLModel",
            "_view_count": null,
            "_view_module": "@jupyter-widgets/controls",
            "_view_module_version": "1.5.0",
            "_view_name": "HTMLView",
            "description": "",
            "description_tooltip": null,
            "layout": "IPY_MODEL_e462cf709d5f487bb6ff1dec47c32e16",
            "placeholder": "​",
            "style": "IPY_MODEL_e25661f6b7374b47acd1fa6814235b8e",
            "value": " 48/48 [00:05&lt;00:00,  8.66it/s, v_num=3]"
          }
        },
        "74fb2909832c4e408c36f0fca7ef8ad0": {
          "model_module": "@jupyter-widgets/base",
          "model_name": "LayoutModel",
          "model_module_version": "1.2.0",
          "state": {
            "_model_module": "@jupyter-widgets/base",
            "_model_module_version": "1.2.0",
            "_model_name": "LayoutModel",
            "_view_count": null,
            "_view_module": "@jupyter-widgets/base",
            "_view_module_version": "1.2.0",
            "_view_name": "LayoutView",
            "align_content": null,
            "align_items": null,
            "align_self": null,
            "border": null,
            "bottom": null,
            "display": "inline-flex",
            "flex": null,
            "flex_flow": "row wrap",
            "grid_area": null,
            "grid_auto_columns": null,
            "grid_auto_flow": null,
            "grid_auto_rows": null,
            "grid_column": null,
            "grid_gap": null,
            "grid_row": null,
            "grid_template_areas": null,
            "grid_template_columns": null,
            "grid_template_rows": null,
            "height": null,
            "justify_content": null,
            "justify_items": null,
            "left": null,
            "margin": null,
            "max_height": null,
            "max_width": null,
            "min_height": null,
            "min_width": null,
            "object_fit": null,
            "object_position": null,
            "order": null,
            "overflow": null,
            "overflow_x": null,
            "overflow_y": null,
            "padding": null,
            "right": null,
            "top": null,
            "visibility": null,
            "width": "100%"
          }
        },
        "e37103c251b94b04b90987100b66150f": {
          "model_module": "@jupyter-widgets/base",
          "model_name": "LayoutModel",
          "model_module_version": "1.2.0",
          "state": {
            "_model_module": "@jupyter-widgets/base",
            "_model_module_version": "1.2.0",
            "_model_name": "LayoutModel",
            "_view_count": null,
            "_view_module": "@jupyter-widgets/base",
            "_view_module_version": "1.2.0",
            "_view_name": "LayoutView",
            "align_content": null,
            "align_items": null,
            "align_self": null,
            "border": null,
            "bottom": null,
            "display": null,
            "flex": null,
            "flex_flow": null,
            "grid_area": null,
            "grid_auto_columns": null,
            "grid_auto_flow": null,
            "grid_auto_rows": null,
            "grid_column": null,
            "grid_gap": null,
            "grid_row": null,
            "grid_template_areas": null,
            "grid_template_columns": null,
            "grid_template_rows": null,
            "height": null,
            "justify_content": null,
            "justify_items": null,
            "left": null,
            "margin": null,
            "max_height": null,
            "max_width": null,
            "min_height": null,
            "min_width": null,
            "object_fit": null,
            "object_position": null,
            "order": null,
            "overflow": null,
            "overflow_x": null,
            "overflow_y": null,
            "padding": null,
            "right": null,
            "top": null,
            "visibility": null,
            "width": null
          }
        },
        "55d21debeca448a1991ab771e374b5d5": {
          "model_module": "@jupyter-widgets/controls",
          "model_name": "DescriptionStyleModel",
          "model_module_version": "1.5.0",
          "state": {
            "_model_module": "@jupyter-widgets/controls",
            "_model_module_version": "1.5.0",
            "_model_name": "DescriptionStyleModel",
            "_view_count": null,
            "_view_module": "@jupyter-widgets/base",
            "_view_module_version": "1.2.0",
            "_view_name": "StyleView",
            "description_width": ""
          }
        },
        "56d28e9560854e3a854eaa1dcf731122": {
          "model_module": "@jupyter-widgets/base",
          "model_name": "LayoutModel",
          "model_module_version": "1.2.0",
          "state": {
            "_model_module": "@jupyter-widgets/base",
            "_model_module_version": "1.2.0",
            "_model_name": "LayoutModel",
            "_view_count": null,
            "_view_module": "@jupyter-widgets/base",
            "_view_module_version": "1.2.0",
            "_view_name": "LayoutView",
            "align_content": null,
            "align_items": null,
            "align_self": null,
            "border": null,
            "bottom": null,
            "display": null,
            "flex": "2",
            "flex_flow": null,
            "grid_area": null,
            "grid_auto_columns": null,
            "grid_auto_flow": null,
            "grid_auto_rows": null,
            "grid_column": null,
            "grid_gap": null,
            "grid_row": null,
            "grid_template_areas": null,
            "grid_template_columns": null,
            "grid_template_rows": null,
            "height": null,
            "justify_content": null,
            "justify_items": null,
            "left": null,
            "margin": null,
            "max_height": null,
            "max_width": null,
            "min_height": null,
            "min_width": null,
            "object_fit": null,
            "object_position": null,
            "order": null,
            "overflow": null,
            "overflow_x": null,
            "overflow_y": null,
            "padding": null,
            "right": null,
            "top": null,
            "visibility": null,
            "width": null
          }
        },
        "b801324555db44a988b2c0c1163a7cd4": {
          "model_module": "@jupyter-widgets/controls",
          "model_name": "ProgressStyleModel",
          "model_module_version": "1.5.0",
          "state": {
            "_model_module": "@jupyter-widgets/controls",
            "_model_module_version": "1.5.0",
            "_model_name": "ProgressStyleModel",
            "_view_count": null,
            "_view_module": "@jupyter-widgets/base",
            "_view_module_version": "1.2.0",
            "_view_name": "StyleView",
            "bar_color": null,
            "description_width": ""
          }
        },
        "e462cf709d5f487bb6ff1dec47c32e16": {
          "model_module": "@jupyter-widgets/base",
          "model_name": "LayoutModel",
          "model_module_version": "1.2.0",
          "state": {
            "_model_module": "@jupyter-widgets/base",
            "_model_module_version": "1.2.0",
            "_model_name": "LayoutModel",
            "_view_count": null,
            "_view_module": "@jupyter-widgets/base",
            "_view_module_version": "1.2.0",
            "_view_name": "LayoutView",
            "align_content": null,
            "align_items": null,
            "align_self": null,
            "border": null,
            "bottom": null,
            "display": null,
            "flex": null,
            "flex_flow": null,
            "grid_area": null,
            "grid_auto_columns": null,
            "grid_auto_flow": null,
            "grid_auto_rows": null,
            "grid_column": null,
            "grid_gap": null,
            "grid_row": null,
            "grid_template_areas": null,
            "grid_template_columns": null,
            "grid_template_rows": null,
            "height": null,
            "justify_content": null,
            "justify_items": null,
            "left": null,
            "margin": null,
            "max_height": null,
            "max_width": null,
            "min_height": null,
            "min_width": null,
            "object_fit": null,
            "object_position": null,
            "order": null,
            "overflow": null,
            "overflow_x": null,
            "overflow_y": null,
            "padding": null,
            "right": null,
            "top": null,
            "visibility": null,
            "width": null
          }
        },
        "e25661f6b7374b47acd1fa6814235b8e": {
          "model_module": "@jupyter-widgets/controls",
          "model_name": "DescriptionStyleModel",
          "model_module_version": "1.5.0",
          "state": {
            "_model_module": "@jupyter-widgets/controls",
            "_model_module_version": "1.5.0",
            "_model_name": "DescriptionStyleModel",
            "_view_count": null,
            "_view_module": "@jupyter-widgets/base",
            "_view_module_version": "1.2.0",
            "_view_name": "StyleView",
            "description_width": ""
          }
        },
        "722875871df3416f89e2e824fc839d26": {
          "model_module": "@jupyter-widgets/controls",
          "model_name": "HBoxModel",
          "model_module_version": "1.5.0",
          "state": {
            "_dom_classes": [],
            "_model_module": "@jupyter-widgets/controls",
            "_model_module_version": "1.5.0",
            "_model_name": "HBoxModel",
            "_view_count": null,
            "_view_module": "@jupyter-widgets/controls",
            "_view_module_version": "1.5.0",
            "_view_name": "HBoxView",
            "box_style": "",
            "children": [
              "IPY_MODEL_36ff85801d12483eb07f3fe27bb966c0",
              "IPY_MODEL_3f3779e2efaa4c6c9395fecd39ca6055",
              "IPY_MODEL_2ec63ee73e3b42819591850fefea6fd0"
            ],
            "layout": "IPY_MODEL_056833f6c41d42cb81474157a44221fd"
          }
        },
        "36ff85801d12483eb07f3fe27bb966c0": {
          "model_module": "@jupyter-widgets/controls",
          "model_name": "HTMLModel",
          "model_module_version": "1.5.0",
          "state": {
            "_dom_classes": [],
            "_model_module": "@jupyter-widgets/controls",
            "_model_module_version": "1.5.0",
            "_model_name": "HTMLModel",
            "_view_count": null,
            "_view_module": "@jupyter-widgets/controls",
            "_view_module_version": "1.5.0",
            "_view_name": "HTMLView",
            "description": "",
            "description_tooltip": null,
            "layout": "IPY_MODEL_c00f554ac104458eaa9b77882a312937",
            "placeholder": "​",
            "style": "IPY_MODEL_23481977d1344113be7300f67827c23a",
            "value": "Testing DataLoader 3: 100%"
          }
        },
        "3f3779e2efaa4c6c9395fecd39ca6055": {
          "model_module": "@jupyter-widgets/controls",
          "model_name": "FloatProgressModel",
          "model_module_version": "1.5.0",
          "state": {
            "_dom_classes": [],
            "_model_module": "@jupyter-widgets/controls",
            "_model_module_version": "1.5.0",
            "_model_name": "FloatProgressModel",
            "_view_count": null,
            "_view_module": "@jupyter-widgets/controls",
            "_view_module_version": "1.5.0",
            "_view_name": "ProgressView",
            "bar_style": "success",
            "description": "",
            "description_tooltip": null,
            "layout": "IPY_MODEL_59bb7a4deee54850bcfe9f88b1ca57c9",
            "max": 7,
            "min": 0,
            "orientation": "horizontal",
            "style": "IPY_MODEL_602aaf0710d54f2b992bd3cc0eb17805",
            "value": 7
          }
        },
        "2ec63ee73e3b42819591850fefea6fd0": {
          "model_module": "@jupyter-widgets/controls",
          "model_name": "HTMLModel",
          "model_module_version": "1.5.0",
          "state": {
            "_dom_classes": [],
            "_model_module": "@jupyter-widgets/controls",
            "_model_module_version": "1.5.0",
            "_model_name": "HTMLModel",
            "_view_count": null,
            "_view_module": "@jupyter-widgets/controls",
            "_view_module_version": "1.5.0",
            "_view_name": "HTMLView",
            "description": "",
            "description_tooltip": null,
            "layout": "IPY_MODEL_92f42b63996947ff916e0abce864a383",
            "placeholder": "​",
            "style": "IPY_MODEL_379f0e26e2104d32844dc51c582bc5a1",
            "value": " 7/7 [00:00&lt;00:00, 12.70it/s]"
          }
        },
        "056833f6c41d42cb81474157a44221fd": {
          "model_module": "@jupyter-widgets/base",
          "model_name": "LayoutModel",
          "model_module_version": "1.2.0",
          "state": {
            "_model_module": "@jupyter-widgets/base",
            "_model_module_version": "1.2.0",
            "_model_name": "LayoutModel",
            "_view_count": null,
            "_view_module": "@jupyter-widgets/base",
            "_view_module_version": "1.2.0",
            "_view_name": "LayoutView",
            "align_content": null,
            "align_items": null,
            "align_self": null,
            "border": null,
            "bottom": null,
            "display": "inline-flex",
            "flex": null,
            "flex_flow": "row wrap",
            "grid_area": null,
            "grid_auto_columns": null,
            "grid_auto_flow": null,
            "grid_auto_rows": null,
            "grid_column": null,
            "grid_gap": null,
            "grid_row": null,
            "grid_template_areas": null,
            "grid_template_columns": null,
            "grid_template_rows": null,
            "height": null,
            "justify_content": null,
            "justify_items": null,
            "left": null,
            "margin": null,
            "max_height": null,
            "max_width": null,
            "min_height": null,
            "min_width": null,
            "object_fit": null,
            "object_position": null,
            "order": null,
            "overflow": null,
            "overflow_x": null,
            "overflow_y": null,
            "padding": null,
            "right": null,
            "top": null,
            "visibility": null,
            "width": "100%"
          }
        },
        "c00f554ac104458eaa9b77882a312937": {
          "model_module": "@jupyter-widgets/base",
          "model_name": "LayoutModel",
          "model_module_version": "1.2.0",
          "state": {
            "_model_module": "@jupyter-widgets/base",
            "_model_module_version": "1.2.0",
            "_model_name": "LayoutModel",
            "_view_count": null,
            "_view_module": "@jupyter-widgets/base",
            "_view_module_version": "1.2.0",
            "_view_name": "LayoutView",
            "align_content": null,
            "align_items": null,
            "align_self": null,
            "border": null,
            "bottom": null,
            "display": null,
            "flex": null,
            "flex_flow": null,
            "grid_area": null,
            "grid_auto_columns": null,
            "grid_auto_flow": null,
            "grid_auto_rows": null,
            "grid_column": null,
            "grid_gap": null,
            "grid_row": null,
            "grid_template_areas": null,
            "grid_template_columns": null,
            "grid_template_rows": null,
            "height": null,
            "justify_content": null,
            "justify_items": null,
            "left": null,
            "margin": null,
            "max_height": null,
            "max_width": null,
            "min_height": null,
            "min_width": null,
            "object_fit": null,
            "object_position": null,
            "order": null,
            "overflow": null,
            "overflow_x": null,
            "overflow_y": null,
            "padding": null,
            "right": null,
            "top": null,
            "visibility": null,
            "width": null
          }
        },
        "23481977d1344113be7300f67827c23a": {
          "model_module": "@jupyter-widgets/controls",
          "model_name": "DescriptionStyleModel",
          "model_module_version": "1.5.0",
          "state": {
            "_model_module": "@jupyter-widgets/controls",
            "_model_module_version": "1.5.0",
            "_model_name": "DescriptionStyleModel",
            "_view_count": null,
            "_view_module": "@jupyter-widgets/base",
            "_view_module_version": "1.2.0",
            "_view_name": "StyleView",
            "description_width": ""
          }
        },
        "59bb7a4deee54850bcfe9f88b1ca57c9": {
          "model_module": "@jupyter-widgets/base",
          "model_name": "LayoutModel",
          "model_module_version": "1.2.0",
          "state": {
            "_model_module": "@jupyter-widgets/base",
            "_model_module_version": "1.2.0",
            "_model_name": "LayoutModel",
            "_view_count": null,
            "_view_module": "@jupyter-widgets/base",
            "_view_module_version": "1.2.0",
            "_view_name": "LayoutView",
            "align_content": null,
            "align_items": null,
            "align_self": null,
            "border": null,
            "bottom": null,
            "display": null,
            "flex": "2",
            "flex_flow": null,
            "grid_area": null,
            "grid_auto_columns": null,
            "grid_auto_flow": null,
            "grid_auto_rows": null,
            "grid_column": null,
            "grid_gap": null,
            "grid_row": null,
            "grid_template_areas": null,
            "grid_template_columns": null,
            "grid_template_rows": null,
            "height": null,
            "justify_content": null,
            "justify_items": null,
            "left": null,
            "margin": null,
            "max_height": null,
            "max_width": null,
            "min_height": null,
            "min_width": null,
            "object_fit": null,
            "object_position": null,
            "order": null,
            "overflow": null,
            "overflow_x": null,
            "overflow_y": null,
            "padding": null,
            "right": null,
            "top": null,
            "visibility": null,
            "width": null
          }
        },
        "602aaf0710d54f2b992bd3cc0eb17805": {
          "model_module": "@jupyter-widgets/controls",
          "model_name": "ProgressStyleModel",
          "model_module_version": "1.5.0",
          "state": {
            "_model_module": "@jupyter-widgets/controls",
            "_model_module_version": "1.5.0",
            "_model_name": "ProgressStyleModel",
            "_view_count": null,
            "_view_module": "@jupyter-widgets/base",
            "_view_module_version": "1.2.0",
            "_view_name": "StyleView",
            "bar_color": null,
            "description_width": ""
          }
        },
        "92f42b63996947ff916e0abce864a383": {
          "model_module": "@jupyter-widgets/base",
          "model_name": "LayoutModel",
          "model_module_version": "1.2.0",
          "state": {
            "_model_module": "@jupyter-widgets/base",
            "_model_module_version": "1.2.0",
            "_model_name": "LayoutModel",
            "_view_count": null,
            "_view_module": "@jupyter-widgets/base",
            "_view_module_version": "1.2.0",
            "_view_name": "LayoutView",
            "align_content": null,
            "align_items": null,
            "align_self": null,
            "border": null,
            "bottom": null,
            "display": null,
            "flex": null,
            "flex_flow": null,
            "grid_area": null,
            "grid_auto_columns": null,
            "grid_auto_flow": null,
            "grid_auto_rows": null,
            "grid_column": null,
            "grid_gap": null,
            "grid_row": null,
            "grid_template_areas": null,
            "grid_template_columns": null,
            "grid_template_rows": null,
            "height": null,
            "justify_content": null,
            "justify_items": null,
            "left": null,
            "margin": null,
            "max_height": null,
            "max_width": null,
            "min_height": null,
            "min_width": null,
            "object_fit": null,
            "object_position": null,
            "order": null,
            "overflow": null,
            "overflow_x": null,
            "overflow_y": null,
            "padding": null,
            "right": null,
            "top": null,
            "visibility": null,
            "width": null
          }
        },
        "379f0e26e2104d32844dc51c582bc5a1": {
          "model_module": "@jupyter-widgets/controls",
          "model_name": "DescriptionStyleModel",
          "model_module_version": "1.5.0",
          "state": {
            "_model_module": "@jupyter-widgets/controls",
            "_model_module_version": "1.5.0",
            "_model_name": "DescriptionStyleModel",
            "_view_count": null,
            "_view_module": "@jupyter-widgets/base",
            "_view_module_version": "1.2.0",
            "_view_name": "StyleView",
            "description_width": ""
          }
        }
      }
    }
  },
  "nbformat": 4,
  "nbformat_minor": 0
}