{
  "nbformat": 4,
  "nbformat_minor": 0,
  "metadata": {
    "colab": {
      "provenance": [],
      "gpuType": "T4",
      "include_colab_link": true
    },
    "kernelspec": {
      "name": "python3",
      "display_name": "Python 3"
    },
    "language_info": {
      "name": "python"
    },
    "widgets": {
      "application/vnd.jupyter.widget-state+json": {
        "a9dd000581ae430db8b83c2491e33d12": {
          "model_module": "@jupyter-widgets/controls",
          "model_name": "VBoxModel",
          "model_module_version": "1.5.0",
          "state": {
            "_dom_classes": [],
            "_model_module": "@jupyter-widgets/controls",
            "_model_module_version": "1.5.0",
            "_model_name": "VBoxModel",
            "_view_count": null,
            "_view_module": "@jupyter-widgets/controls",
            "_view_module_version": "1.5.0",
            "_view_name": "VBoxView",
            "box_style": "",
            "children": [],
            "layout": "IPY_MODEL_2407c858b15840e6bf2fe6d29039314e"
          }
        },
        "b853413bd8c4458cbaeaf0ce9f268bc5": {
          "model_module": "@jupyter-widgets/controls",
          "model_name": "HTMLModel",
          "model_module_version": "1.5.0",
          "state": {
            "_dom_classes": [],
            "_model_module": "@jupyter-widgets/controls",
            "_model_module_version": "1.5.0",
            "_model_name": "HTMLModel",
            "_view_count": null,
            "_view_module": "@jupyter-widgets/controls",
            "_view_module_version": "1.5.0",
            "_view_name": "HTMLView",
            "description": "",
            "description_tooltip": null,
            "layout": "IPY_MODEL_fc8bf291a6d741b5b7a989d69c74bbf9",
            "placeholder": "​",
            "style": "IPY_MODEL_a1f3fc1a678545eba6242b169558f294",
            "value": "<center> <img\nsrc=https://huggingface.co/front/assets/huggingface_logo-noborder.svg\nalt='Hugging Face'> <br> Copy a token from <a\nhref=\"https://huggingface.co/settings/tokens\" target=\"_blank\">your Hugging Face\ntokens page</a> and paste it below. <br> Immediately click login after copying\nyour token or it might be stored in plain text in this notebook file. </center>"
          }
        },
        "eb2d168e0b154199abac70950d79922a": {
          "model_module": "@jupyter-widgets/controls",
          "model_name": "PasswordModel",
          "model_module_version": "1.5.0",
          "state": {
            "_dom_classes": [],
            "_model_module": "@jupyter-widgets/controls",
            "_model_module_version": "1.5.0",
            "_model_name": "PasswordModel",
            "_view_count": null,
            "_view_module": "@jupyter-widgets/controls",
            "_view_module_version": "1.5.0",
            "_view_name": "PasswordView",
            "continuous_update": true,
            "description": "Token:",
            "description_tooltip": null,
            "disabled": false,
            "layout": "IPY_MODEL_fc1a4d1d300b4a94b860755c4e5b8661",
            "placeholder": "​",
            "style": "IPY_MODEL_b243f74dcbf64570a5adbfc17c8dd06c",
            "value": ""
          }
        },
        "c47457aaaebc404ca357f3f57c06fd2b": {
          "model_module": "@jupyter-widgets/controls",
          "model_name": "CheckboxModel",
          "model_module_version": "1.5.0",
          "state": {
            "_dom_classes": [],
            "_model_module": "@jupyter-widgets/controls",
            "_model_module_version": "1.5.0",
            "_model_name": "CheckboxModel",
            "_view_count": null,
            "_view_module": "@jupyter-widgets/controls",
            "_view_module_version": "1.5.0",
            "_view_name": "CheckboxView",
            "description": "Add token as git credential?",
            "description_tooltip": null,
            "disabled": false,
            "indent": true,
            "layout": "IPY_MODEL_2b6d380cacc049ca962fec4c59c6ff74",
            "style": "IPY_MODEL_3636a7ec35944c94aab1c661610cb3ce",
            "value": true
          }
        },
        "153adf7deb234b5e82a5c4ed1c6d1cb3": {
          "model_module": "@jupyter-widgets/controls",
          "model_name": "ButtonModel",
          "model_module_version": "1.5.0",
          "state": {
            "_dom_classes": [],
            "_model_module": "@jupyter-widgets/controls",
            "_model_module_version": "1.5.0",
            "_model_name": "ButtonModel",
            "_view_count": null,
            "_view_module": "@jupyter-widgets/controls",
            "_view_module_version": "1.5.0",
            "_view_name": "ButtonView",
            "button_style": "",
            "description": "Login",
            "disabled": false,
            "icon": "",
            "layout": "IPY_MODEL_7bed6b512dd3442991db90717ffe6b5a",
            "style": "IPY_MODEL_8f7c3155d30e42c2b5146f97cd44635d",
            "tooltip": ""
          }
        },
        "d4441efb0dff4659bd73d47de6d92305": {
          "model_module": "@jupyter-widgets/controls",
          "model_name": "HTMLModel",
          "model_module_version": "1.5.0",
          "state": {
            "_dom_classes": [],
            "_model_module": "@jupyter-widgets/controls",
            "_model_module_version": "1.5.0",
            "_model_name": "HTMLModel",
            "_view_count": null,
            "_view_module": "@jupyter-widgets/controls",
            "_view_module_version": "1.5.0",
            "_view_name": "HTMLView",
            "description": "",
            "description_tooltip": null,
            "layout": "IPY_MODEL_1e4e7bfabb00443b826184887c1295e0",
            "placeholder": "​",
            "style": "IPY_MODEL_a10eb16710f94efe835f24d26d718b50",
            "value": "\n<b>Pro Tip:</b> If you don't already have one, you can create a dedicated\n'notebooks' token with 'write' access, that you can then easily reuse for all\nnotebooks. </center>"
          }
        },
        "2407c858b15840e6bf2fe6d29039314e": {
          "model_module": "@jupyter-widgets/base",
          "model_name": "LayoutModel",
          "model_module_version": "1.2.0",
          "state": {
            "_model_module": "@jupyter-widgets/base",
            "_model_module_version": "1.2.0",
            "_model_name": "LayoutModel",
            "_view_count": null,
            "_view_module": "@jupyter-widgets/base",
            "_view_module_version": "1.2.0",
            "_view_name": "LayoutView",
            "align_content": null,
            "align_items": "center",
            "align_self": null,
            "border": null,
            "bottom": null,
            "display": "flex",
            "flex": null,
            "flex_flow": "column",
            "grid_area": null,
            "grid_auto_columns": null,
            "grid_auto_flow": null,
            "grid_auto_rows": null,
            "grid_column": null,
            "grid_gap": null,
            "grid_row": null,
            "grid_template_areas": null,
            "grid_template_columns": null,
            "grid_template_rows": null,
            "height": null,
            "justify_content": null,
            "justify_items": null,
            "left": null,
            "margin": null,
            "max_height": null,
            "max_width": null,
            "min_height": null,
            "min_width": null,
            "object_fit": null,
            "object_position": null,
            "order": null,
            "overflow": null,
            "overflow_x": null,
            "overflow_y": null,
            "padding": null,
            "right": null,
            "top": null,
            "visibility": null,
            "width": "50%"
          }
        },
        "fc8bf291a6d741b5b7a989d69c74bbf9": {
          "model_module": "@jupyter-widgets/base",
          "model_name": "LayoutModel",
          "model_module_version": "1.2.0",
          "state": {
            "_model_module": "@jupyter-widgets/base",
            "_model_module_version": "1.2.0",
            "_model_name": "LayoutModel",
            "_view_count": null,
            "_view_module": "@jupyter-widgets/base",
            "_view_module_version": "1.2.0",
            "_view_name": "LayoutView",
            "align_content": null,
            "align_items": null,
            "align_self": null,
            "border": null,
            "bottom": null,
            "display": null,
            "flex": null,
            "flex_flow": null,
            "grid_area": null,
            "grid_auto_columns": null,
            "grid_auto_flow": null,
            "grid_auto_rows": null,
            "grid_column": null,
            "grid_gap": null,
            "grid_row": null,
            "grid_template_areas": null,
            "grid_template_columns": null,
            "grid_template_rows": null,
            "height": null,
            "justify_content": null,
            "justify_items": null,
            "left": null,
            "margin": null,
            "max_height": null,
            "max_width": null,
            "min_height": null,
            "min_width": null,
            "object_fit": null,
            "object_position": null,
            "order": null,
            "overflow": null,
            "overflow_x": null,
            "overflow_y": null,
            "padding": null,
            "right": null,
            "top": null,
            "visibility": null,
            "width": null
          }
        },
        "a1f3fc1a678545eba6242b169558f294": {
          "model_module": "@jupyter-widgets/controls",
          "model_name": "DescriptionStyleModel",
          "model_module_version": "1.5.0",
          "state": {
            "_model_module": "@jupyter-widgets/controls",
            "_model_module_version": "1.5.0",
            "_model_name": "DescriptionStyleModel",
            "_view_count": null,
            "_view_module": "@jupyter-widgets/base",
            "_view_module_version": "1.2.0",
            "_view_name": "StyleView",
            "description_width": ""
          }
        },
        "fc1a4d1d300b4a94b860755c4e5b8661": {
          "model_module": "@jupyter-widgets/base",
          "model_name": "LayoutModel",
          "model_module_version": "1.2.0",
          "state": {
            "_model_module": "@jupyter-widgets/base",
            "_model_module_version": "1.2.0",
            "_model_name": "LayoutModel",
            "_view_count": null,
            "_view_module": "@jupyter-widgets/base",
            "_view_module_version": "1.2.0",
            "_view_name": "LayoutView",
            "align_content": null,
            "align_items": null,
            "align_self": null,
            "border": null,
            "bottom": null,
            "display": null,
            "flex": null,
            "flex_flow": null,
            "grid_area": null,
            "grid_auto_columns": null,
            "grid_auto_flow": null,
            "grid_auto_rows": null,
            "grid_column": null,
            "grid_gap": null,
            "grid_row": null,
            "grid_template_areas": null,
            "grid_template_columns": null,
            "grid_template_rows": null,
            "height": null,
            "justify_content": null,
            "justify_items": null,
            "left": null,
            "margin": null,
            "max_height": null,
            "max_width": null,
            "min_height": null,
            "min_width": null,
            "object_fit": null,
            "object_position": null,
            "order": null,
            "overflow": null,
            "overflow_x": null,
            "overflow_y": null,
            "padding": null,
            "right": null,
            "top": null,
            "visibility": null,
            "width": null
          }
        },
        "b243f74dcbf64570a5adbfc17c8dd06c": {
          "model_module": "@jupyter-widgets/controls",
          "model_name": "DescriptionStyleModel",
          "model_module_version": "1.5.0",
          "state": {
            "_model_module": "@jupyter-widgets/controls",
            "_model_module_version": "1.5.0",
            "_model_name": "DescriptionStyleModel",
            "_view_count": null,
            "_view_module": "@jupyter-widgets/base",
            "_view_module_version": "1.2.0",
            "_view_name": "StyleView",
            "description_width": ""
          }
        },
        "2b6d380cacc049ca962fec4c59c6ff74": {
          "model_module": "@jupyter-widgets/base",
          "model_name": "LayoutModel",
          "model_module_version": "1.2.0",
          "state": {
            "_model_module": "@jupyter-widgets/base",
            "_model_module_version": "1.2.0",
            "_model_name": "LayoutModel",
            "_view_count": null,
            "_view_module": "@jupyter-widgets/base",
            "_view_module_version": "1.2.0",
            "_view_name": "LayoutView",
            "align_content": null,
            "align_items": null,
            "align_self": null,
            "border": null,
            "bottom": null,
            "display": null,
            "flex": null,
            "flex_flow": null,
            "grid_area": null,
            "grid_auto_columns": null,
            "grid_auto_flow": null,
            "grid_auto_rows": null,
            "grid_column": null,
            "grid_gap": null,
            "grid_row": null,
            "grid_template_areas": null,
            "grid_template_columns": null,
            "grid_template_rows": null,
            "height": null,
            "justify_content": null,
            "justify_items": null,
            "left": null,
            "margin": null,
            "max_height": null,
            "max_width": null,
            "min_height": null,
            "min_width": null,
            "object_fit": null,
            "object_position": null,
            "order": null,
            "overflow": null,
            "overflow_x": null,
            "overflow_y": null,
            "padding": null,
            "right": null,
            "top": null,
            "visibility": null,
            "width": null
          }
        },
        "3636a7ec35944c94aab1c661610cb3ce": {
          "model_module": "@jupyter-widgets/controls",
          "model_name": "DescriptionStyleModel",
          "model_module_version": "1.5.0",
          "state": {
            "_model_module": "@jupyter-widgets/controls",
            "_model_module_version": "1.5.0",
            "_model_name": "DescriptionStyleModel",
            "_view_count": null,
            "_view_module": "@jupyter-widgets/base",
            "_view_module_version": "1.2.0",
            "_view_name": "StyleView",
            "description_width": ""
          }
        },
        "7bed6b512dd3442991db90717ffe6b5a": {
          "model_module": "@jupyter-widgets/base",
          "model_name": "LayoutModel",
          "model_module_version": "1.2.0",
          "state": {
            "_model_module": "@jupyter-widgets/base",
            "_model_module_version": "1.2.0",
            "_model_name": "LayoutModel",
            "_view_count": null,
            "_view_module": "@jupyter-widgets/base",
            "_view_module_version": "1.2.0",
            "_view_name": "LayoutView",
            "align_content": null,
            "align_items": null,
            "align_self": null,
            "border": null,
            "bottom": null,
            "display": null,
            "flex": null,
            "flex_flow": null,
            "grid_area": null,
            "grid_auto_columns": null,
            "grid_auto_flow": null,
            "grid_auto_rows": null,
            "grid_column": null,
            "grid_gap": null,
            "grid_row": null,
            "grid_template_areas": null,
            "grid_template_columns": null,
            "grid_template_rows": null,
            "height": null,
            "justify_content": null,
            "justify_items": null,
            "left": null,
            "margin": null,
            "max_height": null,
            "max_width": null,
            "min_height": null,
            "min_width": null,
            "object_fit": null,
            "object_position": null,
            "order": null,
            "overflow": null,
            "overflow_x": null,
            "overflow_y": null,
            "padding": null,
            "right": null,
            "top": null,
            "visibility": null,
            "width": null
          }
        },
        "8f7c3155d30e42c2b5146f97cd44635d": {
          "model_module": "@jupyter-widgets/controls",
          "model_name": "ButtonStyleModel",
          "model_module_version": "1.5.0",
          "state": {
            "_model_module": "@jupyter-widgets/controls",
            "_model_module_version": "1.5.0",
            "_model_name": "ButtonStyleModel",
            "_view_count": null,
            "_view_module": "@jupyter-widgets/base",
            "_view_module_version": "1.2.0",
            "_view_name": "StyleView",
            "button_color": null,
            "font_weight": ""
          }
        },
        "1e4e7bfabb00443b826184887c1295e0": {
          "model_module": "@jupyter-widgets/base",
          "model_name": "LayoutModel",
          "model_module_version": "1.2.0",
          "state": {
            "_model_module": "@jupyter-widgets/base",
            "_model_module_version": "1.2.0",
            "_model_name": "LayoutModel",
            "_view_count": null,
            "_view_module": "@jupyter-widgets/base",
            "_view_module_version": "1.2.0",
            "_view_name": "LayoutView",
            "align_content": null,
            "align_items": null,
            "align_self": null,
            "border": null,
            "bottom": null,
            "display": null,
            "flex": null,
            "flex_flow": null,
            "grid_area": null,
            "grid_auto_columns": null,
            "grid_auto_flow": null,
            "grid_auto_rows": null,
            "grid_column": null,
            "grid_gap": null,
            "grid_row": null,
            "grid_template_areas": null,
            "grid_template_columns": null,
            "grid_template_rows": null,
            "height": null,
            "justify_content": null,
            "justify_items": null,
            "left": null,
            "margin": null,
            "max_height": null,
            "max_width": null,
            "min_height": null,
            "min_width": null,
            "object_fit": null,
            "object_position": null,
            "order": null,
            "overflow": null,
            "overflow_x": null,
            "overflow_y": null,
            "padding": null,
            "right": null,
            "top": null,
            "visibility": null,
            "width": null
          }
        },
        "a10eb16710f94efe835f24d26d718b50": {
          "model_module": "@jupyter-widgets/controls",
          "model_name": "DescriptionStyleModel",
          "model_module_version": "1.5.0",
          "state": {
            "_model_module": "@jupyter-widgets/controls",
            "_model_module_version": "1.5.0",
            "_model_name": "DescriptionStyleModel",
            "_view_count": null,
            "_view_module": "@jupyter-widgets/base",
            "_view_module_version": "1.2.0",
            "_view_name": "StyleView",
            "description_width": ""
          }
        },
        "9283fed0a8cc4a99972b38b09a77027a": {
          "model_module": "@jupyter-widgets/controls",
          "model_name": "LabelModel",
          "model_module_version": "1.5.0",
          "state": {
            "_dom_classes": [],
            "_model_module": "@jupyter-widgets/controls",
            "_model_module_version": "1.5.0",
            "_model_name": "LabelModel",
            "_view_count": null,
            "_view_module": "@jupyter-widgets/controls",
            "_view_module_version": "1.5.0",
            "_view_name": "LabelView",
            "description": "",
            "description_tooltip": null,
            "layout": "IPY_MODEL_b4d01e8436d64f379c7a6faa0c8b05cc",
            "placeholder": "​",
            "style": "IPY_MODEL_10bf6ed464194421b9d35dfa0f859cf0",
            "value": "Connecting..."
          }
        },
        "b4d01e8436d64f379c7a6faa0c8b05cc": {
          "model_module": "@jupyter-widgets/base",
          "model_name": "LayoutModel",
          "model_module_version": "1.2.0",
          "state": {
            "_model_module": "@jupyter-widgets/base",
            "_model_module_version": "1.2.0",
            "_model_name": "LayoutModel",
            "_view_count": null,
            "_view_module": "@jupyter-widgets/base",
            "_view_module_version": "1.2.0",
            "_view_name": "LayoutView",
            "align_content": null,
            "align_items": null,
            "align_self": null,
            "border": null,
            "bottom": null,
            "display": null,
            "flex": null,
            "flex_flow": null,
            "grid_area": null,
            "grid_auto_columns": null,
            "grid_auto_flow": null,
            "grid_auto_rows": null,
            "grid_column": null,
            "grid_gap": null,
            "grid_row": null,
            "grid_template_areas": null,
            "grid_template_columns": null,
            "grid_template_rows": null,
            "height": null,
            "justify_content": null,
            "justify_items": null,
            "left": null,
            "margin": null,
            "max_height": null,
            "max_width": null,
            "min_height": null,
            "min_width": null,
            "object_fit": null,
            "object_position": null,
            "order": null,
            "overflow": null,
            "overflow_x": null,
            "overflow_y": null,
            "padding": null,
            "right": null,
            "top": null,
            "visibility": null,
            "width": null
          }
        },
        "10bf6ed464194421b9d35dfa0f859cf0": {
          "model_module": "@jupyter-widgets/controls",
          "model_name": "DescriptionStyleModel",
          "model_module_version": "1.5.0",
          "state": {
            "_model_module": "@jupyter-widgets/controls",
            "_model_module_version": "1.5.0",
            "_model_name": "DescriptionStyleModel",
            "_view_count": null,
            "_view_module": "@jupyter-widgets/base",
            "_view_module_version": "1.2.0",
            "_view_name": "StyleView",
            "description_width": ""
          }
        }
      }
    },
    "accelerator": "GPU"
  },
  "cells": [
    {
      "cell_type": "markdown",
      "metadata": {
        "id": "view-in-github",
        "colab_type": "text"
      },
      "source": [
        "<a href=\"https://colab.research.google.com/github/Thiraput01/NLP-sys/blob/main/Week%2010/Lab10_RAG_toStudent.ipynb\" target=\"_parent\"><img src=\"https://colab.research.google.com/assets/colab-badge.svg\" alt=\"Open In Colab\"/></a>"
      ]
    },
    {
      "cell_type": "markdown",
      "source": [
        "# Setup"
      ],
      "metadata": {
        "id": "u98eKe5iVh5a"
      }
    },
    {
      "cell_type": "code",
      "execution_count": 1,
      "metadata": {
        "id": "yQvDjyEllKcg",
        "colab": {
          "base_uri": "https://localhost:8080/"
        },
        "outputId": "e98bdc6f-cefb-43f6-ca5d-7d3829329f57"
      },
      "outputs": [
        {
          "output_type": "stream",
          "name": "stdout",
          "text": [
            "Requirement already satisfied: fastembed in /usr/local/lib/python3.11/dist-packages (0.6.0)\n",
            "Requirement already satisfied: huggingface-hub<1.0,>=0.20 in /usr/local/lib/python3.11/dist-packages (from fastembed) (0.29.3)\n",
            "Requirement already satisfied: loguru<0.8.0,>=0.7.2 in /usr/local/lib/python3.11/dist-packages (from fastembed) (0.7.3)\n",
            "Requirement already satisfied: mmh3<6.0.0,>=4.1.0 in /usr/local/lib/python3.11/dist-packages (from fastembed) (5.1.0)\n",
            "Requirement already satisfied: numpy>=1.21 in /usr/local/lib/python3.11/dist-packages (from fastembed) (2.0.2)\n",
            "Requirement already satisfied: onnxruntime!=1.20.0,>=1.17.0 in /usr/local/lib/python3.11/dist-packages (from fastembed) (1.21.0)\n",
            "Requirement already satisfied: pillow<12.0.0,>=10.3.0 in /usr/local/lib/python3.11/dist-packages (from fastembed) (11.1.0)\n",
            "Requirement already satisfied: py-rust-stemmers<0.2.0,>=0.1.0 in /usr/local/lib/python3.11/dist-packages (from fastembed) (0.1.5)\n",
            "Requirement already satisfied: requests<3.0,>=2.31 in /usr/local/lib/python3.11/dist-packages (from fastembed) (2.32.3)\n",
            "Requirement already satisfied: tokenizers<1.0,>=0.15 in /usr/local/lib/python3.11/dist-packages (from fastembed) (0.21.1)\n",
            "Requirement already satisfied: tqdm<5.0,>=4.66 in /usr/local/lib/python3.11/dist-packages (from fastembed) (4.67.1)\n",
            "Requirement already satisfied: filelock in /usr/local/lib/python3.11/dist-packages (from huggingface-hub<1.0,>=0.20->fastembed) (3.18.0)\n",
            "Requirement already satisfied: fsspec>=2023.5.0 in /usr/local/lib/python3.11/dist-packages (from huggingface-hub<1.0,>=0.20->fastembed) (2024.12.0)\n",
            "Requirement already satisfied: packaging>=20.9 in /usr/local/lib/python3.11/dist-packages (from huggingface-hub<1.0,>=0.20->fastembed) (24.2)\n",
            "Requirement already satisfied: pyyaml>=5.1 in /usr/local/lib/python3.11/dist-packages (from huggingface-hub<1.0,>=0.20->fastembed) (6.0.2)\n",
            "Requirement already satisfied: typing-extensions>=3.7.4.3 in /usr/local/lib/python3.11/dist-packages (from huggingface-hub<1.0,>=0.20->fastembed) (4.12.2)\n",
            "Requirement already satisfied: coloredlogs in /usr/local/lib/python3.11/dist-packages (from onnxruntime!=1.20.0,>=1.17.0->fastembed) (15.0.1)\n",
            "Requirement already satisfied: flatbuffers in /usr/local/lib/python3.11/dist-packages (from onnxruntime!=1.20.0,>=1.17.0->fastembed) (25.2.10)\n",
            "Requirement already satisfied: protobuf in /usr/local/lib/python3.11/dist-packages (from onnxruntime!=1.20.0,>=1.17.0->fastembed) (5.29.4)\n",
            "Requirement already satisfied: sympy in /usr/local/lib/python3.11/dist-packages (from onnxruntime!=1.20.0,>=1.17.0->fastembed) (1.13.1)\n",
            "Requirement already satisfied: charset-normalizer<4,>=2 in /usr/local/lib/python3.11/dist-packages (from requests<3.0,>=2.31->fastembed) (3.4.1)\n",
            "Requirement already satisfied: idna<4,>=2.5 in /usr/local/lib/python3.11/dist-packages (from requests<3.0,>=2.31->fastembed) (3.10)\n",
            "Requirement already satisfied: urllib3<3,>=1.21.1 in /usr/local/lib/python3.11/dist-packages (from requests<3.0,>=2.31->fastembed) (2.3.0)\n",
            "Requirement already satisfied: certifi>=2017.4.17 in /usr/local/lib/python3.11/dist-packages (from requests<3.0,>=2.31->fastembed) (2025.1.31)\n",
            "Requirement already satisfied: humanfriendly>=9.1 in /usr/local/lib/python3.11/dist-packages (from coloredlogs->onnxruntime!=1.20.0,>=1.17.0->fastembed) (10.0)\n",
            "Requirement already satisfied: mpmath<1.4,>=1.1.0 in /usr/local/lib/python3.11/dist-packages (from sympy->onnxruntime!=1.20.0,>=1.17.0->fastembed) (1.3.0)\n",
            "Requirement already satisfied: datasets in /usr/local/lib/python3.11/dist-packages (3.5.0)\n",
            "Requirement already satisfied: filelock in /usr/local/lib/python3.11/dist-packages (from datasets) (3.18.0)\n",
            "Requirement already satisfied: numpy>=1.17 in /usr/local/lib/python3.11/dist-packages (from datasets) (2.0.2)\n",
            "Requirement already satisfied: pyarrow>=15.0.0 in /usr/local/lib/python3.11/dist-packages (from datasets) (18.1.0)\n",
            "Requirement already satisfied: dill<0.3.9,>=0.3.0 in /usr/local/lib/python3.11/dist-packages (from datasets) (0.3.8)\n",
            "Requirement already satisfied: pandas in /usr/local/lib/python3.11/dist-packages (from datasets) (2.2.2)\n",
            "Requirement already satisfied: requests>=2.32.2 in /usr/local/lib/python3.11/dist-packages (from datasets) (2.32.3)\n",
            "Requirement already satisfied: tqdm>=4.66.3 in /usr/local/lib/python3.11/dist-packages (from datasets) (4.67.1)\n",
            "Requirement already satisfied: xxhash in /usr/local/lib/python3.11/dist-packages (from datasets) (3.5.0)\n",
            "Requirement already satisfied: multiprocess<0.70.17 in /usr/local/lib/python3.11/dist-packages (from datasets) (0.70.16)\n",
            "Requirement already satisfied: fsspec<=2024.12.0,>=2023.1.0 in /usr/local/lib/python3.11/dist-packages (from fsspec[http]<=2024.12.0,>=2023.1.0->datasets) (2024.12.0)\n",
            "Requirement already satisfied: aiohttp in /usr/local/lib/python3.11/dist-packages (from datasets) (3.11.14)\n",
            "Requirement already satisfied: huggingface-hub>=0.24.0 in /usr/local/lib/python3.11/dist-packages (from datasets) (0.29.3)\n",
            "Requirement already satisfied: packaging in /usr/local/lib/python3.11/dist-packages (from datasets) (24.2)\n",
            "Requirement already satisfied: pyyaml>=5.1 in /usr/local/lib/python3.11/dist-packages (from datasets) (6.0.2)\n",
            "Requirement already satisfied: aiohappyeyeballs>=2.3.0 in /usr/local/lib/python3.11/dist-packages (from aiohttp->datasets) (2.6.1)\n",
            "Requirement already satisfied: aiosignal>=1.1.2 in /usr/local/lib/python3.11/dist-packages (from aiohttp->datasets) (1.3.2)\n",
            "Requirement already satisfied: attrs>=17.3.0 in /usr/local/lib/python3.11/dist-packages (from aiohttp->datasets) (25.3.0)\n",
            "Requirement already satisfied: frozenlist>=1.1.1 in /usr/local/lib/python3.11/dist-packages (from aiohttp->datasets) (1.5.0)\n",
            "Requirement already satisfied: multidict<7.0,>=4.5 in /usr/local/lib/python3.11/dist-packages (from aiohttp->datasets) (6.2.0)\n",
            "Requirement already satisfied: propcache>=0.2.0 in /usr/local/lib/python3.11/dist-packages (from aiohttp->datasets) (0.3.0)\n",
            "Requirement already satisfied: yarl<2.0,>=1.17.0 in /usr/local/lib/python3.11/dist-packages (from aiohttp->datasets) (1.18.3)\n",
            "Requirement already satisfied: typing-extensions>=3.7.4.3 in /usr/local/lib/python3.11/dist-packages (from huggingface-hub>=0.24.0->datasets) (4.12.2)\n",
            "Requirement already satisfied: charset-normalizer<4,>=2 in /usr/local/lib/python3.11/dist-packages (from requests>=2.32.2->datasets) (3.4.1)\n",
            "Requirement already satisfied: idna<4,>=2.5 in /usr/local/lib/python3.11/dist-packages (from requests>=2.32.2->datasets) (3.10)\n",
            "Requirement already satisfied: urllib3<3,>=1.21.1 in /usr/local/lib/python3.11/dist-packages (from requests>=2.32.2->datasets) (2.3.0)\n",
            "Requirement already satisfied: certifi>=2017.4.17 in /usr/local/lib/python3.11/dist-packages (from requests>=2.32.2->datasets) (2025.1.31)\n",
            "Requirement already satisfied: python-dateutil>=2.8.2 in /usr/local/lib/python3.11/dist-packages (from pandas->datasets) (2.8.2)\n",
            "Requirement already satisfied: pytz>=2020.1 in /usr/local/lib/python3.11/dist-packages (from pandas->datasets) (2025.1)\n",
            "Requirement already satisfied: tzdata>=2022.7 in /usr/local/lib/python3.11/dist-packages (from pandas->datasets) (2025.1)\n",
            "Requirement already satisfied: six>=1.5 in /usr/local/lib/python3.11/dist-packages (from python-dateutil>=2.8.2->pandas->datasets) (1.17.0)\n"
          ]
        }
      ],
      "source": [
        "!pip install -qU langchain\n",
        "!pip install -qU langchain-google-genai\n",
        "!pip install -qU langchain-huggingface\n",
        "!pip install -qU langchain-qdrant\n",
        "!pip install -qU langchain-community\n",
        "!pip install -qU langgraph\n",
        "!pip install fastembed\n",
        "!pip install datasets\n",
        "# !pip install -U \"fsspec[http]==2024.10.0\""
      ]
    },
    {
      "cell_type": "markdown",
      "source": [
        "# Code"
      ],
      "metadata": {
        "id": "n-3XxUtTFPhi"
      }
    },
    {
      "cell_type": "markdown",
      "source": [
        "In this assignment, you will need to set up and use\n",
        "1. LangSmith to monitor your agent.\n",
        "2. Use hybrid search to improve your retriever\n",
        "3. Use a reranker to improve your search result.\n",
        "\n"
      ],
      "metadata": {
        "id": "BOnQUC-vVgJZ"
      }
    },
    {
      "cell_type": "markdown",
      "source": [
        "## TODO 0: Set up LangSmith\n",
        "\n",
        "Create a LangSmith account and set up tracing for this assignment. https://www.smith.langchain.com/.\n",
        "\n",
        "No need to configure, just add your LangSmith API key."
      ],
      "metadata": {
        "id": "yUiunZrnDIw0"
      }
    },
    {
      "cell_type": "code",
      "source": [
        "import os\n",
        "from google.colab import userdata\n",
        "\n",
        "os.environ[\"GOOGLE_API_KEY\"] = userdata.get('gemini_api_key')\n",
        "os.environ[\"LANGSMITH_API_KEY\"] = userdata.get('langsmith_api_key')\n",
        "os.environ[\"LANGSMITH_TRACING\"] = \"true\"\n",
        "os.environ[\"LANGCHAIN_TRACING_V2\"] = \"true\""
      ],
      "metadata": {
        "id": "fYl0GVh_UCAB"
      },
      "execution_count": 2,
      "outputs": []
    },
    {
      "cell_type": "code",
      "source": [
        "from huggingface_hub import notebook_login\n",
        "\n",
        "notebook_login()"
      ],
      "metadata": {
        "colab": {
          "base_uri": "https://localhost:8080/",
          "height": 17,
          "referenced_widgets": [
            "a9dd000581ae430db8b83c2491e33d12",
            "b853413bd8c4458cbaeaf0ce9f268bc5",
            "eb2d168e0b154199abac70950d79922a",
            "c47457aaaebc404ca357f3f57c06fd2b",
            "153adf7deb234b5e82a5c4ed1c6d1cb3",
            "d4441efb0dff4659bd73d47de6d92305",
            "2407c858b15840e6bf2fe6d29039314e",
            "fc8bf291a6d741b5b7a989d69c74bbf9",
            "a1f3fc1a678545eba6242b169558f294",
            "fc1a4d1d300b4a94b860755c4e5b8661",
            "b243f74dcbf64570a5adbfc17c8dd06c",
            "2b6d380cacc049ca962fec4c59c6ff74",
            "3636a7ec35944c94aab1c661610cb3ce",
            "7bed6b512dd3442991db90717ffe6b5a",
            "8f7c3155d30e42c2b5146f97cd44635d",
            "1e4e7bfabb00443b826184887c1295e0",
            "a10eb16710f94efe835f24d26d718b50",
            "9283fed0a8cc4a99972b38b09a77027a",
            "b4d01e8436d64f379c7a6faa0c8b05cc",
            "10bf6ed464194421b9d35dfa0f859cf0"
          ]
        },
        "id": "_fCjS0MFPbAc",
        "outputId": "32672cad-9e92-44b8-bfa9-ac3dab4f46be"
      },
      "execution_count": 3,
      "outputs": [
        {
          "output_type": "display_data",
          "data": {
            "text/plain": [
              "VBox(children=(HTML(value='<center> <img\\nsrc=https://huggingface.co/front/assets/huggingface_logo-noborder.sv…"
            ],
            "application/vnd.jupyter.widget-view+json": {
              "version_major": 2,
              "version_minor": 0,
              "model_id": "a9dd000581ae430db8b83c2491e33d12"
            }
          },
          "metadata": {}
        }
      ]
    },
    {
      "cell_type": "markdown",
      "source": [
        "## Components"
      ],
      "metadata": {
        "id": "JD2KQEXtGqLY"
      }
    },
    {
      "cell_type": "markdown",
      "source": [
        "We will be using Gemini as our LLM. Feel free to try out others if you want."
      ],
      "metadata": {
        "id": "hWMzV-Goqjel"
      }
    },
    {
      "cell_type": "code",
      "source": [
        "from langchain_google_genai import ChatGoogleGenerativeAI\n",
        "\n",
        "llm = ChatGoogleGenerativeAI(model=\"gemini-2.0-flash-001\")"
      ],
      "metadata": {
        "id": "0V2N4n8DGrd4"
      },
      "execution_count": 3,
      "outputs": []
    },
    {
      "cell_type": "markdown",
      "source": [
        "For our sentence embeddings, we will use [ModernBERT](https://arxiv.org/abs/2412.13663) trained by Alibaba as it is small and performant."
      ],
      "metadata": {
        "id": "5Wl6UDzxqt12"
      }
    },
    {
      "cell_type": "code",
      "source": [
        "from langchain_huggingface import HuggingFaceEmbeddings\n",
        "\n",
        "model_kwargs = {'trust_remote_code': True}\n",
        "embeddings = HuggingFaceEmbeddings(model_name=\"Alibaba-NLP/gte-modernbert-base\",model_kwargs=model_kwargs)"
      ],
      "metadata": {
        "id": "_uamWhgFGwsK",
        "colab": {
          "base_uri": "https://localhost:8080/"
        },
        "outputId": "78ae0ae6-2761-491f-c1d0-588bb5f84e8e"
      },
      "execution_count": 4,
      "outputs": [
        {
          "output_type": "stream",
          "name": "stderr",
          "text": [
            "/usr/local/lib/python3.11/dist-packages/huggingface_hub/utils/_auth.py:94: UserWarning: \n",
            "The secret `HF_TOKEN` does not exist in your Colab secrets.\n",
            "To authenticate with the Hugging Face Hub, create a token in your settings tab (https://huggingface.co/settings/tokens), set it as secret in your Google Colab and restart your session.\n",
            "You will be able to reuse this secret in all of your notebooks.\n",
            "Please note that authentication is recommended but still optional to access public models or datasets.\n",
            "  warnings.warn(\n"
          ]
        }
      ]
    },
    {
      "cell_type": "markdown",
      "source": [
        "Likewise, the reranker is also based on the ModernBERT trained by Alibaba."
      ],
      "metadata": {
        "id": "74HajtoZryFT"
      }
    },
    {
      "cell_type": "code",
      "source": [
        "from langchain.retrievers import ContextualCompressionRetriever\n",
        "from langchain.retrievers.document_compressors import CrossEncoderReranker\n",
        "from langchain_community.cross_encoders import HuggingFaceCrossEncoder\n",
        "\n",
        "model = HuggingFaceCrossEncoder(model_name=\"Alibaba-NLP/gte-reranker-modernbert-base\")"
      ],
      "metadata": {
        "id": "uf6EXLTmUgB_"
      },
      "execution_count": 5,
      "outputs": []
    },
    {
      "cell_type": "markdown",
      "source": [
        "For our dataset, we will be using SQuAD v2 dataset."
      ],
      "metadata": {
        "id": "cHD5GXcAWJlo"
      }
    },
    {
      "cell_type": "code",
      "source": [
        "import datasets\n",
        "\n",
        "ds = datasets.load_dataset(\"rajpurkar/squad_v2\", split=\"validation\")"
      ],
      "metadata": {
        "id": "eY2ojeRsr77P"
      },
      "execution_count": 6,
      "outputs": []
    },
    {
      "cell_type": "markdown",
      "source": [
        "## Indexing"
      ],
      "metadata": {
        "id": "k2QulmK5GAaJ"
      }
    },
    {
      "cell_type": "code",
      "source": [
        "from langchain_core.documents import Document"
      ],
      "metadata": {
        "id": "Rjik9YIZA_4R"
      },
      "execution_count": 7,
      "outputs": []
    },
    {
      "cell_type": "code",
      "source": [
        "all_docs = [Document(text) for text in  list(set(ds[\"context\"]))]\n",
        "print(len(all_docs))"
      ],
      "metadata": {
        "id": "r2Cg8NL0AdjJ",
        "colab": {
          "base_uri": "https://localhost:8080/"
        },
        "outputId": "eddb2709-6a79-4171-8bd4-799efc30df7c"
      },
      "execution_count": 8,
      "outputs": [
        {
          "output_type": "stream",
          "name": "stdout",
          "text": [
            "1204\n"
          ]
        }
      ]
    },
    {
      "cell_type": "code",
      "source": [
        "from langchain_text_splitters import RecursiveCharacterTextSplitter\n",
        "\n",
        "text_splitter = RecursiveCharacterTextSplitter(\n",
        "    chunk_size=2000,  # chunk size (characters)\n",
        "    chunk_overlap=200,  # chunk overlap (characters)\n",
        "    add_start_index=True,  # track index in original document\n",
        ")\n",
        "all_splits = text_splitter.split_documents(all_docs)\n",
        "\n",
        "print(f\"Split wiki abstract into {len(all_splits)} sub-documents.\")"
      ],
      "metadata": {
        "id": "gaqd68wEFIiN",
        "colab": {
          "base_uri": "https://localhost:8080/"
        },
        "outputId": "2199eefa-145c-4456-c92b-8695c42e0a65"
      },
      "execution_count": 9,
      "outputs": [
        {
          "output_type": "stream",
          "name": "stdout",
          "text": [
            "Split wiki abstract into 1222 sub-documents.\n"
          ]
        }
      ]
    },
    {
      "cell_type": "markdown",
      "source": [
        "## TODO 1: Hybrid Search\n",
        "Embed your documents in a vector database that supports hybrid search. Also set the retrieval mode to hybrid search. Use BM25 as the lexical search.\n",
        "\n",
        "Hint: read more on `QdrantVectorStore` [here](https://python.langchain.com/api_reference/qdrant/qdrant/langchain_qdrant.qdrant.QdrantVectorStore.html#langchain_qdrant.qdrant.QdrantVectorStore). (You can use any vector DB that can do hybrid search)"
      ],
      "metadata": {
        "id": "5vbjsA4css9s"
      }
    },
    {
      "cell_type": "code",
      "source": [
        "from langchain_qdrant import FastEmbedSparse, QdrantVectorStore, RetrievalMode\n",
        "from qdrant_client import QdrantClient, models\n",
        "from qdrant_client.http.models import Distance, SparseVectorParams, VectorParams\n",
        "\n",
        "sparse_embeddings = FastEmbedSparse(model_name=\"Qdrant/bm25\")\n",
        "\n",
        "client = QdrantClient(path=\"/tmp/langchain_qdrant\")\n",
        "\n",
        "client.create_collection(\n",
        "    collection_name=\"my_documents\",\n",
        "    vectors_config={\"dense\": VectorParams(size=768, distance=Distance.COSINE)},\n",
        "    sparse_vectors_config={\n",
        "        \"sparse\": SparseVectorParams(index=models.SparseIndexParams(on_disk=False))\n",
        "    },\n",
        ")"
      ],
      "metadata": {
        "colab": {
          "base_uri": "https://localhost:8080/",
          "height": 495
        },
        "id": "EizdOQykBT5d",
        "outputId": "dd85c7a8-f802-4deb-c679-25e3060e9018"
      },
      "execution_count": 13,
      "outputs": [
        {
          "output_type": "error",
          "ename": "RuntimeError",
          "evalue": "Storage folder /tmp/langchain_qdrant is already accessed by another instance of Qdrant client. If you require concurrent access, use Qdrant server instead.",
          "traceback": [
            "\u001b[0;31m---------------------------------------------------------------------------\u001b[0m",
            "\u001b[0;31mBlockingIOError\u001b[0m                           Traceback (most recent call last)",
            "\u001b[0;32m/usr/local/lib/python3.11/dist-packages/portalocker/portalocker.py\u001b[0m in \u001b[0;36mlock\u001b[0;34m(file_, flags)\u001b[0m\n\u001b[1;32m    117\u001b[0m         \u001b[0;32mtry\u001b[0m\u001b[0;34m:\u001b[0m\u001b[0;34m\u001b[0m\u001b[0;34m\u001b[0m\u001b[0m\n\u001b[0;32m--> 118\u001b[0;31m             \u001b[0mLOCKER\u001b[0m\u001b[0;34m(\u001b[0m\u001b[0mfile_\u001b[0m\u001b[0;34m,\u001b[0m \u001b[0mflags\u001b[0m\u001b[0;34m)\u001b[0m\u001b[0;34m\u001b[0m\u001b[0;34m\u001b[0m\u001b[0m\n\u001b[0m\u001b[1;32m    119\u001b[0m         \u001b[0;32mexcept\u001b[0m \u001b[0mOSError\u001b[0m \u001b[0;32mas\u001b[0m \u001b[0mexc_value\u001b[0m\u001b[0;34m:\u001b[0m\u001b[0;34m\u001b[0m\u001b[0;34m\u001b[0m\u001b[0m\n",
            "\u001b[0;31mBlockingIOError\u001b[0m: [Errno 11] Resource temporarily unavailable",
            "\nThe above exception was the direct cause of the following exception:\n",
            "\u001b[0;31mAlreadyLocked\u001b[0m                             Traceback (most recent call last)",
            "\u001b[0;32m/usr/local/lib/python3.11/dist-packages/qdrant_client/local/qdrant_local.py\u001b[0m in \u001b[0;36m_load\u001b[0;34m(self)\u001b[0m\n\u001b[1;32m    133\u001b[0m         \u001b[0;32mtry\u001b[0m\u001b[0;34m:\u001b[0m\u001b[0;34m\u001b[0m\u001b[0;34m\u001b[0m\u001b[0m\n\u001b[0;32m--> 134\u001b[0;31m             portalocker.lock(\n\u001b[0m\u001b[1;32m    135\u001b[0m                 \u001b[0mself\u001b[0m\u001b[0;34m.\u001b[0m\u001b[0m_flock_file\u001b[0m\u001b[0;34m,\u001b[0m\u001b[0;34m\u001b[0m\u001b[0;34m\u001b[0m\u001b[0m\n",
            "\u001b[0;32m/usr/local/lib/python3.11/dist-packages/portalocker/portalocker.py\u001b[0m in \u001b[0;36mlock\u001b[0;34m(file_, flags)\u001b[0m\n\u001b[1;32m    130\u001b[0m                 \u001b[0;31m# again (if it wants to).\u001b[0m\u001b[0;34m\u001b[0m\u001b[0;34m\u001b[0m\u001b[0m\n\u001b[0;32m--> 131\u001b[0;31m                 raise exceptions.AlreadyLocked(\n\u001b[0m\u001b[1;32m    132\u001b[0m                     \u001b[0mexc_value\u001b[0m\u001b[0;34m,\u001b[0m\u001b[0;34m\u001b[0m\u001b[0;34m\u001b[0m\u001b[0m\n",
            "\u001b[0;31mAlreadyLocked\u001b[0m: [Errno 11] Resource temporarily unavailable",
            "\nDuring handling of the above exception, another exception occurred:\n",
            "\u001b[0;31mRuntimeError\u001b[0m                              Traceback (most recent call last)",
            "\u001b[0;32m<ipython-input-13-f96e8cb9acba>\u001b[0m in \u001b[0;36m<cell line: 0>\u001b[0;34m()\u001b[0m\n\u001b[1;32m      5\u001b[0m \u001b[0msparse_embeddings\u001b[0m \u001b[0;34m=\u001b[0m \u001b[0mFastEmbedSparse\u001b[0m\u001b[0;34m(\u001b[0m\u001b[0mmodel_name\u001b[0m\u001b[0;34m=\u001b[0m\u001b[0;34m\"Qdrant/bm25\"\u001b[0m\u001b[0;34m)\u001b[0m\u001b[0;34m\u001b[0m\u001b[0;34m\u001b[0m\u001b[0m\n\u001b[1;32m      6\u001b[0m \u001b[0;34m\u001b[0m\u001b[0m\n\u001b[0;32m----> 7\u001b[0;31m \u001b[0mclient\u001b[0m \u001b[0;34m=\u001b[0m \u001b[0mQdrantClient\u001b[0m\u001b[0;34m(\u001b[0m\u001b[0mpath\u001b[0m\u001b[0;34m=\u001b[0m\u001b[0;34m\"/tmp/langchain_qdrant\"\u001b[0m\u001b[0;34m)\u001b[0m\u001b[0;34m\u001b[0m\u001b[0;34m\u001b[0m\u001b[0m\n\u001b[0m\u001b[1;32m      8\u001b[0m \u001b[0;34m\u001b[0m\u001b[0m\n\u001b[1;32m      9\u001b[0m client.create_collection(\n",
            "\u001b[0;32m/usr/local/lib/python3.11/dist-packages/qdrant_client/qdrant_client.py\u001b[0m in \u001b[0;36m__init__\u001b[0;34m(self, location, url, port, grpc_port, prefer_grpc, https, api_key, prefix, timeout, host, path, force_disable_check_same_thread, grpc_options, auth_token_provider, cloud_inference, check_compatibility, **kwargs)\u001b[0m\n\u001b[1;32m    128\u001b[0m             )\n\u001b[1;32m    129\u001b[0m         \u001b[0;32melif\u001b[0m \u001b[0mpath\u001b[0m \u001b[0;32mis\u001b[0m \u001b[0;32mnot\u001b[0m \u001b[0;32mNone\u001b[0m\u001b[0;34m:\u001b[0m\u001b[0;34m\u001b[0m\u001b[0;34m\u001b[0m\u001b[0m\n\u001b[0;32m--> 130\u001b[0;31m             self._client = QdrantLocal(\n\u001b[0m\u001b[1;32m    131\u001b[0m                 \u001b[0mlocation\u001b[0m\u001b[0;34m=\u001b[0m\u001b[0mpath\u001b[0m\u001b[0;34m,\u001b[0m\u001b[0;34m\u001b[0m\u001b[0;34m\u001b[0m\u001b[0m\n\u001b[1;32m    132\u001b[0m                 \u001b[0mforce_disable_check_same_thread\u001b[0m\u001b[0;34m=\u001b[0m\u001b[0mforce_disable_check_same_thread\u001b[0m\u001b[0;34m,\u001b[0m\u001b[0;34m\u001b[0m\u001b[0;34m\u001b[0m\u001b[0m\n",
            "\u001b[0;32m/usr/local/lib/python3.11/dist-packages/qdrant_client/local/qdrant_local.py\u001b[0m in \u001b[0;36m__init__\u001b[0;34m(self, location, force_disable_check_same_thread)\u001b[0m\n\u001b[1;32m     65\u001b[0m         \u001b[0mself\u001b[0m\u001b[0;34m.\u001b[0m\u001b[0maliases\u001b[0m\u001b[0;34m:\u001b[0m \u001b[0mdict\u001b[0m\u001b[0;34m[\u001b[0m\u001b[0mstr\u001b[0m\u001b[0;34m,\u001b[0m \u001b[0mstr\u001b[0m\u001b[0;34m]\u001b[0m \u001b[0;34m=\u001b[0m \u001b[0;34m{\u001b[0m\u001b[0;34m}\u001b[0m\u001b[0;34m\u001b[0m\u001b[0;34m\u001b[0m\u001b[0m\n\u001b[1;32m     66\u001b[0m         \u001b[0mself\u001b[0m\u001b[0;34m.\u001b[0m\u001b[0m_flock_file\u001b[0m\u001b[0;34m:\u001b[0m \u001b[0mOptional\u001b[0m\u001b[0;34m[\u001b[0m\u001b[0mTextIOWrapper\u001b[0m\u001b[0;34m]\u001b[0m \u001b[0;34m=\u001b[0m \u001b[0;32mNone\u001b[0m\u001b[0;34m\u001b[0m\u001b[0;34m\u001b[0m\u001b[0m\n\u001b[0;32m---> 67\u001b[0;31m         \u001b[0mself\u001b[0m\u001b[0;34m.\u001b[0m\u001b[0m_load\u001b[0m\u001b[0;34m(\u001b[0m\u001b[0;34m)\u001b[0m\u001b[0;34m\u001b[0m\u001b[0;34m\u001b[0m\u001b[0m\n\u001b[0m\u001b[1;32m     68\u001b[0m         \u001b[0mself\u001b[0m\u001b[0;34m.\u001b[0m\u001b[0m_closed\u001b[0m\u001b[0;34m:\u001b[0m \u001b[0mbool\u001b[0m \u001b[0;34m=\u001b[0m \u001b[0;32mFalse\u001b[0m\u001b[0;34m\u001b[0m\u001b[0;34m\u001b[0m\u001b[0m\n\u001b[1;32m     69\u001b[0m \u001b[0;34m\u001b[0m\u001b[0m\n",
            "\u001b[0;32m/usr/local/lib/python3.11/dist-packages/qdrant_client/local/qdrant_local.py\u001b[0m in \u001b[0;36m_load\u001b[0;34m(self)\u001b[0m\n\u001b[1;32m    137\u001b[0m             )\n\u001b[1;32m    138\u001b[0m         \u001b[0;32mexcept\u001b[0m \u001b[0mportalocker\u001b[0m\u001b[0;34m.\u001b[0m\u001b[0mexceptions\u001b[0m\u001b[0;34m.\u001b[0m\u001b[0mLockException\u001b[0m\u001b[0;34m:\u001b[0m\u001b[0;34m\u001b[0m\u001b[0;34m\u001b[0m\u001b[0m\n\u001b[0;32m--> 139\u001b[0;31m             raise RuntimeError(\n\u001b[0m\u001b[1;32m    140\u001b[0m                 \u001b[0;34mf\"Storage folder {self.location} is already accessed by another instance of Qdrant client.\"\u001b[0m\u001b[0;34m\u001b[0m\u001b[0;34m\u001b[0m\u001b[0m\n\u001b[1;32m    141\u001b[0m                 \u001b[0;34mf\" If you require concurrent access, use Qdrant server instead.\"\u001b[0m\u001b[0;34m\u001b[0m\u001b[0;34m\u001b[0m\u001b[0m\n",
            "\u001b[0;31mRuntimeError\u001b[0m: Storage folder /tmp/langchain_qdrant is already accessed by another instance of Qdrant client. If you require concurrent access, use Qdrant server instead."
          ]
        }
      ]
    },
    {
      "cell_type": "code",
      "source": [
        "# retriever\n",
        "qdrant = QdrantVectorStore(\n",
        "    client=client,\n",
        "    collection_name=\"my_documents\",\n",
        "    embedding=embeddings,\n",
        "    sparse_embedding=sparse_embeddings,\n",
        "    retrieval_mode=RetrievalMode.HYBRID,\n",
        "    vector_name=\"dense\",\n",
        "    sparse_vector_name=\"sparse\",\n",
        ")\n",
        "\n",
        "qdrant.add_documents(documents=all_splits)"
      ],
      "metadata": {
        "id": "wn4hNqm37xCs",
        "colab": {
          "base_uri": "https://localhost:8080/"
        },
        "outputId": "d7410a0f-7be9-4a1c-f341-cf1e6b23e646",
        "collapsed": true
      },
      "execution_count": 14,
      "outputs": [
        {
          "output_type": "execute_result",
          "data": {
            "text/plain": [
              "['dfc50757cbf644a6867c6a63bc597b20',\n",
              " '903f655bcd54495f997da75a082444f1',\n",
              " 'f40fbaaa41d44306af4e4b8bb0bb6940',\n",
              " '47cd089e28f44944bf1a5993ec98ab25',\n",
              " '62fe52587f52497b9717af2d36f67212',\n",
              " '37733d4ee7c74f019819c849f47885c7',\n",
              " '6c34a9d98ac34c288a87a8cd2aff2ca8',\n",
              " 'c774edf9f8d44d34b861565f63d21b1b',\n",
              " '0095bc109380461f85b16710647251f1',\n",
              " '94173dabdf15450fb0486b0d549c4a00',\n",
              " 'df55448ce7464dcfaac1f4447bfe760c',\n",
              " '95c4aff78b7a40f287bb376488d0bc69',\n",
              " '5d4cacf830c04e63814b6f7c399fa5b7',\n",
              " 'b27acac45cff4377aefe76c798c0028e',\n",
              " 'fcc82149e8394eaa85f5eee1774177d9',\n",
              " '4a7901d144f841aa95d31398e6b7c5ab',\n",
              " 'fbd6c5fdd07949a394fb02a05cae0f86',\n",
              " 'be1bdd13c4404547b69e3528592bd56f',\n",
              " '3b0d45ca19f54ceb9cc3d1dc4c149479',\n",
              " 'f7e2f5c484f3436c8df76ada60ff6805',\n",
              " 'a30d324592c242d5bbf6380b5ddfa301',\n",
              " 'c17dcb9d58c14309ad02f399d59eacff',\n",
              " '8f08fc7218ae40af86f7db5123688b93',\n",
              " '3808232ed9f244789e6c82a1a59e137d',\n",
              " '15b8e720ae65439f837bd0c23b8e3d5d',\n",
              " '511b7db0ba5c48628e3d2a4f1fd5f650',\n",
              " '70256752dd384e10be17d67a9a368c33',\n",
              " '1af2383639aa4eb3ab736c0a4a97543e',\n",
              " '6091cac557b443cfa4cd34d7e1a2e65f',\n",
              " '805d5d63dcdc4ba18c44905163bbf483',\n",
              " '2266fcd2f0694b6c9be3c3d6611a21f0',\n",
              " '1fffea3d0c6242d38b5ec84a7933d34c',\n",
              " 'de3eab0f13ea400ba9440f1c1949a085',\n",
              " '66df94fd0e2444afa831875b278c687e',\n",
              " 'ef5d30ff2f8c413d81e427dc3ee61532',\n",
              " 'e5df228f284a4a49b9ad30b40edf794f',\n",
              " 'b1fbf39da7c34c62ab806ed535ca9964',\n",
              " '42d28bec38e24c0f8781a3052c6cbbdb',\n",
              " '9597d6547a4d467bb87997cd3b9b9208',\n",
              " 'b884f53f55bc49368d0c7c0734d253f4',\n",
              " '160784a40df94bc99d874d366f99f600',\n",
              " '68401552f1cc4facb1abde3162b348cf',\n",
              " 'e7c8fbf92b714da4935873b174c4dbba',\n",
              " '057a796fb55841319489526aa041bbbe',\n",
              " '3e697d662d9d479992c5deb87bb1d83d',\n",
              " 'd5e771d22e3744db944c40abae87e7bd',\n",
              " 'f4ccaa0b110441e1b0055173bd651cbe',\n",
              " '8185a3824cc0473991a8b30e5b9f5c0a',\n",
              " '2076dbfa46464573869afb87fe039a79',\n",
              " '1423baf718a5467f8dab342273c4529d',\n",
              " '81386826fe894ce78f8c282cdb55bd84',\n",
              " '497d733b9cf9419daf9117362747b675',\n",
              " '0776119e55d94fe08c6470d655d8daba',\n",
              " '939bb1194bb645c187c57130adb9fded',\n",
              " '2380627b9119489a961fcb2471e98ffc',\n",
              " '420002e58dcc481fb87bf4153890130e',\n",
              " '7c0ac0e62c364da8b368acd2593962fb',\n",
              " 'e682620a346349a5a23822af37425605',\n",
              " '576987edb79c4f198ae94e32583317e9',\n",
              " 'fcc3894bf2534b04bbc3862ce5f15b8f',\n",
              " 'f9b1430155864dcd9dc7dc92cbcb2460',\n",
              " '66a92492fd1545ce8f31cd0465d67412',\n",
              " '18c3c7aae9114b3fb6956386b5d2ac43',\n",
              " 'e8b30e3c75ac4f5388835f894fc72d27',\n",
              " '87484afc9dd24ac392ca1f1e11409675',\n",
              " '218f0cac3feb4f7dbf14855acec3eacc',\n",
              " 'b51e04bc6fda44bda37ba40a07efc5a6',\n",
              " '1ae2b45468554431bc482261930475db',\n",
              " 'ba6f29954ebb4902979b18554f394a5d',\n",
              " 'a0a6dbe10bba49dcaac60aa67fb175ae',\n",
              " 'ffca48cd67124c868032db5171931518',\n",
              " '2858969b65e24dac86b99463f8b52701',\n",
              " '1c37afce057742249f6c0b9118ff9b96',\n",
              " 'b408225fa9864bc890287a154013c0f2',\n",
              " 'd933d6e8272f4b51865b510f3d5dff40',\n",
              " '8311b3eadda0452ebf9eea0c598f226c',\n",
              " 'd8f0eaae1a52472d9e69e84ba8f773d0',\n",
              " '1a9d5fc8163b493a996321c234006c56',\n",
              " 'db86e7d26d5041cfb8d87a74d23cf8ea',\n",
              " '1da981420cdd47189a826d321e33a56c',\n",
              " 'cd0169573edf42bba032b0d9f3bb1a2d',\n",
              " 'f3ba2ae0830043c391a460fcbec1fa85',\n",
              " '91fee890c3eb444fb019cf4576fadabd',\n",
              " '9817b23e50ab49d2b0f9f4392f6911ec',\n",
              " 'e40869298a0847d3811a07576a9d5e2b',\n",
              " '5d0980abfcc244e28eede301b66fd2dd',\n",
              " 'b71c5f7feab94a9bb1a643820d268ad0',\n",
              " '4f340292a2ce42219071b32b3ba7f33b',\n",
              " '4b3d7942676d44b7bbfa22e17cb29e0e',\n",
              " '2347351b4d3847189995b91e93e1a6ff',\n",
              " '3e2da2347784486d86bd1cb562c8377b',\n",
              " '121b5b1bb13547e6b8f4b50f1fab001f',\n",
              " '869d3c1225cd413c84fb88e1ee7d44c8',\n",
              " 'd3a447720e2c4cc5a3da73683199e4ff',\n",
              " '07108f5ba1a74aa6ab257580449e09dc',\n",
              " '235a6815bfb6478d9fceb15a700724b3',\n",
              " 'bbaf7ef9a74f44709e6efeaa7b71b34d',\n",
              " 'b838922e45344aa1b2b0499945bdb88f',\n",
              " '05172ac7b5fb4cbe890dedb3719cda4d',\n",
              " '1c5dc313e21149658e7ab64ddce3581c',\n",
              " '2d3d6159ee644c66ad08f224fcd28b48',\n",
              " '7149ea9388b2439ababc15d4353743e3',\n",
              " 'f794cfd839554131835824bae7a55467',\n",
              " '52256d9a77db4d4db4b94a5f4f0b8600',\n",
              " 'e5ea927602fb4dc9b6f2b1b7568f3aa1',\n",
              " '149897e6f28042c6a303c6e0a6e79dd4',\n",
              " '226d15e8f49b4755aaaeb6631b3eeab5',\n",
              " '4ee723ea9519465fa63016bbacfe8efc',\n",
              " 'baf04e5b7b55421e8faf0b6d94e7035b',\n",
              " '0cdc680ab4d14515991499fff1febed3',\n",
              " 'e073b322db1d44cea9f50615de68c42b',\n",
              " '717c70bc594643ca994d70b228ef8470',\n",
              " '209f7f1e660c44c38c55bc5400faff01',\n",
              " '43f139e974c148d997cb855a6d8ec3d1',\n",
              " 'e76acd339f7d47a68b05f184cc94453a',\n",
              " '75cbdc10c62144549f112fa7efa6926f',\n",
              " '82e02e0ab8ea444d8e1f44249e6fa801',\n",
              " '3de9d2e8880642fcb462610c2124fd57',\n",
              " 'efd0d95ac4ec42a3bf4f74129a756f8d',\n",
              " 'f649607ea0fe4118a462f7c9c3d58ba5',\n",
              " 'f23cd892fd7a4e34b242a6418f7f4041',\n",
              " '56f6570eac264b46959ad5d9f1fd4bd5',\n",
              " 'c35c770173f04a2bb86130b5271f58c8',\n",
              " 'a753386a4fc64e1b8740656f3dec9b65',\n",
              " '7bd9c185e14c4885bae44deca43cccf2',\n",
              " '295bc2353782497db6f71fe3f56bf11a',\n",
              " '2a23472f1b37493ab49a7ebd58ae81fd',\n",
              " '9f9afce2bc944bb0b739426f8426ee2a',\n",
              " '34a50b8907f2494ea7fe1bd308de0dd4',\n",
              " 'b6fe8b7bf48c4246bf6fee7e84a3f9a2',\n",
              " 'd3534aaff110412b80b85a4075a423a7',\n",
              " 'cc047e1979f445eca8ccbdfc8be36ad6',\n",
              " '362ba60506c94bbf891a132027be0b9a',\n",
              " 'd8276cccefcf42d5b6f1b3fc184937cc',\n",
              " '8f0ffed7f599423b8c78f13c96f45ba4',\n",
              " '0a969cd91f804be9a27b0b199810accc',\n",
              " '6ab4161dcd9f43fb87bad36f5699ef78',\n",
              " 'a086bf3436714c5ba96a193053a0f7f3',\n",
              " 'a3b20fcb009f4ff481d9ac5d466bab87',\n",
              " 'ff8a27137ab24855a917398991e02489',\n",
              " '149aece474b74a5dbf112b559b76cd79',\n",
              " '4e3dc96a40a1435892270eaf0ce06383',\n",
              " '882249373afb4b8da0118d43557089b8',\n",
              " 'c972e00320e84c21b6eaf4030d3bdeba',\n",
              " 'ee4d81488e394926a0225f7189227a6a',\n",
              " 'c3e5c9875fe84b59b9d945748682a2b7',\n",
              " 'fffb1191868f45a1bf11146ece032dd0',\n",
              " 'b308535e983341de9f6bd00de7b74b86',\n",
              " '1243875ce0124ee2b0264dda9bb2c170',\n",
              " '64cf7f02144342d4b4c552f060ccf540',\n",
              " '28d4f90c13b34b339a8a4d2bcb8273e6',\n",
              " '48b53212002d41879163104be47093aa',\n",
              " 'd523d531f4bf4cd198f64ac7ccaf9c7b',\n",
              " '0baedc75e8034f29827371f8563dcdaa',\n",
              " 'c3a854a57532432fa2aee22ccf08e940',\n",
              " '676ed75bfb014f4fb000d77155369694',\n",
              " 'a54e2c9d7bf14e97a7c52d9ef8fb19f3',\n",
              " '990edccac1114a34a61cafdaf955d9d0',\n",
              " '299a0dc2f0354bdc9e589b40976ecdb3',\n",
              " '2ebb611510b245dc8f817f894676ac33',\n",
              " '671efe53268d4f319ace50acba952261',\n",
              " 'be242af335944d609f128fa4840f78e3',\n",
              " 'fbd055ff687e4c19be52356da2a260d7',\n",
              " '2e82d82817314c1eb5ba4b60f6cefed2',\n",
              " '08e81f36def34482b98c6e6da11f26f4',\n",
              " '8541c0798426402c8bca248cc3978154',\n",
              " 'c5bd6a3d1b5145af89d1534b731628a1',\n",
              " '818f221fa5d74daf8cc4e805361cc070',\n",
              " '1f803ffdf036481486e205795f41cf80',\n",
              " 'b178c2a6f4d44a79b5dfd0bf2d77809d',\n",
              " '28954563db4a4697a7f192d04caca71d',\n",
              " '78314dd2effe4ad38becc63d32f190b5',\n",
              " 'cb27a4d3aa7340c79bdc7ff2099e0717',\n",
              " '6fbf67986d5844b78b1e5e8fc346493a',\n",
              " '7d1e01167f574520bf1d3a818f3c0f48',\n",
              " '8f4fdedc59674139874afdf43afca732',\n",
              " '61122a26d9f34ae1855b545b4c47393c',\n",
              " 'd7eec5c2f3474cf2ab871ee2758343dc',\n",
              " 'b65bd6d47c1c4932b30f034f3d65ebef',\n",
              " 'a737d8887ff748aa98603efb6a57ed77',\n",
              " 'b74d72aa38564cacaf711e6c3dad2214',\n",
              " '526b88edfd6f4f49be74a9d4aced45cf',\n",
              " '203b23a07a7846aca7e2c651ca24d4c6',\n",
              " '104989f19c034b61a8c53d42b92a5c36',\n",
              " 'bbec47eae84849be89def3205b9de558',\n",
              " 'b6569224bc704f1793bf671187026787',\n",
              " 'd6e5139ec57740fc8750e791e3fdf42a',\n",
              " '7847c55b9ad9455a93de6a8fbec647f8',\n",
              " '53b51313eeef473ea3a35619e5cd889f',\n",
              " '23cc7deeeef642c194c1801bba202915',\n",
              " 'bdef98a833e748d4b5e17d493f87a237',\n",
              " '48de440160bb43aebeb1b6cb45e56183',\n",
              " '2c894c9c00964cfdb912a48113687466',\n",
              " '88f0feeebd1045e7b6b052e3cbb67107',\n",
              " 'aaa5ca8255d749a7bdd2b90579f84bc6',\n",
              " '791b20c1c0104e0e98d6b1c48e36f4f5',\n",
              " 'a1c6b52ed8d14fa3b9c2d6ee155c64be',\n",
              " 'abafbb7aaf8341d59be541931c066e32',\n",
              " '16f8e44d31734b48b39320ec4e714c72',\n",
              " '1f064d4f392249afadac667ea4094116',\n",
              " '9bac990241664e5bbf65981f0d1d5360',\n",
              " 'edf3c011dadd4c41b020e6f1988a4aee',\n",
              " '3e6b51f9c3704047b004917e5d28d920',\n",
              " 'e6a240f950b24ab7848bdb99a1959208',\n",
              " '5ba391f270144548965671bb5e2f2cdd',\n",
              " '98b685db1ef845c298bc17f85899628d',\n",
              " '6ca24a9a83b642b69e5bc41d6c9aabfd',\n",
              " '87ffefc0640e402bb51d12ba17bd967f',\n",
              " 'c1812175b4134b10ba3203c35577e8e2',\n",
              " '2d0b9693b6904f29a32d8c61ed203095',\n",
              " '47cabec5a4bf4756a46171a9a0151296',\n",
              " 'e2e9666246f04b77ba10411ede07d649',\n",
              " '00172c3d22cb4a289a5792fc24794653',\n",
              " '97794f8000a346a2856f6a58a1e8dd56',\n",
              " 'a07c57d3f5094dbca074ae0ad0d189c6',\n",
              " 'f327962cad6b4fa4ad1f2f127807216f',\n",
              " '40bbe02508f8441786905758eb513f7b',\n",
              " 'c99d5ca13ba348478ed860bb1d5affec',\n",
              " '4dc24a16522147f4b5cf2abc08d78935',\n",
              " 'b6d98fa37e574db58a53797c2877e608',\n",
              " '90d5ef69acda4b5ab95c0c05b348129d',\n",
              " '0120368e8e46448bb703728a4d4dacc9',\n",
              " 'd3a6539bbd10401ea87b24eb344bc13d',\n",
              " 'f559a0752395414a950ec8ef7bec39b2',\n",
              " '99afe5aaeaec453fadbf473467d8b547',\n",
              " '1d290b6696fb44d7bc8cc726b4c37e95',\n",
              " 'aa4666cd94f2485d8bbec879b85dc30f',\n",
              " '2d7fb990c6cb448a91fc0e89b431952b',\n",
              " '706b6dc19fe3453fb3458f4a12afda8f',\n",
              " '425a5bc2d97744669ed422b4c9a75f37',\n",
              " 'cc930e04d8e24e95840a6b5f50cd906c',\n",
              " '7574d5fed3f149d994dd728da4cadd0a',\n",
              " '301f92620e4a437aaba08926f37d117e',\n",
              " 'bb2dc5a934a342e1949ca777634a170c',\n",
              " 'af70a1b9ad15477fb24128e9cf3b764d',\n",
              " 'ef58ef37f58448c2aded233887072c8a',\n",
              " 'cab131d966914224a2ba33ab40750dad',\n",
              " '1c6b6b0c4a9943bea14add47d1698641',\n",
              " '22f973817d654d9987eaab1d1897e26a',\n",
              " 'c04fbc54bd4940c8aafca095c2372009',\n",
              " 'ca9c0d893ada41068b6fc175e76a2519',\n",
              " '7573cef6ec7f4ad28f62b8173a171abd',\n",
              " '536823d5096b4b3ab3dc97b5792b840c',\n",
              " '4c7f1a82f8b04b018751c4d9d0432724',\n",
              " 'f56dfcf585f14ae6bf90697dbc35acd2',\n",
              " '7099809a41c44a4bba17931fe5d7cc3f',\n",
              " '271311f4fb164c46bf17bfcc8888ac02',\n",
              " 'b99f708d2df240c4bc4547a74c27e023',\n",
              " '90f1a8bbe8194ad5b2039c0df6e0bd1d',\n",
              " 'fca95b37cb7246348a63915a415e9e9c',\n",
              " '34c02187fbb843e99bb6234a8f89cd71',\n",
              " 'f082beaf580e4c48b8755394b03fbdbc',\n",
              " 'd1af9175914f4b3489ac4a9931909230',\n",
              " '8996d059cbe14b6eb2e4fb235c262e6f',\n",
              " 'f9025537f4e94513bf768c86f9e9045f',\n",
              " '251ac4f02f97462a82b8655b473cd0e9',\n",
              " '753b3174709a432d982957419a24d354',\n",
              " 'c8d7c348cab44222a3423c3060841a6b',\n",
              " 'a90a44caaf344c209cae80d8e84aeb7a',\n",
              " 'f8e58d8ec75c4513bdbaf6daf6035cfa',\n",
              " '7ad1a1c6dff04b4ca8ed844fb6b67121',\n",
              " '8316259c94754789b3a07a4b871c9b67',\n",
              " '1e90ede1299e49729c5ccbf7321d4ede',\n",
              " 'e7a3a632720f45da8b7e8e267abe0361',\n",
              " 'aa94363bf6984e68a44b9b13582255f7',\n",
              " '2b48ca66428840f4bf48d638d5607b75',\n",
              " '4b071f4c1f78407ba7f219d0789c9e9f',\n",
              " '0c28a012d5504ecd8c71ee3b971ee368',\n",
              " 'b9d30371439945b5ba767d246e419646',\n",
              " 'a01ac3f7f1c144e4b9b68342bf2956cc',\n",
              " '8bf81407c58b4d9a9504140c930911fb',\n",
              " '60edec0b5c984264b0dfb5424c40b259',\n",
              " '036cd8f336454ff78a99e08c7beffafc',\n",
              " '8f446fb456524e97896b327bf2fed6c6',\n",
              " 'b61826854a7b4192bc7962efbe4bc0b6',\n",
              " 'c7d2dabb8e464e49b36cbf9ea4fab97b',\n",
              " '97f02353ede247fcbfdd2a270e784a71',\n",
              " '9b36729404dd488595fd172104468799',\n",
              " '89abeba6511a4efabd3587a1b45a6ec3',\n",
              " 'c276f46ba42b4b62a9924553612dc36f',\n",
              " '34caee46c1674a9c9f8b890c5ff9164a',\n",
              " '49517d1ee53d468e8cf93fdfbaf0bf9c',\n",
              " 'd09e677386624a39ae2694bfc502d74b',\n",
              " '44cdbeb9b30346239d2764495a067bad',\n",
              " 'ca785a0d5f0d40178ea91007186f58b7',\n",
              " '0e93c4408c8d4dbdb61dabeafd67913e',\n",
              " '2935b6b8d00f4b5286f913fdab34f0c5',\n",
              " '6ff83fe532b346a38a11daf5553ff54a',\n",
              " '89f0c18a6ad543a68fe6df8d9cfe1484',\n",
              " '25baa9937a074cc8972065f89c243939',\n",
              " '8a2e26243b024897b604003008b2f783',\n",
              " '94f346e823694d80bf76c53218305b13',\n",
              " 'dd2e8f3247a44a48908d96680df0af95',\n",
              " '0c9816462801428e9e7c96f25e78e6ad',\n",
              " 'd6a3c24ed0cb48ad96b251b71f6a4a6f',\n",
              " '517331c79d164d17883d1e404664e31d',\n",
              " '33f5fd0a9c7348c48226545e79532ae5',\n",
              " 'dd73c09d81ae4154a31841c1d0a168ad',\n",
              " '068707c5e1364bf2bc683792ce8808d3',\n",
              " '574388ce392540849662caaba024f351',\n",
              " '33ad71991992443299c2e6a5b06f0d9c',\n",
              " 'cf7ececbd656405fb619046fcc98d971',\n",
              " '62dc6e2ee28f43aaa002f58daf749da3',\n",
              " '177e714fd1c14b1cb556cb2cade5ad96',\n",
              " 'b0e3c885d5e04286964b7ec0fd51fade',\n",
              " '71357789ed8545689cf44a84dbab7213',\n",
              " '76b1285ace72463ca4e3136e66a4d60b',\n",
              " '9819a49b6d9f43389948065c945e583f',\n",
              " '539ef6492678411c82fb20d5ba66790a',\n",
              " '9b218c77cb22463cb3d7e6cb9b077b07',\n",
              " 'b5bf4927b9504014ad07d5a3db04bec4',\n",
              " 'eed85f8561ac4862b3b661a79c42ce3f',\n",
              " '144e867c869f4399a6761a97eec9b0de',\n",
              " 'abac4be65dc6442ba2ad23a621e71746',\n",
              " '7f3f36b8eaac4a79b5b3f8a8be28e0ca',\n",
              " 'd9d12a96abdc4e0eb919309d0e6b84ba',\n",
              " 'e1e75b557fe64fe4af55922b192ebaeb',\n",
              " '1568310cf1aa42f1bdd40098ac8cd654',\n",
              " '155205413d3a411c9d4bdcc6275be7e8',\n",
              " 'b79b5b07c3724948a060fab4668dac57',\n",
              " 'd82aef4f48da44b7a25cb35757d14e7f',\n",
              " 'c646b06ce1024b6f94d6ce05de7ee267',\n",
              " '5614991e27f04131a3c0588279c3ef65',\n",
              " 'febae08fcf884ecfb99862bcbce8455e',\n",
              " '1ae2bc52c0cd49cbb7ae9b3406ff732d',\n",
              " '5a48c11a17c940f4b8586b65d552977b',\n",
              " '83a71e90f6f546cdabfa21994975a296',\n",
              " 'e2d8fe6314924a45a92d72ab141a5c3c',\n",
              " '8bc517ae35b04d948555db18a0437cec',\n",
              " '1a758cc5e9a54437b5c249bf24f57e76',\n",
              " 'b535238d4208466d81d48ee301fe5a66',\n",
              " '2b2a95b7789b4cad8d56cbe0e69d7f38',\n",
              " '7bc5cd0d1edf4ea890759c58ab2d7aab',\n",
              " 'a4efd27b25fe449ba2ac5d370913b269',\n",
              " 'e8e9298f288f4a63bceeb758a56862d1',\n",
              " '32b64e41c8b94d71a583d7986a830439',\n",
              " 'b1b2c1c8e8f84dc78054e970499aedea',\n",
              " 'cc331912b6f946a7a85851526731f981',\n",
              " '46af4d21af77482ebc290eba398d6e6c',\n",
              " 'd5fdabe4a0a04023be1066cd1a00832b',\n",
              " '1a227c06242e48a6b36eb4ba99d17af5',\n",
              " '73d0c2e97fa946a194dd027c71ed4c7c',\n",
              " 'b61bf53934494e6baa3e63bc8405e2c8',\n",
              " 'b40d46e1eab149e19aa639e1d8214671',\n",
              " '39e6bd20810643b0b7e91d6b5ab783ef',\n",
              " '3ef75b4887764dd38910e8be7cd6c6a5',\n",
              " '0722006d2a154a1a93fb3067c1a17117',\n",
              " '6cec8356de8a4b499eb687738e589853',\n",
              " '0abe9efbaf8d40fb91582a3d1471fde7',\n",
              " '4ab5840f7ec54db6a0de738919a56a7a',\n",
              " 'e078f0802a764662ab537ff170db0298',\n",
              " '6e0ac0ebdb424cdfbfe3f8e2a2504cdc',\n",
              " 'c0fdf55eaf994bd08cd4159da34c2058',\n",
              " '3e12f4292cb04ba2a01340e2c6a8ea24',\n",
              " '8a7e8f7e75324178a4a92f7b3ff320b2',\n",
              " 'deecff4035f948c293b32a851ee417a7',\n",
              " 'f417f8a57c734bfdb099614dce89eb16',\n",
              " '7de63f8d9fe34ec9ae75c6b5ce58065a',\n",
              " '7884b49a02a747f68f53683819137718',\n",
              " '000b4db71b4d414eba972629ffc77e86',\n",
              " '1606f919811d40c0a9aaf8aa1c80fb33',\n",
              " 'b3c2484e542a4c79afa6d9731932ad8c',\n",
              " '8b41a6ba30e649dfa3b12ac2ba29e6b2',\n",
              " '902bfadea7b8447a86cb6857209457a1',\n",
              " 'c3ddbd5a176e43e9b87580e338967f7f',\n",
              " '2701487f8d3d4992b75e341f144d4fb0',\n",
              " 'f8e94a8f9c6f44638ee601efa43ed5ad',\n",
              " 'e90f3321ced74a3782640dd69e350852',\n",
              " '7e5cb6cea1b6401aabb1f6b8f3ce3bc7',\n",
              " '8c58d126c3a64fcaabf27941c0463e8c',\n",
              " 'aca01c6da2fe48a8a14db965a16bc6bf',\n",
              " '9cf640934ab24c1b9b05de93abdbe00e',\n",
              " 'c3dab26b752f430e998e4e16d9af15e1',\n",
              " 'b07e927074464718b79e5edb4ebf7e14',\n",
              " '106b0d1394284b63a1c7b69646807d43',\n",
              " '79617f7bb01841b6a526dcb2a8905611',\n",
              " 'fb310b878e5242d78108935fc9c85496',\n",
              " 'ed7f5194eb83444f9f3e9248cc1b0764',\n",
              " '52f51d3587e64e9c97b57854c384ddf1',\n",
              " 'a61ca4c84c49476c9adfe86b74bf5b11',\n",
              " 'e991704b0d8c4787ab7298932c12bdcc',\n",
              " '7bee48c0b0604459a7a978cefb67722f',\n",
              " '5aa5282301c848adb08c8ab10888dc78',\n",
              " '565e0a653a2e4831ace99a35744d8eb7',\n",
              " 'a84f9ab8f814420b8d673bb0eba4ae10',\n",
              " '993c4fc3a18a4959a05618a123d94727',\n",
              " '2763f8febf0847c0946902a38da29e23',\n",
              " '36d471582e4e4179ae62e93e6fe6efc0',\n",
              " '4aca884cea08488f8c9ad7893734d2e6',\n",
              " 'c7b3126ce0094c6aad31578be7290fd3',\n",
              " '833b2c56d4234d4998b97fcf25ff8e35',\n",
              " '8b141a5265044665bc30830f3b58164e',\n",
              " 'f2a664e86ee6461aba74a456d65c3fa1',\n",
              " '361a11b6da944169a8bc116ff607436a',\n",
              " '8b2e5b6c0f0b4c91a3b4ea10fe664f0d',\n",
              " 'b8e57a1ebb9143149396bb07290dd8b1',\n",
              " '1d572a5e7bea48ba88338642f870b0db',\n",
              " 'd3524c0c743d4762a2058f5545dec121',\n",
              " '802c704313524fe893b2d625d8b94272',\n",
              " '898b1ade76eb4d769892cd6975f3a482',\n",
              " 'd3062ddb24a349249e785a64c7e75061',\n",
              " 'ae15867a48bc41bb809a0298ae379b0a',\n",
              " 'b032fd19fc9640bdb6a9cd02821ab8a7',\n",
              " '8e11b73a7b374a25b94d032f3132b8c5',\n",
              " 'f9e8bc50001540818b12f5a5f0c34aea',\n",
              " 'e1e9bea64b6248d8896047eb09f8bb98',\n",
              " 'bab920fecf4147f0aae86516bb967a85',\n",
              " 'c333e510577140999a8f27a33e264625',\n",
              " 'bf38ed5bbd8449bf8370b804a51eeb25',\n",
              " 'fd1ec0b56b0e4d3da8c96190a3bb9585',\n",
              " '493bc05f2310452cbc1702efe5c52d25',\n",
              " '6a6f5372a52549f1b91a52d478b1d4df',\n",
              " 'a88c136a6fa6492fb3300ce6681e16d7',\n",
              " '83cba4f8e9a04837a961330f0f0496bb',\n",
              " '2ed9e6c6094a44ab8fb94565ae3f88d3',\n",
              " 'ad9e5e58401549dea5747c507eb49629',\n",
              " '511d632e6bfd445fbddf64a7adb7a937',\n",
              " '8e1ac06f244e42719969a139a08675b6',\n",
              " '965e9358b9734b0d9a08ae0c42f1bc88',\n",
              " '07e10b678d714989a6f7183dd4622b5d',\n",
              " '940649b1855f473181ced0e4f71b138b',\n",
              " '8e7796a87f90412abbfa0efa15935237',\n",
              " '7d78bac9efbc47f080797a3d6bea0373',\n",
              " '96b6934a7b244869a1f67c0e25cdb831',\n",
              " 'b0c3016fb2694bda9658ac459514306d',\n",
              " '4926119e55a0410187ebb3debc677897',\n",
              " 'a9c04e3cd5274f4f95782ac2da90cdcf',\n",
              " '521ceb0973f64216830aa719662ef69d',\n",
              " 'db051233db62435a971fdadf6c60dbd0',\n",
              " '52e7efa95c7943bab53a1e4e528baffd',\n",
              " '0264e913302345ec9d78d4cdde677484',\n",
              " 'b7b437b6bccd444caf3f52afb2b8148b',\n",
              " 'f6c4e35430994f678426c4d7bd5e5c03',\n",
              " 'c76499c7c91742b6976ae10e8ff87953',\n",
              " 'eb88e3293ce7408c98a6eeabff43fb8e',\n",
              " 'aec65ed2dd3244919dfb06a362328fbc',\n",
              " '5317b577cb6640a7bb1db1804ed26b5a',\n",
              " '289d2df78bf347cebaf920ac53b898d8',\n",
              " '2a45236171c84c96930bea99bbac78dd',\n",
              " '01bca7e70ff64b51a878a690a01e4812',\n",
              " '0a46f36804a34765be6c355e48838537',\n",
              " '21c3aa6ec5ba43dbb25477f518f0328f',\n",
              " 'e31d6e9c7309440ea498302306f73923',\n",
              " '22b3a1130aa9436ea879e76de8f5c8c0',\n",
              " '5e0353533e844cd5af9c06c4c6c44d17',\n",
              " '13b99421aff640dc947d15a58c3643bf',\n",
              " 'd5d9bd49669541c6a0d51202461147b7',\n",
              " 'd03ea541d02743ca86fc532cb2ed4c0d',\n",
              " '69c5a76d89e64f34be63896aa23e1f9f',\n",
              " '77145af8b0d04fad8b2a6e1272336849',\n",
              " 'fe7ceeb634cc41efa49336fcb093410b',\n",
              " '439fcc62b0804496a0d4f13ccbc98bd8',\n",
              " 'ddc0dd2f074b431caffbe6271805ae1e',\n",
              " '14c83ac39f0b443d84533c082d1d9ed7',\n",
              " 'f5be779ea72d460cae6fcc0fb12e5b32',\n",
              " 'cc097bf2c23e4262aff487cc737f66f9',\n",
              " '6cc40944b60147db9aa1ec458c105227',\n",
              " 'ba6f2a6f91c149e08a4e216bbb0ab953',\n",
              " '808df0bf37f44963b2dd0cdea39f13cc',\n",
              " 'c0f23eb2be294361b4ff639f3f5010f0',\n",
              " '7436e25348cc48a9abd1a01122456109',\n",
              " '5c448d8a540449f68d648de5c2b871f8',\n",
              " '3866d4dc69884bf1aeb8aa76464390da',\n",
              " '8b51602d5ce84b69a6b3496f4f5bf5ca',\n",
              " '15f49c1c94024a488f87881543437d1e',\n",
              " '585d52499a164f4d8a9575cab6c5f622',\n",
              " 'aadb19c9613d4b8883fa5b8ac88fcb87',\n",
              " '91c310806c8d4cabb7c73782183a845e',\n",
              " '2a9963e8f77343ec83995bc67271ba33',\n",
              " '7071dd49bb1e4dfebe0defc91ef7f2ff',\n",
              " '50dafe9253704318a418226b75ec39e8',\n",
              " '29f3df5ac614496fb82f733892530928',\n",
              " '84ac1ee3366945dd85891d1ed404d1bf',\n",
              " 'd97738767e054a4aa9a77fe97c8123b1',\n",
              " '01dd3e295b644b3fb93868be98d450ac',\n",
              " '2077d3e4e2bf466fbea88cc187866709',\n",
              " 'cbccd9b1747942548555ed9747bb3451',\n",
              " 'fbcede615f714c8281d4dc7c6b0e8723',\n",
              " '703631da43a64bdfacef1091c088cc0d',\n",
              " '0fdbc780b12f41fd95adf050448b5fa4',\n",
              " 'accc13b09f284ca38ccc4f8239491a4b',\n",
              " 'ee6dcd626a4d41efbbe45653d5fc3e13',\n",
              " 'eae9d64f0f2d4f46805f8c59a9322232',\n",
              " '904b4888c0d94b749cf2af8bd66a0fc0',\n",
              " 'eb322cc034444d35b07872b984150b45',\n",
              " '7d89d230ea7f4d9e8b97f64df1233f8b',\n",
              " 'ebaf024e1a394abda2022820f13c59f0',\n",
              " 'd8f5e558f25447f794c13c284f378729',\n",
              " '972c0bebe7974975a779260d6c966daa',\n",
              " 'f6df5197025943d2970973b7acc2b341',\n",
              " '72a323ce5d5c496cae742e2d887523e6',\n",
              " '7128a105bc0a4082a640dc01dea7095c',\n",
              " 'a23a2ef6a0f842e5b2988a0aaff022c1',\n",
              " '7c3b46c3cce74ef981dd624982833851',\n",
              " 'a941542d0d794030992214e09dce191b',\n",
              " '7181cd796d1342dfacb1a6bad1f9765f',\n",
              " '215452397e2b4f8292d806a432928365',\n",
              " '6a0752bbc414468d93799877151c1a2d',\n",
              " '825bbd4ace5f456998e2638d2d10551f',\n",
              " '552b1fd1f94847f98a02b8bb22c789df',\n",
              " '60ebe031aa2f44b7baebf25eaee096b1',\n",
              " 'c89414ab54ab4c99931c155ea356697a',\n",
              " 'ebf403d981e046fe80f1dfca9a57f3de',\n",
              " '77f55f3acef74334bc665c3f5a2b3d93',\n",
              " '2df89707dd824ac6b8e14dc232e45a1d',\n",
              " '871a7febb7bc4025837ead1f5917b13a',\n",
              " 'cb98f4814f9c48b3b880d703b2510861',\n",
              " '2102f3be9e304c129679686de53a6be9',\n",
              " 'd244f459b9f6468fa41ba7e41097186a',\n",
              " '193aa928c1d54e478cea5cabb68822ef',\n",
              " '6300ef726cb64711ad391906f8d8e80f',\n",
              " '10906f32ca844681b373b19602a1aa9d',\n",
              " '722f40b675df4cac81c7eb5896fd3647',\n",
              " 'c60458836c06452b833b8ac57b6dcca3',\n",
              " '72ff1f6ecfe94b80bcd5eeb24aae91b8',\n",
              " '1102e8d5e66846769ff848bdc943731d',\n",
              " '907f5f3cfe7044f6a0b63e0ee5e31f5c',\n",
              " '79ce155313f94fa09dc4085eefafdfc6',\n",
              " '4faef95aa3a8441e97926b8f39e8bb8e',\n",
              " '9e92b3cc153a45a3b19fc81995a8966c',\n",
              " 'd9525ae11c674fcbb5c396e1d1a579c8',\n",
              " '67285c86a67d4f6c93065183373b1ffd',\n",
              " '651b1085c4d946c486907809189fbe87',\n",
              " '3d34a5ee88174104b0ae10a113f78839',\n",
              " '3a3af23e58c74636990b59e6f9eed604',\n",
              " 'bbf23e79fbc44c8f9b50afab5f400859',\n",
              " '1d603818c1d04f9d94477e05891faf0a',\n",
              " '332d06615d054b47b9e34959412c19b6',\n",
              " 'f2ad1b2eb7d94876ae78a952c081d734',\n",
              " '985e312e266f4db8b5b7c40910c28e58',\n",
              " '931b8e9f146a484ea45739f5993a0051',\n",
              " 'e4ae7b97a1044ab6902808c84776d014',\n",
              " 'abdf24d918314c95a63fad0ea350243e',\n",
              " '53ad547bb08e4ea4938f5b4a54d0fb77',\n",
              " '4eccb821873a422a9aa6efe1fe3b2da4',\n",
              " 'e7428a22cc43477091eac6f68c0dc663',\n",
              " '6fc64f68c1424e15919f91e6c403df39',\n",
              " '2d6d353640da4e229e06e592d952e01c',\n",
              " 'cd748de371f24db29f0ac2c0796b0882',\n",
              " '626fe0b08b8042feb7ae009d1833406b',\n",
              " '00930246b7424e1b9e732da76c4eb890',\n",
              " 'd350d07f704a4fbe9e1e2ed917c30759',\n",
              " 'e872319c3ebe4e2a857b07bbe69f13ae',\n",
              " 'da7b5e415fd24ed9aaeaa261227c30a3',\n",
              " '91178a3ca27141a385aa0351a78af467',\n",
              " '924412d35633446a8d980ca32d8b2e97',\n",
              " 'aa7864ac8b464f4c8f3047aa7e8a198f',\n",
              " '7ec99ce740994a3abcb67bcbd06f697c',\n",
              " '6e68f0ccb66640399ef66925ffab0260',\n",
              " '5c8f73038bab4844b473c7e71851e1b4',\n",
              " '48627f269a424da19d4b812ac1354c7c',\n",
              " '64310105d5284fdda5a0e3df27f362f3',\n",
              " 'f3797c232f934cc99bdeeb452bababbb',\n",
              " 'd1680a2122314c9aa844afb7e43edbdd',\n",
              " '3807c66ebc7044bea8ecf35f33a464fd',\n",
              " 'a5c0f83b22194466aaa4526a534522b3',\n",
              " '7524fe02da57491e9654d03113978f93',\n",
              " '9992577a70fc47d59840d30e6f414eeb',\n",
              " 'd5d9c32c0c004e9a9ca2ae5eef16139b',\n",
              " '8d08b099b5994501843f8e0782642285',\n",
              " '29d391aa665948de8b9348ef008a3559',\n",
              " '26c8335ec93f40e1aa0e157565e9ed04',\n",
              " 'd239a60cb30741cead35afe5bdb436ae',\n",
              " '30ed0d178eb8478c93e8a293d5e54e8a',\n",
              " 'a2b62c43f95c47b3bce1cc4898e09560',\n",
              " 'eb5a5c53246d408fa461f4c55c5bea16',\n",
              " 'ddeb41a9e4e04f37b92aee52e0e1ba0b',\n",
              " 'dab718b59a5940808c0facbd0a8327a9',\n",
              " '2443b8db78f84ec2b3c297e93252f09a',\n",
              " '9b73dc8c2f664bc1ae4013e1c7ea2d89',\n",
              " 'ab7050605f55478dafbc24517e1f8782',\n",
              " '009c53c841434eed97f216e465e8f13a',\n",
              " '982cd7113193400e8ad819af85fa4f5f',\n",
              " '5f072e6ede8048d18427f19152c206c6',\n",
              " '9072cbe0d9a349c7a62dcb21b1898a78',\n",
              " '90e8f33070c44cc58eaf305938918e7b',\n",
              " '6c3f8612c8fe4d34aba0df0267e0841e',\n",
              " 'f5652cff0855437ea0f1fb7986b7d330',\n",
              " 'cefcf2b2fbe54837aa9c203c9feb8e2a',\n",
              " '2f396d608da14a8888ceaedf2659a588',\n",
              " '4438e52e66d84c49ad2394f5c3cd548f',\n",
              " 'e46ffa2a1b2a4b569e12affccc38b335',\n",
              " '942810ac451f43e581d763139047b00e',\n",
              " '474d92ef02d7494d805a857e104bab7a',\n",
              " 'f7047d4ddf8b42d38a1c18ee6062a32b',\n",
              " '06cea14d6dad4f27a6a79923078600be',\n",
              " 'd8f66bb355644843ac22d2d27d12b0cf',\n",
              " 'd7420e58bae146678d0874e76a69c96c',\n",
              " '52596c6a07fe48bd8ac66ab77ecd9712',\n",
              " '8d46c3deee5d4cf1941e6c1606ae220c',\n",
              " '63359bb52fa44e7ea4033a2317b4d317',\n",
              " '1ca2365e124c46c39ef1ea66e63d0d98',\n",
              " '30a689a3934d44528f1a8383503e266e',\n",
              " '958f64e31eca41eab0d1ae8422e74b52',\n",
              " '49918684724d4c86afe5e31f0d6fec39',\n",
              " '838c4cca480145dd97a500ffaefa7e63',\n",
              " 'c59024b236e949a19a00e8bcc4bacfc8',\n",
              " '70b460a60c6542c1bab3e208dd2fc175',\n",
              " 'dd535c2dff03471eb014179f2cc71baa',\n",
              " 'dacff88bdbf74d0fb51ef9e15384398b',\n",
              " 'e01cd83c2aa34161911f379b8b3fbffd',\n",
              " '65b83a785d6a4f198f1bca384b3c52a2',\n",
              " '0ff3a7ccb69549e48d01a82cfbd2f7c4',\n",
              " '14f288bb8f954ee78e76e8485d6f6de5',\n",
              " '92abd9fe101c4ca39f36800e1e1fbc53',\n",
              " '55e6e83a0f394c5ea91a15e1a35ee792',\n",
              " '76346be88b6945db94b7c951a467e0d7',\n",
              " '0727447fa4784f6d9642581c8fed4d34',\n",
              " '8c9abadeaab54067bcfe3937a85472ff',\n",
              " 'daf3a409adc949e4b205ac7104039527',\n",
              " 'b8df972e30fc45738b1fddaf75881313',\n",
              " '9dc4735602b64a699c6a1118e27ad1ca',\n",
              " 'c648c75c153441dbbffaebe16321e641',\n",
              " '08e2834519cd4a718b65925a02340b7e',\n",
              " '2e0a29a404c143c892eb52440eaaa77e',\n",
              " 'd6d21574e88a414f80fc73f678ac56a7',\n",
              " '008fd3c058d64d5da4c3a39865c0751d',\n",
              " 'dfb37b8c213342e3a3ed37d91f61795f',\n",
              " '633721920537466094c5ba0402a10c1b',\n",
              " '2cef304eacb6455ab904b28bbf67d8a2',\n",
              " '03de1279765440a88571edaeca6ffaef',\n",
              " '28a1a63417b340599ba74578be760ca9',\n",
              " 'f19ec3e17c434917af6dbce9bc0f8011',\n",
              " '9fe392c8a292425da7b4c55849045b24',\n",
              " '2534ab37223e4e42980d90373ab3f0f8',\n",
              " '59a6df4a95d14128819a0ca21c50273f',\n",
              " 'b3a6836215084b6cae05eee5ebfd6c3b',\n",
              " 'f2288541a1fe4b318cdd3bf981426201',\n",
              " '6ed04b6236774770a8b184df736b8a76',\n",
              " '4e4ca28198bf4fa5b0a7c340c10b065e',\n",
              " '3ce3d3cdf7e04b78baf9ba835f0ae51c',\n",
              " 'e705bef5753445b0b1eabceff4ee3818',\n",
              " 'f79e27e5841f4df4b191a869721b19a9',\n",
              " 'aa23641ca61f49a5b159a569802a1e66',\n",
              " '9995e7f0f34f4fbe974efcf87944ad9a',\n",
              " '675e5548fa2649db8a7098fa47f35672',\n",
              " '1b3f6082a06845518c8fda5ca5ec190c',\n",
              " 'c6909a8c87684eba90036f480b7f7558',\n",
              " '9ac4afdd00c449db98a63f66e17b86a0',\n",
              " '6812f0c6588c4416851f98f221457f96',\n",
              " 'ef22f7f395f24135864d64242ca9becb',\n",
              " '74c329a2766e444fa259e1f9232097d0',\n",
              " '164f7b9d126c4904b0ba0d31f33721d8',\n",
              " '0217d131d4084026ae6c5713dc116ed9',\n",
              " 'a48ba66bf37e49418d328898d576470b',\n",
              " 'fec551320a6e45c59a99328badfab699',\n",
              " 'f0797d82d8f24ae3ac776ba1cd1b5017',\n",
              " '146921883adf40888b0e92bb8e89908e',\n",
              " '529b35c9e25d4243a0fd340af1994a5e',\n",
              " '3292a090496a483dae039bd29a0abf98',\n",
              " 'af4e66379be6410c8d4dd7c7186e2c75',\n",
              " 'c805cce06292418d980df2b03297e30c',\n",
              " 'eb94061a94014afe87fcebbba5968001',\n",
              " 'ac19d72a474549a2bf5a136d635f39bf',\n",
              " '9a46daf39fcd4869afeb744655bdb5be',\n",
              " '24dd3fe8be3249c2872a6732e6ef0be0',\n",
              " 'd0bd10dbbeef4e93b553e2415345ae67',\n",
              " 'b6165ab9e79d44bfabebb77f66845d1c',\n",
              " 'ceafbc6eda72456988192d6d792ac2a7',\n",
              " '426cb99e0ae64ded8992a2600ef77f2d',\n",
              " '9217828de2264d90a84ed23371752586',\n",
              " 'a1a38f1609aa4872aab0d3f2e0ac0a48',\n",
              " '8bbbaa0f68f7460191c7277db659a64c',\n",
              " 'b88c191f75f04766918b7fd26d904db5',\n",
              " '4b24569db8b7441eb440af05ab3e524d',\n",
              " 'ce584c166f234e54bc477f69cf48fda2',\n",
              " 'f26798ce848e4cbf8a5b664ed72dca1c',\n",
              " '142d1ba797774a179fd62703accb6eb4',\n",
              " 'ecc8fdb8e9f14b58bc867a6212c4e54e',\n",
              " '9e68a812877d49bd9ebf70ecabb5d19d',\n",
              " '6d49cfb0a1b54c7e8b5d01032b913d09',\n",
              " 'baa1bd5f7de1476aa362f746b215afb1',\n",
              " '9142abf109014a6b9e0aba0763d8d26b',\n",
              " 'a19b44e3f92746cfba9cd32f4eadabe2',\n",
              " 'de62c294279841a581b7499562f2e35e',\n",
              " '5a63f7bda01a4083aefe8b8d63cc3470',\n",
              " '50fc78dec25744c6af56b78a5bd813d2',\n",
              " 'fdf781edf875407d9ec84cf28e1abea9',\n",
              " '196f4e70e5e442d0b6f69e137c18b323',\n",
              " '071b09284e75469b97b814ba81535bd0',\n",
              " 'd5d4486f9b574f6fbf75a72e87648cbd',\n",
              " '705996283e144688abe8a19f20c81717',\n",
              " 'b8a9eae79ddf4477beeeddf784aee57e',\n",
              " 'a4441b8b946a40ab89ccf189d476187f',\n",
              " '24c4daa41c20402db5090bda875cbf05',\n",
              " '164fd44f43b448489558c450895202a0',\n",
              " '532ab06e6d144f5ebb4ea1a6959e6ae7',\n",
              " 'c1be400a561e40f2ad7ee58c733c685a',\n",
              " 'e7222b7d293b43c493710b8013476558',\n",
              " '69636501ba7942a4bb9dbdd6bb2dcdc8',\n",
              " 'af182b4880de4148ab015bdfb99f124f',\n",
              " '4e3daeb5089845ec9a1df0c0e1fc5508',\n",
              " '74069ae9113649ecb61cac0f59f8dce5',\n",
              " '914a3d98f511446486cd5f7268e5b2f0',\n",
              " '10f32b73809047899201f3543b1d2fb9',\n",
              " '1746562c2c1f46b9a1cb4eecb6993de3',\n",
              " 'fd084e7f03274b2c9bf304a7ee09626a',\n",
              " '2ffc9c0a488d4a50a3721293d19ef4d2',\n",
              " '5e1845cd9f17490488c192a7349f4246',\n",
              " '85115bb0b1af4dbfa433abc0acb28a59',\n",
              " '12d145b7bcb54f828c5ede0838343c5c',\n",
              " '6d5352d9d60b4f56ac4f0d0456dedb8d',\n",
              " '1bb48d38477a4e3f9cf2374eb9d4d466',\n",
              " 'cef5be9518894480b620f34f113885d3',\n",
              " '3346f84ba4644a11a31d120c1d2aa1ed',\n",
              " 'f3fabf824a7a48d692a3210688057740',\n",
              " 'b34a262c295b4f00b1873843e4e575c3',\n",
              " '069a61951bcf4c4b9f1a477dbd0a48bf',\n",
              " 'c5c8438dcab84637a767c41f2c74ed36',\n",
              " '3f5f0d28e26146c0a59db71b7ca009e0',\n",
              " 'a6c36004c3974c19931d84bfb86adb1d',\n",
              " '4c84d28c448d45aeba1556554be677d8',\n",
              " '0f7f8f8d3016422b9d39ebe8ba8b704d',\n",
              " 'd14bed102ffc4357ad2f6782e425224e',\n",
              " '9c57441d1ec84fe3a09abd026b73d705',\n",
              " '9d46e9ed72d14c5a8aec093644e87510',\n",
              " '85b67b8beda749ff8481f8635f79f482',\n",
              " 'adff4d555c8144bdb2748675826cacdc',\n",
              " 'a2a9d2db21e6472d86144f9222d76afb',\n",
              " 'd56d609e01104b18b45124d26e3a2717',\n",
              " 'f46f7a120872462c87508bb7ce009fac',\n",
              " '6d7d73035fd44e978780426aa5f7f78f',\n",
              " '68af79f052fa4795bcd0645024190f25',\n",
              " '7c20a6f036fd4ff6a78e54e9a3930e3f',\n",
              " 'c1b21f66e46a4861aef23d7859fba02d',\n",
              " '5f34ab0c7b88427c8a92883da26657f7',\n",
              " '2eb0736a804f480585b40532b3d282d3',\n",
              " 'd7beba46e72142b98b278f2aa1eee822',\n",
              " 'daba965c1f5b496692720da5dbf13ecd',\n",
              " '48e3cf9c3c14430d8f4b27a1e2edc66e',\n",
              " '49c8a87a0761435c9d2267da2291e449',\n",
              " '2244814c623148679b16c6def0208f8a',\n",
              " '40de9715edd5440b87038c5e1433edfe',\n",
              " 'de519fd466044031a286760515e8b7c6',\n",
              " '5b30ea352a134639923652cb3b170421',\n",
              " '7710fb5d9df6442eb7f796ca4cc69583',\n",
              " 'a29dd82ca75a4bc2ac602a1d2a07e1f6',\n",
              " 'ecf754db73044fdd831764dc643de0be',\n",
              " 'dc6de700518e4bd2b486dc2cfc56686d',\n",
              " '08a5418491c54f0abe9580a850adb260',\n",
              " 'ed63687795a34c4fbf3cdf389bfe6c15',\n",
              " '432d5b837876400ab28825837ee7df86',\n",
              " '705973fa7c5044ee80a2039bbc6221d0',\n",
              " 'd3b16f12c3b84d849a27111c01cdfaef',\n",
              " '4d133a0084224acfaaef60131fae17a1',\n",
              " '8f31cb6c4a40401189f5f4211b357d83',\n",
              " '8fd60482a2c14a82b3c6583439d7c46d',\n",
              " 'a8a78b9e33be426ea6330fd2a68dc125',\n",
              " '04b6ead70b9e4ef7b5df394bdd0f2593',\n",
              " '0f4a34c944e34bedb5286ede77a37cd7',\n",
              " '287561555ca64c948470518c729e4ea9',\n",
              " 'bddd13219a1848138b0d5670d8b06505',\n",
              " '758121c8f5894af7a43f6e2df5e2b85b',\n",
              " 'b61c0affdfb24c048fd0930b61dcacdf',\n",
              " '0c99c58f4e8145dfade677b82441ef20',\n",
              " 'e919720c9c864f3889c949d2b298678a',\n",
              " '53013dbd1dee4b9ab2517331ea0197f0',\n",
              " '227e5b0bc460467d9d6cc4c71b9facf4',\n",
              " '35f578d692c648cab0e3e0071db6418c',\n",
              " 'adc6b54f1e1e488f8a11362420b7d848',\n",
              " 'ee3e8826f04e4907926582225cced4ed',\n",
              " '94e9f88d0de84319928ed51a08e88da8',\n",
              " 'fa7eacfa771045bb8b983f5a5b247da0',\n",
              " '48742f9d63084b9b909c2aa81361e44b',\n",
              " 'e86c6a03e8334c31963eaf5df9990663',\n",
              " '853ce92fcfa748e6b1b5168a73998057',\n",
              " '8425dbdc54f344c8bd2c9231abf6359c',\n",
              " '0398ee13db60442aacf5198c4165fc8c',\n",
              " '7e90028db2d6417bbedaa6a6bd34f727',\n",
              " '5236fd7e1298447d86fe3a16c369479e',\n",
              " 'f206380347064524933bbab53b44aad9',\n",
              " '41736d365f4e4c5aaa031891e296c45f',\n",
              " 'e2a9e21d705c48b6a9037bb86b836bb5',\n",
              " '779ceab613734a9f9d8ae92a1d08a7a5',\n",
              " '2548c3ee364c4179a61c7b7c094f2611',\n",
              " 'cef0b74cab724817b3ce2e2999008d83',\n",
              " 'f5126c0a11074a2885bfd9a42d15a6ef',\n",
              " '3feefcb422cd4f0abcf202807ae7f427',\n",
              " '1b480ecec9fe4fc38dbc506f3d3e18f1',\n",
              " 'fbdb3ab51cf24229bcc08548b8741a74',\n",
              " '503e5923411b457a93450c20ac37d00a',\n",
              " '6c0b9784f2ef4d699f08531c6dd087ee',\n",
              " '095ce8579b224fae950053bac6c82533',\n",
              " '16fbce27287a439f9e19eeab80837deb',\n",
              " '0af6700dd6244e468ab989db4e71a452',\n",
              " '9b32d889d8f54c99a25986f8c579b9cc',\n",
              " 'e713733fbb47447286b8451d0ae2b732',\n",
              " 'd68ab3d820c141c387ca3e3d923c08c0',\n",
              " 'cea37f03fb7849bfb687bbf841716cd8',\n",
              " '8ee83f5076fe458b9426ea884e6b71a6',\n",
              " '0e88bebf32e5485a844273334a1d40a4',\n",
              " '098f8369e9cf4fd8b0a01ae40f6789b7',\n",
              " 'd2c4ca01f77f40ffa6876e6c95c1c76c',\n",
              " '88662b9eca7144a7a61b83c027ec58aa',\n",
              " '76a36f9c98a9451289bc9792dc543c15',\n",
              " 'be2e94d51ff3478aa11631acea9a7343',\n",
              " '2760a80c965e441d975f667459fcbc27',\n",
              " 'eb018006e9b148948c9e4485539ba692',\n",
              " '6b36636bd0e5428ca6f10e0f9b7ca641',\n",
              " 'fc3e3fcd711b48db896d711be257c608',\n",
              " 'f09f7a30af7149279e193a8b446d908b',\n",
              " 'f0d26da0248c4aea93906ffb76eef5d9',\n",
              " '36014715458d4f71a6f5ab604b3304e3',\n",
              " 'a208fafd1eef4226bd9425da830da400',\n",
              " 'e853f355964d4fff9692317621de6ea3',\n",
              " '152957bef9fd4d7f81c7bdba91f50609',\n",
              " '09902e993b584c18ad377196062c3e89',\n",
              " '969d7af500ff4efa83450cc58b441161',\n",
              " '0a313d7888ea4477950d7649e1c2309c',\n",
              " '23cf50f7e3a44bb2af9cfeb037f650c0',\n",
              " '67768f00c18f4ea9b35ac68d3090818c',\n",
              " '4b4f3aaa1bcb42f9b95c7accf592eda4',\n",
              " '250ea0600c664264a529fadb20ef470d',\n",
              " '66c138736ffa434088a9e9b058821f78',\n",
              " '33c3cf9e6cde495b958f7c10d3104c94',\n",
              " '8e94496e6f9647bab525960089dfa049',\n",
              " '7c49c989de4e408fbdc5e602a7cdfe5b',\n",
              " 'b9612a5ec513484b834a3ace78cf96b4',\n",
              " '3d28a126dcb242bbb44a9323015cc5e6',\n",
              " '7a81ccd96d124b14bf1784b1d0973373',\n",
              " '04355946589149ee9f804dc6250e3da0',\n",
              " 'c7337b7d9f474aa7aa43b8995aba3685',\n",
              " '0b5b3177e5964037aeaa555608cc2181',\n",
              " '0bd0c64c8bf44830bfaa85d5f4b12ad5',\n",
              " 'e69adfe5170a48ca8a6a7d9cfbf59033',\n",
              " '2d3efce133794b0c916ed882b5169af9',\n",
              " '9d2ba6c7e3ac42deae6ede0d60e032bf',\n",
              " 'ec20d0e0aff04ab3bd7dab2ba546892d',\n",
              " '8bf705e80cfd4c0eb9dd2555cea4ff04',\n",
              " 'ceff4b8fb4ac4adabed32de17a5adbc9',\n",
              " '8aa837e526ab4dc2a2eaa2b0dd7f17d4',\n",
              " 'e9e9e5f69020462db652cf91d6feeb63',\n",
              " '670eae32820947c1910c9bddafd59397',\n",
              " 'd4ac6c97d22448f38116a3c69e965353',\n",
              " '58d577a964cf4190844e6dd83c5d67d2',\n",
              " 'bba811001d54473eb70a41876a6d1fab',\n",
              " 'b7654fddc3594dcf9c9f694216ebc6cc',\n",
              " '69c7c6b955894f99b1083098b6920b48',\n",
              " 'cb7bf800635845b9a60764c8ed78b98b',\n",
              " '2242af9f135943da94d487db14c45fd0',\n",
              " '9d5af2e22e1a4a338196a115956ae4d3',\n",
              " '166dc58c01524d488663e61802685952',\n",
              " 'c8a6703093ae4ae5a2164c6449287452',\n",
              " '69031223ec9842059edb81eb88fdf847',\n",
              " '3db02ad206214ea48c7d282c52883faf',\n",
              " '6f0af6f787b3490fbeefd9013b5a87b9',\n",
              " '0316d83aa50f4fd18a1e2b12118ca6c6',\n",
              " 'bb13c270fc594404bcebf57b8f5a787e',\n",
              " '3bc68360f75f415dac8f02cf242d1967',\n",
              " 'cb2267341e664be8a54197433ba01aa0',\n",
              " '4de5cc794ddb4956a269c0f4bc64d4ff',\n",
              " '5c52e665104941cb9429c768ae4434ac',\n",
              " '36071851a83449df9f012d804f9149a9',\n",
              " '007dee47b31e4969938e59ccaff96993',\n",
              " 'd207355ea8d64ee4880dd6df93665247',\n",
              " '12a41e1929ec4eed83b79898ec0065a0',\n",
              " 'af353d1455cb44a3982bd6ed2d7b07a4',\n",
              " '3a773248a1de494cb6435befc35bd1cc',\n",
              " 'f5ae10b9b8b140ecb6f307e06b22c8be',\n",
              " '930daaa0947042a6878f023aaccefb23',\n",
              " '2bfa44851ba842d1ac3d4b26b73136dd',\n",
              " '91e41d83e1974818ae26b748c16d75d6',\n",
              " 'd5e4d523dbf64d938c4aa4eaee830702',\n",
              " '0d47edb069f448d89f63a54fad8a0598',\n",
              " 'ed58d0c9235b49478bbf552339c314de',\n",
              " 'fe00df2bb9604c0cac4818d0cae52b71',\n",
              " '35e26fa2ffc644b983bb1bb06ffd9d3b',\n",
              " '387cb0932e8247cda7f622a4d5a380d2',\n",
              " '86c9dc08a6e54f16af10bf6b1c806276',\n",
              " 'c1afb4b93fd846c1a12f88200ef66bab',\n",
              " 'dbb2c804654845b58d35dd776df9fd4d',\n",
              " 'dbbbf5cf4e194b14852ab23281d7d5eb',\n",
              " 'b6b90d35b8e842cd8d07bcb7e99be6a0',\n",
              " 'aa40a9d79d914fa68c5a82414f3ffbd8',\n",
              " '2757432dcac649ea95a1cdd09c0c0d0c',\n",
              " '1fd7d875b58843bb8dc00368c96e1177',\n",
              " '4d41b796809d4bccb7f4e990e544ee4b',\n",
              " 'eda5857dffaa4b95857c8944fb5d8302',\n",
              " 'a087ea65898d49bf8e57089cb58a0459',\n",
              " '64ce44e36448422988af538dfa881f10',\n",
              " 'c47c8fdac36940b19b065479372999fa',\n",
              " '72567465571a4403bdfb3551edd4b261',\n",
              " '6c6920f0f51c44cdad3215894ead3447',\n",
              " 'b0e00883e8484fddba60d3f2c353b239',\n",
              " 'f0931e0f5e414e46bbf462ab6f37cf75',\n",
              " '087683f9d1b74fc5a8b6dcd51af1eb86',\n",
              " 'eb2a5181e5b542fe9dc6596e01f47572',\n",
              " '50b3ee3f894244c198ae73ff09028bb9',\n",
              " '9f0956c95fb749f6b12e96e34f51bdaf',\n",
              " 'bae08e999154470ba2f79db004cd7387',\n",
              " 'cb1a37dfa8304d6aa89df9caf94efe8b',\n",
              " 'a33c7f370f3c45fa8e2ddeeec6b97ed0',\n",
              " '008311c9bb26418ea4f75126a92eca4f',\n",
              " 'd30d6742169e4c32b6dc6f4947b884b7',\n",
              " '7614fd2cfcad464c8963fdda24c3195a',\n",
              " '2bf21ced89b34c48a37239496f363099',\n",
              " '8a8847e419614effaeb3a2ea1538eec6',\n",
              " 'eb0a6038d970418dbe110b88206eb3d6',\n",
              " 'afb1a354a2d34c159f593ef4e68a22b2',\n",
              " 'c46ee1150d5243de8d6be1c504e79604',\n",
              " '521ac19fc0ea496bbff8f02b69f4db3c',\n",
              " '3656f30702144d559d92fef930ecf094',\n",
              " '6e3ce3a6a6ef4c5a915eb8e2e764c84c',\n",
              " 'cad071feb60e4b989fcb2a0e9d3ce39e',\n",
              " 'a4d68c328ca44444947cfde90e327875',\n",
              " '1cc43f31903f4538b552f043c2c39772',\n",
              " 'f360a36ad2ef4b73a5da30f01009f39a',\n",
              " 'f1b7bd21b2444e5bb1fbdaa774cd83e7',\n",
              " 'e8563f51cd074f0eb7a80ae1cab2d1ef',\n",
              " 'ad124d745bf14306896308c16421b84c',\n",
              " 'cc9ef036b11b42a28d9cada156bf172f',\n",
              " '27942db684044b3ea7c99cc419c16721',\n",
              " 'e6c49f5aab2e4a1f95c459131996bd65',\n",
              " 'e736aaa0123249ad839c1ad1a9af92c5',\n",
              " '052e8a2dc9f647f5803b1b590854cf73',\n",
              " 'cf1e7619dbb84aafbe9ef37bf4944fbf',\n",
              " 'c229b0b51a9942c1be686126e1fe20e9',\n",
              " '5184dee791ff4e87a85996cad0f3a72c',\n",
              " 'f3dbad656c9b49ec83a699e0e07c8e5b',\n",
              " 'c1156b7231294581830b467c74d50011',\n",
              " 'a3fd113cc21847418bdccf95543c6d82',\n",
              " '5fdc6d3f3fb54ea7a082a54a579477ca',\n",
              " '8e4c02a5fd0846e1b4adedf7a4f9ed98',\n",
              " '1c087696ae584de9994d467f0ec38b55',\n",
              " '3073c75962ea4ec8b0ee148cc6a7e87c',\n",
              " 'c14775c439754d6081c4c569ef93381e',\n",
              " 'ab7bfb4ccc04491dacf71a9b8deaf598',\n",
              " '51bf0667f1e545ad8183866ce7afc78f',\n",
              " '66c0443dad354711b00fb09e3bdcd9dc',\n",
              " '57570396dbc34af5a3c9023099939b30',\n",
              " '9e21b3fe28b14cc98b106b0832e0b4f2',\n",
              " '75d595543200489c8b7a06f059094733',\n",
              " '5d2ddcb3f9c849c29aa31f074748a387',\n",
              " '66c45df807b84bdbbfd018a463c27ead',\n",
              " '49f3ff8dbf9c4c29855b8e89bdef1c70',\n",
              " 'dda426151590435aa53351731c410347',\n",
              " 'af8a4aed5811446bbeac02e5968927df',\n",
              " 'd0aca52d10af4f039abafcf097dcaddc',\n",
              " 'd01e4d5b6b724ceab2ccba5b9ffd2518',\n",
              " 'dd277c01ab7a4be08bf1f81500c24e26',\n",
              " '2064fcfde66844bb95933f1f134c443a',\n",
              " 'b077e585f7c443cc86c7620cc7239cad',\n",
              " '982dc6b9102a47b7bf9a947ca0b3fba8',\n",
              " '059fdbe49c64452c82bbe03a3b9994cb',\n",
              " 'b9d67e171f474c6b89f4e32f94a63274',\n",
              " 'c5a9f8ea5cac41138dc87724f6bea0f1',\n",
              " '2ffac3738d3a45cc95764b6694c24df7',\n",
              " 'a31dd5ef9b124c87b1de9e049dd90642',\n",
              " 'cdc3c6042b4f4479a6f4fda5b735c02c',\n",
              " '0a3103c0fa1e4662b1c0c70ab1339d09',\n",
              " 'bb3fada6388042a18e82e18634cd912b',\n",
              " '4cf13256477f4bd1b7e8e8a7f5b0bf98',\n",
              " '68005cd470414876985df4461c5d853e',\n",
              " '19cfe5eba4bc4885a5dea249b027ce8c',\n",
              " '5551832f7105414fb56738f2a4f20361',\n",
              " '10c2d82776ac45d48a59247ad7a705b6',\n",
              " 'f33496868fce43db942b7a06e7900b8c',\n",
              " '4f43e7c3808540639a7975c5954c713f',\n",
              " '6cad477639ef4492baa04206e8508269',\n",
              " '9a291df388fa48de9d611143e6990ce7',\n",
              " 'bde78b8ac95a4449a8a394e6f68cb5c8',\n",
              " '39c7549c148a4df99c0a01321aba27dc',\n",
              " 'c36b209add5e42dc908cdf1c1f8000ad',\n",
              " '514c1c8abca84c7bbfe42c4d22dbd87d',\n",
              " 'd6f3b161dbcc456495f12859486ba804',\n",
              " '58e7d6b0885e40a7b8a6eca196131d26',\n",
              " '2a49c13870204ca593b81d4395582e44',\n",
              " 'cffa71fe98e644abab41281e87dca81a',\n",
              " '762e1991c70743a3862045022e18c590',\n",
              " 'a99e616f52124286b30ea6a5a3344c0c',\n",
              " '8113030e4de24dfe91c0fb6511bb0dcc',\n",
              " 'ad4aa77509cd4f0aadb62313ba31bb58',\n",
              " '30f14fb1447345639e8f6a8e7d55b155',\n",
              " '5abb7a2f382046c1bfbad2ee43a79cb9',\n",
              " 'c3f0d5add1c04022a111b4930b9dbb99',\n",
              " '6300a36e4ac34533a99d23fd0f47c540',\n",
              " '50061aea2d3c4a149d74941de4b43dc2',\n",
              " '59c0c45576ab41fdbd80c8a113930079',\n",
              " 'f8ca666f027b4cb19e7d8106011a0553',\n",
              " 'e0b080a943834ef6bbff19fc62e258ff',\n",
              " '09ce01bbde704aee8bd7721a2ad5f7ec',\n",
              " '68c57e52d6934feeaea62fca06f432bb',\n",
              " 'a7cf05c515734872986f45e243ae1773',\n",
              " '5f79ae6940834f1dbf554bb0636dd268',\n",
              " 'c9d35222d6324b6a991127db25055ac9',\n",
              " '543a3a6a8a9645a58d87ae318cce3025',\n",
              " 'ec5b1175d67e4c6a99d811027b9a9b42',\n",
              " '0a6c1574044b4b4a80ede765029299a1',\n",
              " '81be115c335b4597918c391b4cf5a0d3',\n",
              " '25861e75fe254cd5ad3b8a4c70e8ac39',\n",
              " '2db5077bb9424a2f99d9154c2521e2d4',\n",
              " '46d042556bde4ee68db6d44724360cf9',\n",
              " '7230e4d7545f49dcb30bd432723eb522',\n",
              " '9eac99824e6f4c51882007c42e09138f',\n",
              " '4469424d32b441caab7be443bc144d16',\n",
              " 'e400c40ec5de4206ac4bfa6805e963f5',\n",
              " '4d18c180a72f49d1a9d1bf1f767e1745',\n",
              " '88bea78d42a743309ed787d83175e9e7',\n",
              " 'f06a7baa72d14bb69ba6af66ff268b45',\n",
              " 'a986dbdf11cc4db1bd865a2d8161d81a',\n",
              " ...]"
            ]
          },
          "metadata": {},
          "execution_count": 14
        }
      ]
    },
    {
      "cell_type": "code",
      "source": [
        "all_splits[0]"
      ],
      "metadata": {
        "colab": {
          "base_uri": "https://localhost:8080/"
        },
        "id": "E49cXeXls1ZI",
        "outputId": "6a85e804-8bdd-437a-8495-1315a2b98379"
      },
      "execution_count": 15,
      "outputs": [
        {
          "output_type": "execute_result",
          "data": {
            "text/plain": [
              "Document(metadata={'start_index': 0}, page_content='Before the actual research explicitly devoted to the complexity of algorithmic problems started off, numerous foundations were laid out by various researchers. Most influential among these was the definition of Turing machines by Alan Turing in 1936, which turned out to be a very robust and flexible simplification of a computer.')"
            ]
          },
          "metadata": {},
          "execution_count": 15
        }
      ]
    },
    {
      "cell_type": "code",
      "source": [
        "query = \"When were the Normans in Normandy?\"\n",
        "found_docs = qdrant.similarity_search(query)"
      ],
      "metadata": {
        "id": "xT3ioY6JEwSr"
      },
      "execution_count": 16,
      "outputs": []
    },
    {
      "cell_type": "code",
      "source": [
        "for d in found_docs:\n",
        "  print(d)"
      ],
      "metadata": {
        "colab": {
          "base_uri": "https://localhost:8080/"
        },
        "id": "TZTtvK62upgS",
        "outputId": "6efef2f9-ec09-4d5d-f01b-53ea90a687ac"
      },
      "execution_count": 17,
      "outputs": [
        {
          "output_type": "stream",
          "name": "stdout",
          "text": [
            "page_content='The Normans (Norman: Nourmands; French: Normands; Latin: Normanni) were the people who in the 10th and 11th centuries gave their name to Normandy, a region in France. They were descended from Norse (\"Norman\" comes from \"Norseman\") raiders and pirates from Denmark, Iceland and Norway who, under their leader Rollo, agreed to swear fealty to King Charles III of West Francia. Through generations of assimilation and mixing with the native Frankish and Roman-Gaulish populations, their descendants would gradually merge with the Carolingian-based cultures of West Francia. The distinct cultural and ethnic identity of the Normans emerged initially in the first half of the 10th century, and it continued to evolve over the succeeding centuries.' metadata={'start_index': 0, '_id': 'db2cc30373ec4057afbf9650a3acd512', '_collection_name': 'my_documents'}\n",
            "page_content='The Normans thereafter adopted the growing feudal doctrines of the rest of France, and worked them into a functional hierarchical system in both Normandy and in England. The new Norman rulers were culturally and ethnically distinct from the old French aristocracy, most of whom traced their lineage to Franks of the Carolingian dynasty. Most Norman knights remained poor and land-hungry, and by 1066 Normandy had been exporting fighting horsemen for more than a generation. Many Normans of Italy, France and England eventually served as avid Crusaders under the Italo-Norman prince Bohemund I and the Anglo-Norman king Richard the Lion-Heart.' metadata={'start_index': 0, '_id': '68005cd470414876985df4461c5d853e', '_collection_name': 'my_documents'}\n",
            "page_content='The Normans (Norman: Nourmands; French: Normands; Latin: Normanni) were the people who in the 10th and 11th centuries gave their name to Normandy, a region in France. They were descended from Norse (\"Norman\" comes from \"Norseman\") raiders and pirates from Denmark, Iceland and Norway who, under their leader Rollo, agreed to swear fealty to King Charles III of West Francia. Through generations of assimilation and mixing with the native Frankish and Roman-Gaulish populations, their descendants would gradually merge with the Carolingian-based cultures of West Francia. The distinct cultural and ethnic identity of the Normans emerged initially in the first half of the 10th century, and it continued to evolve over the succeeding centuries.' metadata={'start_index': 0, '_id': '651b1085c4d946c486907809189fbe87', '_collection_name': 'my_documents'}\n",
            "page_content='The Normans thereafter adopted the growing feudal doctrines of the rest of France, and worked them into a functional hierarchical system in both Normandy and in England. The new Norman rulers were culturally and ethnically distinct from the old French aristocracy, most of whom traced their lineage to Franks of the Carolingian dynasty. Most Norman knights remained poor and land-hungry, and by 1066 Normandy had been exporting fighting horsemen for more than a generation. Many Normans of Italy, France and England eventually served as avid Crusaders under the Italo-Norman prince Bohemund I and the Anglo-Norman king Richard the Lion-Heart.' metadata={'start_index': 0, '_id': '224decd3715449c5b7adb24b1ee9f9e0', '_collection_name': 'my_documents'}\n"
          ]
        }
      ]
    },
    {
      "cell_type": "code",
      "source": [
        "context = \"\\n\".join([doc.page_content for doc in found_docs])\n",
        "\n",
        "input_text = f\"Context:\\n{context}\\n\\nQuestion: {query}\\n\\nAnswer:\"\n",
        "response = llm.predict(input_text)\n",
        "response"
      ],
      "metadata": {
        "colab": {
          "base_uri": "https://localhost:8080/",
          "height": 90
        },
        "id": "QrLGlSw_TxF8",
        "outputId": "9a811c17-436e-440f-b15f-058b0dcbc040"
      },
      "execution_count": 18,
      "outputs": [
        {
          "output_type": "stream",
          "name": "stderr",
          "text": [
            "<ipython-input-18-8e0f63bae8c2>:4: LangChainDeprecationWarning: The method `BaseChatModel.predict` was deprecated in langchain-core 0.1.7 and will be removed in 1.0. Use :meth:`~invoke` instead.\n",
            "  response = llm.predict(input_text)\n"
          ]
        },
        {
          "output_type": "execute_result",
          "data": {
            "text/plain": [
              "'The Normans were in Normandy in the 10th and 11th centuries.'"
            ],
            "application/vnd.google.colaboratory.intrinsic+json": {
              "type": "string"
            }
          },
          "metadata": {},
          "execution_count": 18
        }
      ]
    },
    {
      "cell_type": "markdown",
      "source": [
        "## TODO 2: Reranking\n",
        "\n",
        "Create two retrievers.\n",
        "1. A normal retriever without a reranker. Set the `top_k` to 20.\n",
        "2. A retriever with a reranker. Set the `top_k` of the reranker to 3.\n"
      ],
      "metadata": {
        "id": "OR1Jm8ubuATV"
      }
    },
    {
      "cell_type": "code",
      "source": [
        "# 1.\n",
        "retriever = qdrant.as_retriever(search_kwargs={\"k\": 20})"
      ],
      "metadata": {
        "id": "abWJsiUswEMi"
      },
      "execution_count": 19,
      "outputs": []
    },
    {
      "cell_type": "code",
      "source": [
        "from langchain.retrievers import ContextualCompressionRetriever\n",
        "\n",
        "# 2.\n",
        "reranker = CrossEncoderReranker(\n",
        "    model = model,\n",
        "    top_n = 3\n",
        ")\n",
        "\n",
        "retriever_reranked = ContextualCompressionRetriever(\n",
        "    base_retriever=retriever,\n",
        "    base_compressor=reranker\n",
        ")"
      ],
      "metadata": {
        "id": "D1czrFuG8WIa"
      },
      "execution_count": 20,
      "outputs": []
    },
    {
      "cell_type": "code",
      "source": [
        "query = \"When were the Normans in Normandy?\"\n",
        "found_docs = retriever.get_relevant_documents(query)\n",
        "\n",
        "for d in found_docs:\n",
        "  print(d)"
      ],
      "metadata": {
        "colab": {
          "base_uri": "https://localhost:8080/"
        },
        "id": "DN52C026z50o",
        "outputId": "2f4d9e76-33bc-4ff0-dafd-1c087096f3e5"
      },
      "execution_count": 21,
      "outputs": [
        {
          "output_type": "stream",
          "name": "stdout",
          "text": [
            "page_content='The Normans thereafter adopted the growing feudal doctrines of the rest of France, and worked them into a functional hierarchical system in both Normandy and in England. The new Norman rulers were culturally and ethnically distinct from the old French aristocracy, most of whom traced their lineage to Franks of the Carolingian dynasty. Most Norman knights remained poor and land-hungry, and by 1066 Normandy had been exporting fighting horsemen for more than a generation. Many Normans of Italy, France and England eventually served as avid Crusaders under the Italo-Norman prince Bohemund I and the Anglo-Norman king Richard the Lion-Heart.' metadata={'start_index': 0, '_id': '68005cd470414876985df4461c5d853e', '_collection_name': 'my_documents'}\n",
            "page_content='The Normans (Norman: Nourmands; French: Normands; Latin: Normanni) were the people who in the 10th and 11th centuries gave their name to Normandy, a region in France. They were descended from Norse (\"Norman\" comes from \"Norseman\") raiders and pirates from Denmark, Iceland and Norway who, under their leader Rollo, agreed to swear fealty to King Charles III of West Francia. Through generations of assimilation and mixing with the native Frankish and Roman-Gaulish populations, their descendants would gradually merge with the Carolingian-based cultures of West Francia. The distinct cultural and ethnic identity of the Normans emerged initially in the first half of the 10th century, and it continued to evolve over the succeeding centuries.' metadata={'start_index': 0, '_id': '651b1085c4d946c486907809189fbe87', '_collection_name': 'my_documents'}\n",
            "page_content='The Normans thereafter adopted the growing feudal doctrines of the rest of France, and worked them into a functional hierarchical system in both Normandy and in England. The new Norman rulers were culturally and ethnically distinct from the old French aristocracy, most of whom traced their lineage to Franks of the Carolingian dynasty. Most Norman knights remained poor and land-hungry, and by 1066 Normandy had been exporting fighting horsemen for more than a generation. Many Normans of Italy, France and England eventually served as avid Crusaders under the Italo-Norman prince Bohemund I and the Anglo-Norman king Richard the Lion-Heart.' metadata={'start_index': 0, '_id': '224decd3715449c5b7adb24b1ee9f9e0', '_collection_name': 'my_documents'}\n",
            "page_content='The Norman dynasty had a major political, cultural and military impact on medieval Europe and even the Near East. The Normans were famed for their martial spirit and eventually for their Christian piety, becoming exponents of the Catholic orthodoxy into which they assimilated. They adopted the Gallo-Romance language of the Frankish land they settled, their dialect becoming known as Norman, Normaund or Norman French, an important literary language. The Duchy of Normandy, which they formed by treaty with the French crown, was a great fief of medieval France, and under Richard I of Normandy was forged into a cohesive and formidable principality in feudal tenure. The Normans are noted both for their culture, such as their unique Romanesque architecture and musical traditions, and for their significant military accomplishments and innovations. Norman adventurers founded the Kingdom of Sicily under Roger II after conquering southern Italy on the Saracens and Byzantines, and an expedition on behalf of their duke, William the Conqueror, led to the Norman conquest of England at the Battle of Hastings in 1066. Norman cultural and military influence spread from these new European centres to the Crusader states of the Near East, where their prince Bohemond I founded the Principality of Antioch in the Levant, to Scotland and Wales in Great Britain, to Ireland, and to the coasts of north Africa and the Canary Islands.' metadata={'start_index': 0, '_id': '354d6de3eb6f49049096d6565a07bc71', '_collection_name': 'my_documents'}\n",
            "page_content='The Normans (Norman: Nourmands; French: Normands; Latin: Normanni) were the people who in the 10th and 11th centuries gave their name to Normandy, a region in France. They were descended from Norse (\"Norman\" comes from \"Norseman\") raiders and pirates from Denmark, Iceland and Norway who, under their leader Rollo, agreed to swear fealty to King Charles III of West Francia. Through generations of assimilation and mixing with the native Frankish and Roman-Gaulish populations, their descendants would gradually merge with the Carolingian-based cultures of West Francia. The distinct cultural and ethnic identity of the Normans emerged initially in the first half of the 10th century, and it continued to evolve over the succeeding centuries.' metadata={'start_index': 0, '_id': 'db2cc30373ec4057afbf9650a3acd512', '_collection_name': 'my_documents'}\n",
            "page_content='The Norman dynasty had a major political, cultural and military impact on medieval Europe and even the Near East. The Normans were famed for their martial spirit and eventually for their Christian piety, becoming exponents of the Catholic orthodoxy into which they assimilated. They adopted the Gallo-Romance language of the Frankish land they settled, their dialect becoming known as Norman, Normaund or Norman French, an important literary language. The Duchy of Normandy, which they formed by treaty with the French crown, was a great fief of medieval France, and under Richard I of Normandy was forged into a cohesive and formidable principality in feudal tenure. The Normans are noted both for their culture, such as their unique Romanesque architecture and musical traditions, and for their significant military accomplishments and innovations. Norman adventurers founded the Kingdom of Sicily under Roger II after conquering southern Italy on the Saracens and Byzantines, and an expedition on behalf of their duke, William the Conqueror, led to the Norman conquest of England at the Battle of Hastings in 1066. Norman cultural and military influence spread from these new European centres to the Crusader states of the Near East, where their prince Bohemond I founded the Principality of Antioch in the Levant, to Scotland and Wales in Great Britain, to Ireland, and to the coasts of north Africa and the Canary Islands.' metadata={'start_index': 0, '_id': '79617f7bb01841b6a526dcb2a8905611', '_collection_name': 'my_documents'}\n",
            "page_content='The Normans were in contact with England from an early date. Not only were their original Viking brethren still ravaging the English coasts, they occupied most of the important ports opposite England across the English Channel. This relationship eventually produced closer ties of blood through the marriage of Emma, sister of Duke Richard II of Normandy, and King Ethelred II of England. Because of this, Ethelred fled to Normandy in 1013, when he was forced from his kingdom by Sweyn Forkbeard. His stay in Normandy (until 1016) influenced him and his sons by Emma, who stayed in Normandy after Cnut the Great's conquest of the isle.' metadata={'start_index': 0, '_id': '703631da43a64bdfacef1091c088cc0d', '_collection_name': 'my_documents'}\n",
            "page_content='In 1066, Duke William II of Normandy conquered England killing King Harold II at the Battle of Hastings. The invading Normans and their descendants replaced the Anglo-Saxons as the ruling class of England. The nobility of England were part of a single Normans culture and many had lands on both sides of the channel. Early Norman kings of England, as Dukes of Normandy, owed homage to the King of France for their land on the continent. They considered England to be their most important holding (it brought with it the title of King—an important status symbol).' metadata={'start_index': 0, '_id': 'fd1ec0b56b0e4d3da8c96190a3bb9585', '_collection_name': 'my_documents'}\n",
            "page_content='The Normans were in contact with England from an early date. Not only were their original Viking brethren still ravaging the English coasts, they occupied most of the important ports opposite England across the English Channel. This relationship eventually produced closer ties of blood through the marriage of Emma, sister of Duke Richard II of Normandy, and King Ethelred II of England. Because of this, Ethelred fled to Normandy in 1013, when he was forced from his kingdom by Sweyn Forkbeard. His stay in Normandy (until 1016) influenced him and his sons by Emma, who stayed in Normandy after Cnut the Great's conquest of the isle.' metadata={'start_index': 0, '_id': '2ded584fdf634ccc927ab11852318fff', '_collection_name': 'my_documents'}\n",
            "page_content='In 1066, Duke William II of Normandy conquered England killing King Harold II at the Battle of Hastings. The invading Normans and their descendants replaced the Anglo-Saxons as the ruling class of England. The nobility of England were part of a single Normans culture and many had lands on both sides of the channel. Early Norman kings of England, as Dukes of Normandy, owed homage to the King of France for their land on the continent. They considered England to be their most important holding (it brought with it the title of King—an important status symbol).' metadata={'start_index': 0, '_id': '3eb84a480d544476a747d126f82ec449', '_collection_name': 'my_documents'}\n",
            "page_content='The customary law of Normandy was developed between the 10th and 13th centuries and survives today through the legal systems of Jersey and Guernsey in the Channel Islands. Norman customary law was transcribed in two customaries in Latin by two judges for use by them and their colleagues: These are the Très ancien coutumier (Very ancient customary), authored between 1200 and 1245; and the Grand coutumier de Normandie (Great customary of Normandy, originally Summa de legibus Normanniae in curia laïcali), authored between 1235 and 1245.' metadata={'start_index': 0, '_id': '7524906bd63d481bbc54bb94dbeeedb3', '_collection_name': 'my_documents'}\n",
            "page_content='The customary law of Normandy was developed between the 10th and 13th centuries and survives today through the legal systems of Jersey and Guernsey in the Channel Islands. Norman customary law was transcribed in two customaries in Latin by two judges for use by them and their colleagues: These are the Très ancien coutumier (Very ancient customary), authored between 1200 and 1245; and the Grand coutumier de Normandie (Great customary of Normandy, originally Summa de legibus Normanniae in curia laïcali), authored between 1235 and 1245.' metadata={'start_index': 0, '_id': 'a19b44e3f92746cfba9cd32f4eadabe2', '_collection_name': 'my_documents'}\n",
            "page_content='In the visual arts, the Normans did not have the rich and distinctive traditions of the cultures they conquered. However, in the early 11th century the dukes began a programme of church reform, encouraging the Cluniac reform of monasteries and patronising intellectual pursuits, especially the proliferation of scriptoria and the reconstitution of a compilation of lost illuminated manuscripts. The church was utilised by the dukes as a unifying force for their disparate duchy. The chief monasteries taking part in this \"renaissance\" of Norman art and scholarship were Mont-Saint-Michel, Fécamp, Jumièges, Bec, Saint-Ouen, Saint-Evroul, and Saint-Wandrille. These centres were in contact with the so-called \"Winchester school\", which channeled a pure Carolingian artistic tradition to Normandy. In the final decade of the 11th and first of the 12th century, Normandy experienced a golden age of illustrated manuscripts, but it was brief and the major scriptoria of Normandy ceased to function after the midpoint of the century.' metadata={'start_index': 0, '_id': '3f40af4bc3eb4c6aa53ba44dbd7da5ee', '_collection_name': 'my_documents'}\n",
            "page_content='In the visual arts, the Normans did not have the rich and distinctive traditions of the cultures they conquered. However, in the early 11th century the dukes began a programme of church reform, encouraging the Cluniac reform of monasteries and patronising intellectual pursuits, especially the proliferation of scriptoria and the reconstitution of a compilation of lost illuminated manuscripts. The church was utilised by the dukes as a unifying force for their disparate duchy. The chief monasteries taking part in this \"renaissance\" of Norman art and scholarship were Mont-Saint-Michel, Fécamp, Jumièges, Bec, Saint-Ouen, Saint-Evroul, and Saint-Wandrille. These centres were in contact with the so-called \"Winchester school\", which channeled a pure Carolingian artistic tradition to Normandy. In the final decade of the 11th and first of the 12th century, Normandy experienced a golden age of illustrated manuscripts, but it was brief and the major scriptoria of Normandy ceased to function after the midpoint of the century.' metadata={'start_index': 0, '_id': '3292a090496a483dae039bd29a0abf98', '_collection_name': 'my_documents'}\n",
            "page_content='In the course of the 10th century, the initially destructive incursions of Norse war bands into the rivers of France evolved into more permanent encampments that included local women and personal property. The Duchy of Normandy, which began in 911 as a fiefdom, was established by the treaty of Saint-Clair-sur-Epte between King Charles III of West Francia and the famed Viking ruler Rollo, and was situated in the former Frankish kingdom of Neustria. The treaty offered Rollo and his men the French lands between the river Epte and the Atlantic coast in exchange for their protection against further Viking incursions. The area corresponded to the northern part of present-day Upper Normandy down to the river Seine, but the Duchy would eventually extend west beyond the Seine. The territory was roughly equivalent to the old province of Rouen, and reproduced the Roman administrative structure of Gallia Lugdunensis II (part of the former Gallia Lugdunensis).' metadata={'start_index': 0, '_id': 'c0a0c4f8a49c440e9f53b56eff2660dc', '_collection_name': 'my_documents'}\n",
            "page_content='In the course of the 10th century, the initially destructive incursions of Norse war bands into the rivers of France evolved into more permanent encampments that included local women and personal property. The Duchy of Normandy, which began in 911 as a fiefdom, was established by the treaty of Saint-Clair-sur-Epte between King Charles III of West Francia and the famed Viking ruler Rollo, and was situated in the former Frankish kingdom of Neustria. The treaty offered Rollo and his men the French lands between the river Epte and the Atlantic coast in exchange for their protection against further Viking incursions. The area corresponded to the northern part of present-day Upper Normandy down to the river Seine, but the Duchy would eventually extend west beyond the Seine. The territory was roughly equivalent to the old province of Rouen, and reproduced the Roman administrative structure of Gallia Lugdunensis II (part of the former Gallia Lugdunensis).' metadata={'start_index': 0, '_id': '9584fd1bf1af4adf93a372d948c5572a', '_collection_name': 'my_documents'}\n",
            "page_content='Soon after the Normans began to enter Italy, they entered the Byzantine Empire and then Armenia, fighting against the Pechenegs, the Bulgars, and especially the Seljuk Turks. Norman mercenaries were first encouraged to come to the south by the Lombards to act against the Byzantines, but they soon fought in Byzantine service in Sicily. They were prominent alongside Varangian and Lombard contingents in the Sicilian campaign of George Maniaces in 1038–40. There is debate whether the Normans in Greek service actually were from Norman Italy, and it now seems likely only a few came from there. It is also unknown how many of the \"Franks\", as the Byzantines called them, were Normans and not other Frenchmen.' metadata={'start_index': 0, '_id': 'be242af335944d609f128fa4840f78e3', '_collection_name': 'my_documents'}\n",
            "page_content='Soon after the Normans began to enter Italy, they entered the Byzantine Empire and then Armenia, fighting against the Pechenegs, the Bulgars, and especially the Seljuk Turks. Norman mercenaries were first encouraged to come to the south by the Lombards to act against the Byzantines, but they soon fought in Byzantine service in Sicily. They were prominent alongside Varangian and Lombard contingents in the Sicilian campaign of George Maniaces in 1038–40. There is debate whether the Normans in Greek service actually were from Norman Italy, and it now seems likely only a few came from there. It is also unknown how many of the \"Franks\", as the Byzantines called them, were Normans and not other Frenchmen.' metadata={'start_index': 0, '_id': '6c2d30c180e64a36ae28b67a63dca43c', '_collection_name': 'my_documents'}\n",
            "page_content='Before Rollo's arrival, its populations did not differ from Picardy or the Île-de-France, which were considered \"Frankish\". Earlier Viking settlers had begun arriving in the 880s, but were divided between colonies in the east (Roumois and Pays de Caux) around the low Seine valley and in the west in the Cotentin Peninsula, and were separated by traditional pagii, where the population remained about the same with almost no foreign settlers. Rollo's contingents who raided and ultimately settled Normandy and parts of the Atlantic coast included Danes, Norwegians, Norse–Gaels, Orkney Vikings, possibly Swedes, and Anglo-Danes from the English Danelaw under Norse control.' metadata={'start_index': 0, '_id': 'ff36658efe75484aa87a1c77c8fd3f6b', '_collection_name': 'my_documents'}\n",
            "page_content='Before Rollo's arrival, its populations did not differ from Picardy or the Île-de-France, which were considered \"Frankish\". Earlier Viking settlers had begun arriving in the 880s, but were divided between colonies in the east (Roumois and Pays de Caux) around the low Seine valley and in the west in the Cotentin Peninsula, and were separated by traditional pagii, where the population remained about the same with almost no foreign settlers. Rollo's contingents who raided and ultimately settled Normandy and parts of the Atlantic coast included Danes, Norwegians, Norse–Gaels, Orkney Vikings, possibly Swedes, and Anglo-Danes from the English Danelaw under Norse control.' metadata={'start_index': 0, '_id': 'b257097c5896461989a5477bc4bdd163', '_collection_name': 'my_documents'}\n"
          ]
        },
        {
          "output_type": "stream",
          "name": "stderr",
          "text": [
            "<ipython-input-21-3ae728c1f69b>:2: LangChainDeprecationWarning: The method `BaseRetriever.get_relevant_documents` was deprecated in langchain-core 0.1.46 and will be removed in 1.0. Use :meth:`~invoke` instead.\n",
            "  found_docs = retriever.get_relevant_documents(query)\n"
          ]
        }
      ]
    },
    {
      "cell_type": "code",
      "source": [
        "query = \"When were the Normans in Normandy?\"\n",
        "found_docs = retriever_reranked.get_relevant_documents(query)\n",
        "\n",
        "for d in found_docs:\n",
        "  print(d)"
      ],
      "metadata": {
        "colab": {
          "base_uri": "https://localhost:8080/"
        },
        "id": "dXgzsDFJ1UBE",
        "outputId": "9023b929-f541-4e58-9770-a1d041367481"
      },
      "execution_count": 22,
      "outputs": [
        {
          "output_type": "stream",
          "name": "stdout",
          "text": [
            "page_content='The Normans (Norman: Nourmands; French: Normands; Latin: Normanni) were the people who in the 10th and 11th centuries gave their name to Normandy, a region in France. They were descended from Norse (\"Norman\" comes from \"Norseman\") raiders and pirates from Denmark, Iceland and Norway who, under their leader Rollo, agreed to swear fealty to King Charles III of West Francia. Through generations of assimilation and mixing with the native Frankish and Roman-Gaulish populations, their descendants would gradually merge with the Carolingian-based cultures of West Francia. The distinct cultural and ethnic identity of the Normans emerged initially in the first half of the 10th century, and it continued to evolve over the succeeding centuries.' metadata={'start_index': 0, '_id': '651b1085c4d946c486907809189fbe87', '_collection_name': 'my_documents'}\n",
            "page_content='The Normans (Norman: Nourmands; French: Normands; Latin: Normanni) were the people who in the 10th and 11th centuries gave their name to Normandy, a region in France. They were descended from Norse (\"Norman\" comes from \"Norseman\") raiders and pirates from Denmark, Iceland and Norway who, under their leader Rollo, agreed to swear fealty to King Charles III of West Francia. Through generations of assimilation and mixing with the native Frankish and Roman-Gaulish populations, their descendants would gradually merge with the Carolingian-based cultures of West Francia. The distinct cultural and ethnic identity of the Normans emerged initially in the first half of the 10th century, and it continued to evolve over the succeeding centuries.' metadata={'start_index': 0, '_id': 'db2cc30373ec4057afbf9650a3acd512', '_collection_name': 'my_documents'}\n",
            "page_content='The Normans were in contact with England from an early date. Not only were their original Viking brethren still ravaging the English coasts, they occupied most of the important ports opposite England across the English Channel. This relationship eventually produced closer ties of blood through the marriage of Emma, sister of Duke Richard II of Normandy, and King Ethelred II of England. Because of this, Ethelred fled to Normandy in 1013, when he was forced from his kingdom by Sweyn Forkbeard. His stay in Normandy (until 1016) influenced him and his sons by Emma, who stayed in Normandy after Cnut the Great's conquest of the isle.' metadata={'start_index': 0, '_id': '703631da43a64bdfacef1091c088cc0d', '_collection_name': 'my_documents'}\n"
          ]
        }
      ]
    },
    {
      "cell_type": "markdown",
      "source": [
        "Take a subset of the dataset to evaluate the MRR of the retrievers."
      ],
      "metadata": {
        "id": "OYP-p261u4wL"
      }
    },
    {
      "cell_type": "code",
      "source": [
        "sample = ds.take(1000)"
      ],
      "metadata": {
        "id": "Aecu8lpbgGGE"
      },
      "execution_count": 23,
      "outputs": []
    },
    {
      "cell_type": "markdown",
      "source": [
        "## TODO 3: Retrieval Evaluation\n",
        "\n",
        "Calculate the MRR of the two retrievers based on the top 3 returned by each retriever.\n",
        "\n",
        "**For the vanilla retriever (no reranker), take only the top-3 to evaluate the MRR and ignore the rest.**"
      ],
      "metadata": {
        "id": "L1dVsQ58u-2V"
      }
    },
    {
      "cell_type": "code",
      "source": [
        "from tqdm import tqdm\n",
        "\n",
        "no_rerank = no_rerank_failures = 0\n",
        "limit = -1\n",
        "count = 0\n",
        "\n",
        "for row in tqdm(sample):\n",
        "    query = row[\"question\"]\n",
        "    # answer = row[\"answers\"][\"text\"]\n",
        "    context = row[\"context\"]\n",
        "\n",
        "    res_mmr = retriever.invoke(query)\n",
        "    found = False\n",
        "    for i in range(3):\n",
        "        doc_content = res_mmr[i].page_content\n",
        "        if doc_content == context:\n",
        "            no_rerank += 1/(i+1)\n",
        "            found = True\n",
        "            break\n",
        "    if not found:\n",
        "        print(f\"Query {count}: Failed to find relevant doc in top 3 results\")\n",
        "        no_rerank_failures += 1\n",
        "\n",
        "    count += 1\n",
        "    if limit != -1 and count == limit:\n",
        "        break"
      ],
      "metadata": {
        "id": "24_GCz6HT4cq",
        "colab": {
          "base_uri": "https://localhost:8080/"
        },
        "outputId": "aced8404-8c76-45c0-a10b-4d7a270b0ee5"
      },
      "execution_count": 63,
      "outputs": [
        {
          "output_type": "stream",
          "name": "stderr",
          "text": [
            "  1%|          | 8/1000 [00:00<01:49,  9.02it/s]"
          ]
        },
        {
          "output_type": "stream",
          "name": "stdout",
          "text": [
            "Query 6: Failed to find relevant doc in top 3 results\n"
          ]
        },
        {
          "output_type": "stream",
          "name": "stderr",
          "text": [
            "  2%|▏         | 16/1000 [00:01<01:51,  8.84it/s]"
          ]
        },
        {
          "output_type": "stream",
          "name": "stdout",
          "text": [
            "Query 14: Failed to find relevant doc in top 3 results\n",
            "Query 15: Failed to find relevant doc in top 3 results\n"
          ]
        },
        {
          "output_type": "stream",
          "name": "stderr",
          "text": [
            "  3%|▎         | 34/1000 [00:03<01:43,  9.33it/s]"
          ]
        },
        {
          "output_type": "stream",
          "name": "stdout",
          "text": [
            "Query 32: Failed to find relevant doc in top 3 results\n"
          ]
        },
        {
          "output_type": "stream",
          "name": "stderr",
          "text": [
            "  6%|▌         | 57/1000 [00:06<01:37,  9.64it/s]"
          ]
        },
        {
          "output_type": "stream",
          "name": "stdout",
          "text": [
            "Query 56: Failed to find relevant doc in top 3 results\n"
          ]
        },
        {
          "output_type": "stream",
          "name": "stderr",
          "text": [
            "  6%|▋         | 63/1000 [00:07<01:38,  9.47it/s]"
          ]
        },
        {
          "output_type": "stream",
          "name": "stdout",
          "text": [
            "Query 61: Failed to find relevant doc in top 3 results\n"
          ]
        },
        {
          "output_type": "stream",
          "name": "stderr",
          "text": [
            "  7%|▋         | 70/1000 [00:07<01:41,  9.14it/s]"
          ]
        },
        {
          "output_type": "stream",
          "name": "stdout",
          "text": [
            "Query 68: Failed to find relevant doc in top 3 results\n"
          ]
        },
        {
          "output_type": "stream",
          "name": "stderr",
          "text": [
            "  7%|▋         | 74/1000 [00:08<01:48,  8.56it/s]"
          ]
        },
        {
          "output_type": "stream",
          "name": "stdout",
          "text": [
            "Query 72: Failed to find relevant doc in top 3 results\n"
          ]
        },
        {
          "output_type": "stream",
          "name": "stderr",
          "text": [
            " 10%|█         | 102/1000 [00:12<02:16,  6.57it/s]"
          ]
        },
        {
          "output_type": "stream",
          "name": "stdout",
          "text": [
            "Query 100: Failed to find relevant doc in top 3 results\n"
          ]
        },
        {
          "output_type": "stream",
          "name": "stderr",
          "text": [
            " 11%|█         | 112/1000 [00:13<01:43,  8.58it/s]"
          ]
        },
        {
          "output_type": "stream",
          "name": "stdout",
          "text": [
            "Query 110: Failed to find relevant doc in top 3 results\n"
          ]
        },
        {
          "output_type": "stream",
          "name": "stderr",
          "text": [
            " 12%|█▏        | 115/1000 [00:13<01:39,  8.89it/s]"
          ]
        },
        {
          "output_type": "stream",
          "name": "stdout",
          "text": [
            "Query 113: Failed to find relevant doc in top 3 results\n"
          ]
        },
        {
          "output_type": "stream",
          "name": "stderr",
          "text": [
            " 14%|█▎        | 137/1000 [00:16<01:42,  8.41it/s]"
          ]
        },
        {
          "output_type": "stream",
          "name": "stdout",
          "text": [
            "Query 135: Failed to find relevant doc in top 3 results\n"
          ]
        },
        {
          "output_type": "stream",
          "name": "stderr",
          "text": [
            " 14%|█▍        | 139/1000 [00:16<01:40,  8.55it/s]"
          ]
        },
        {
          "output_type": "stream",
          "name": "stdout",
          "text": [
            "Query 137: Failed to find relevant doc in top 3 results\n"
          ]
        },
        {
          "output_type": "stream",
          "name": "stderr",
          "text": [
            " 15%|█▌        | 154/1000 [00:18<01:35,  8.89it/s]"
          ]
        },
        {
          "output_type": "stream",
          "name": "stdout",
          "text": [
            "Query 152: Failed to find relevant doc in top 3 results\n"
          ]
        },
        {
          "output_type": "stream",
          "name": "stderr",
          "text": [
            " 16%|█▌        | 158/1000 [00:18<01:34,  8.94it/s]"
          ]
        },
        {
          "output_type": "stream",
          "name": "stdout",
          "text": [
            "Query 156: Failed to find relevant doc in top 3 results\n"
          ]
        },
        {
          "output_type": "stream",
          "name": "stderr",
          "text": [
            " 16%|█▋        | 165/1000 [00:19<01:33,  8.93it/s]"
          ]
        },
        {
          "output_type": "stream",
          "name": "stdout",
          "text": [
            "Query 163: Failed to find relevant doc in top 3 results\n"
          ]
        },
        {
          "output_type": "stream",
          "name": "stderr",
          "text": [
            " 17%|█▋        | 172/1000 [00:20<01:32,  8.93it/s]"
          ]
        },
        {
          "output_type": "stream",
          "name": "stdout",
          "text": [
            "Query 170: Failed to find relevant doc in top 3 results\n"
          ]
        },
        {
          "output_type": "stream",
          "name": "stderr",
          "text": [
            " 19%|█▊        | 187/1000 [00:21<01:36,  8.40it/s]"
          ]
        },
        {
          "output_type": "stream",
          "name": "stdout",
          "text": [
            "Query 185: Failed to find relevant doc in top 3 results\n"
          ]
        },
        {
          "output_type": "stream",
          "name": "stderr",
          "text": [
            " 19%|█▉        | 190/1000 [00:22<01:41,  7.97it/s]"
          ]
        },
        {
          "output_type": "stream",
          "name": "stdout",
          "text": [
            "Query 188: Failed to find relevant doc in top 3 results\n",
            "Query 189: Failed to find relevant doc in top 3 results\n"
          ]
        },
        {
          "output_type": "stream",
          "name": "stderr",
          "text": [
            " 20%|██        | 203/1000 [00:24<02:19,  5.73it/s]"
          ]
        },
        {
          "output_type": "stream",
          "name": "stdout",
          "text": [
            "Query 202: Failed to find relevant doc in top 3 results\n"
          ]
        },
        {
          "output_type": "stream",
          "name": "stderr",
          "text": [
            " 25%|██▍       | 249/1000 [00:30<01:41,  7.38it/s]"
          ]
        },
        {
          "output_type": "stream",
          "name": "stdout",
          "text": [
            "Query 247: Failed to find relevant doc in top 3 results\n"
          ]
        },
        {
          "output_type": "stream",
          "name": "stderr",
          "text": [
            " 26%|██▋       | 264/1000 [00:32<01:36,  7.63it/s]"
          ]
        },
        {
          "output_type": "stream",
          "name": "stdout",
          "text": [
            "Query 262: Failed to find relevant doc in top 3 results\n"
          ]
        },
        {
          "output_type": "stream",
          "name": "stderr",
          "text": [
            " 27%|██▋       | 269/1000 [00:33<01:32,  7.87it/s]"
          ]
        },
        {
          "output_type": "stream",
          "name": "stdout",
          "text": [
            "Query 267: Failed to find relevant doc in top 3 results\n"
          ]
        },
        {
          "output_type": "stream",
          "name": "stderr",
          "text": [
            " 30%|███       | 302/1000 [00:39<02:02,  5.71it/s]"
          ]
        },
        {
          "output_type": "stream",
          "name": "stdout",
          "text": [
            "Query 300: Failed to find relevant doc in top 3 results\n"
          ]
        },
        {
          "output_type": "stream",
          "name": "stderr",
          "text": [
            " 32%|███▏      | 315/1000 [00:42<01:35,  7.19it/s]"
          ]
        },
        {
          "output_type": "stream",
          "name": "stdout",
          "text": [
            "Query 313: Failed to find relevant doc in top 3 results\n"
          ]
        },
        {
          "output_type": "stream",
          "name": "stderr",
          "text": [
            " 32%|███▏      | 324/1000 [00:43<01:17,  8.71it/s]"
          ]
        },
        {
          "output_type": "stream",
          "name": "stdout",
          "text": [
            "Query 322: Failed to find relevant doc in top 3 results\n"
          ]
        },
        {
          "output_type": "stream",
          "name": "stderr",
          "text": [
            " 38%|███▊      | 379/1000 [00:51<01:13,  8.44it/s]"
          ]
        },
        {
          "output_type": "stream",
          "name": "stdout",
          "text": [
            "Query 377: Failed to find relevant doc in top 3 results\n"
          ]
        },
        {
          "output_type": "stream",
          "name": "stderr",
          "text": [
            " 38%|███▊      | 383/1000 [00:52<01:15,  8.16it/s]"
          ]
        },
        {
          "output_type": "stream",
          "name": "stdout",
          "text": [
            "Query 381: Failed to find relevant doc in top 3 results\n"
          ]
        },
        {
          "output_type": "stream",
          "name": "stderr",
          "text": [
            " 43%|████▎     | 433/1000 [00:58<01:11,  7.93it/s]"
          ]
        },
        {
          "output_type": "stream",
          "name": "stdout",
          "text": [
            "Query 431: Failed to find relevant doc in top 3 results\n"
          ]
        },
        {
          "output_type": "stream",
          "name": "stderr",
          "text": [
            " 47%|████▋     | 467/1000 [01:03<01:06,  7.97it/s]"
          ]
        },
        {
          "output_type": "stream",
          "name": "stdout",
          "text": [
            "Query 465: Failed to find relevant doc in top 3 results\n"
          ]
        },
        {
          "output_type": "stream",
          "name": "stderr",
          "text": [
            " 48%|████▊     | 482/1000 [01:05<01:02,  8.28it/s]"
          ]
        },
        {
          "output_type": "stream",
          "name": "stdout",
          "text": [
            "Query 480: Failed to find relevant doc in top 3 results\n"
          ]
        },
        {
          "output_type": "stream",
          "name": "stderr",
          "text": [
            " 50%|█████     | 505/1000 [01:07<01:01,  8.11it/s]"
          ]
        },
        {
          "output_type": "stream",
          "name": "stdout",
          "text": [
            "Query 503: Failed to find relevant doc in top 3 results\n"
          ]
        },
        {
          "output_type": "stream",
          "name": "stderr",
          "text": [
            " 52%|█████▏    | 520/1000 [01:09<01:02,  7.68it/s]"
          ]
        },
        {
          "output_type": "stream",
          "name": "stdout",
          "text": [
            "Query 518: Failed to find relevant doc in top 3 results\n"
          ]
        },
        {
          "output_type": "stream",
          "name": "stderr",
          "text": [
            " 53%|█████▎    | 530/1000 [01:11<00:59,  7.93it/s]"
          ]
        },
        {
          "output_type": "stream",
          "name": "stdout",
          "text": [
            "Query 528: Failed to find relevant doc in top 3 results\n"
          ]
        },
        {
          "output_type": "stream",
          "name": "stderr",
          "text": [
            " 54%|█████▍    | 540/1000 [01:12<00:57,  7.96it/s]"
          ]
        },
        {
          "output_type": "stream",
          "name": "stdout",
          "text": [
            "Query 538: Failed to find relevant doc in top 3 results\n"
          ]
        },
        {
          "output_type": "stream",
          "name": "stderr",
          "text": [
            " 55%|█████▍    | 545/1000 [01:13<01:04,  7.00it/s]"
          ]
        },
        {
          "output_type": "stream",
          "name": "stdout",
          "text": [
            "Query 544: Failed to find relevant doc in top 3 results\n"
          ]
        },
        {
          "output_type": "stream",
          "name": "stderr",
          "text": [
            " 56%|█████▌    | 555/1000 [01:15<01:21,  5.45it/s]"
          ]
        },
        {
          "output_type": "stream",
          "name": "stdout",
          "text": [
            "Query 553: Failed to find relevant doc in top 3 results\n",
            "Query 554: Failed to find relevant doc in top 3 results\n"
          ]
        },
        {
          "output_type": "stream",
          "name": "stderr",
          "text": [
            " 58%|█████▊    | 583/1000 [01:18<00:52,  7.89it/s]"
          ]
        },
        {
          "output_type": "stream",
          "name": "stdout",
          "text": [
            "Query 581: Failed to find relevant doc in top 3 results\n"
          ]
        },
        {
          "output_type": "stream",
          "name": "stderr",
          "text": [
            " 59%|█████▉    | 591/1000 [01:19<00:50,  8.18it/s]"
          ]
        },
        {
          "output_type": "stream",
          "name": "stdout",
          "text": [
            "Query 589: Failed to find relevant doc in top 3 results\n"
          ]
        },
        {
          "output_type": "stream",
          "name": "stderr",
          "text": [
            " 63%|██████▎   | 632/1000 [01:24<00:43,  8.39it/s]"
          ]
        },
        {
          "output_type": "stream",
          "name": "stdout",
          "text": [
            "Query 630: Failed to find relevant doc in top 3 results\n"
          ]
        },
        {
          "output_type": "stream",
          "name": "stderr",
          "text": [
            " 64%|██████▍   | 644/1000 [01:26<00:59,  6.00it/s]"
          ]
        },
        {
          "output_type": "stream",
          "name": "stdout",
          "text": [
            "Query 642: Failed to find relevant doc in top 3 results\n"
          ]
        },
        {
          "output_type": "stream",
          "name": "stderr",
          "text": [
            " 65%|██████▌   | 650/1000 [01:27<01:00,  5.77it/s]"
          ]
        },
        {
          "output_type": "stream",
          "name": "stdout",
          "text": [
            "Query 648: Failed to find relevant doc in top 3 results\n"
          ]
        },
        {
          "output_type": "stream",
          "name": "stderr",
          "text": [
            " 65%|██████▌   | 652/1000 [01:27<01:03,  5.47it/s]"
          ]
        },
        {
          "output_type": "stream",
          "name": "stdout",
          "text": [
            "Query 650: Failed to find relevant doc in top 3 results\n",
            "Query 651: Failed to find relevant doc in top 3 results\n"
          ]
        },
        {
          "output_type": "stream",
          "name": "stderr",
          "text": [
            " 67%|██████▋   | 674/1000 [01:30<00:34,  9.44it/s]"
          ]
        },
        {
          "output_type": "stream",
          "name": "stdout",
          "text": [
            "Query 671: Failed to find relevant doc in top 3 results\n"
          ]
        },
        {
          "output_type": "stream",
          "name": "stderr",
          "text": [
            " 68%|██████▊   | 678/1000 [01:30<00:36,  8.82it/s]"
          ]
        },
        {
          "output_type": "stream",
          "name": "stdout",
          "text": [
            "Query 676: Failed to find relevant doc in top 3 results\n"
          ]
        },
        {
          "output_type": "stream",
          "name": "stderr",
          "text": [
            " 72%|███████▏  | 715/1000 [01:34<00:31,  8.99it/s]"
          ]
        },
        {
          "output_type": "stream",
          "name": "stdout",
          "text": [
            "Query 713: Failed to find relevant doc in top 3 results\n"
          ]
        },
        {
          "output_type": "stream",
          "name": "stderr",
          "text": [
            " 72%|███████▏  | 720/1000 [01:35<00:30,  9.12it/s]"
          ]
        },
        {
          "output_type": "stream",
          "name": "stdout",
          "text": [
            "Query 718: Failed to find relevant doc in top 3 results\n"
          ]
        },
        {
          "output_type": "stream",
          "name": "stderr",
          "text": [
            " 72%|███████▏  | 722/1000 [01:35<00:31,  8.80it/s]"
          ]
        },
        {
          "output_type": "stream",
          "name": "stdout",
          "text": [
            "Query 720: Failed to find relevant doc in top 3 results\n"
          ]
        },
        {
          "output_type": "stream",
          "name": "stderr",
          "text": [
            " 73%|███████▎  | 727/1000 [01:36<00:27,  9.84it/s]"
          ]
        },
        {
          "output_type": "stream",
          "name": "stdout",
          "text": [
            "Query 725: Failed to find relevant doc in top 3 results\n"
          ]
        },
        {
          "output_type": "stream",
          "name": "stderr",
          "text": [
            " 76%|███████▌  | 761/1000 [01:40<00:28,  8.32it/s]"
          ]
        },
        {
          "output_type": "stream",
          "name": "stdout",
          "text": [
            "Query 759: Failed to find relevant doc in top 3 results\n"
          ]
        },
        {
          "output_type": "stream",
          "name": "stderr",
          "text": [
            " 77%|███████▋  | 767/1000 [01:41<00:27,  8.46it/s]"
          ]
        },
        {
          "output_type": "stream",
          "name": "stdout",
          "text": [
            "Query 765: Failed to find relevant doc in top 3 results\n"
          ]
        },
        {
          "output_type": "stream",
          "name": "stderr",
          "text": [
            " 77%|███████▋  | 769/1000 [01:41<00:28,  8.13it/s]"
          ]
        },
        {
          "output_type": "stream",
          "name": "stdout",
          "text": [
            "Query 767: Failed to find relevant doc in top 3 results\n"
          ]
        },
        {
          "output_type": "stream",
          "name": "stderr",
          "text": [
            " 78%|███████▊  | 778/1000 [01:43<00:27,  8.06it/s]"
          ]
        },
        {
          "output_type": "stream",
          "name": "stdout",
          "text": [
            "Query 776: Failed to find relevant doc in top 3 results\n"
          ]
        },
        {
          "output_type": "stream",
          "name": "stderr",
          "text": [
            " 80%|███████▉  | 799/1000 [01:45<00:26,  7.62it/s]"
          ]
        },
        {
          "output_type": "stream",
          "name": "stdout",
          "text": [
            "Query 797: Failed to find relevant doc in top 3 results\n"
          ]
        },
        {
          "output_type": "stream",
          "name": "stderr",
          "text": [
            " 81%|████████  | 811/1000 [01:47<00:22,  8.27it/s]"
          ]
        },
        {
          "output_type": "stream",
          "name": "stdout",
          "text": [
            "Query 809: Failed to find relevant doc in top 3 results\n"
          ]
        },
        {
          "output_type": "stream",
          "name": "stderr",
          "text": [
            " 82%|████████▏ | 816/1000 [01:47<00:23,  7.81it/s]"
          ]
        },
        {
          "output_type": "stream",
          "name": "stdout",
          "text": [
            "Query 814: Failed to find relevant doc in top 3 results\n"
          ]
        },
        {
          "output_type": "stream",
          "name": "stderr",
          "text": [
            " 84%|████████▍ | 842/1000 [01:51<00:27,  5.84it/s]"
          ]
        },
        {
          "output_type": "stream",
          "name": "stdout",
          "text": [
            "Query 840: Failed to find relevant doc in top 3 results\n"
          ]
        },
        {
          "output_type": "stream",
          "name": "stderr",
          "text": [
            " 85%|████████▍ | 846/1000 [01:52<00:29,  5.29it/s]"
          ]
        },
        {
          "output_type": "stream",
          "name": "stdout",
          "text": [
            "Query 844: Failed to find relevant doc in top 3 results\n",
            "Query 845: Failed to find relevant doc in top 3 results\n"
          ]
        },
        {
          "output_type": "stream",
          "name": "stderr",
          "text": [
            " 86%|████████▌ | 859/1000 [01:53<00:17,  8.18it/s]"
          ]
        },
        {
          "output_type": "stream",
          "name": "stdout",
          "text": [
            "Query 857: Failed to find relevant doc in top 3 results\n"
          ]
        },
        {
          "output_type": "stream",
          "name": "stderr",
          "text": [
            " 91%|█████████ | 907/1000 [01:59<00:10,  8.65it/s]"
          ]
        },
        {
          "output_type": "stream",
          "name": "stdout",
          "text": [
            "Query 905: Failed to find relevant doc in top 3 results\n"
          ]
        },
        {
          "output_type": "stream",
          "name": "stderr",
          "text": [
            " 94%|█████████▍| 944/1000 [02:04<00:10,  5.56it/s]"
          ]
        },
        {
          "output_type": "stream",
          "name": "stdout",
          "text": [
            "Query 942: Failed to find relevant doc in top 3 results\n",
            "Query 943: Failed to find relevant doc in top 3 results\n"
          ]
        },
        {
          "output_type": "stream",
          "name": "stderr",
          "text": [
            " 97%|█████████▋| 968/1000 [02:07<00:03,  8.28it/s]"
          ]
        },
        {
          "output_type": "stream",
          "name": "stdout",
          "text": [
            "Query 966: Failed to find relevant doc in top 3 results\n"
          ]
        },
        {
          "output_type": "stream",
          "name": "stderr",
          "text": [
            " 99%|█████████▊| 986/1000 [02:09<00:01,  7.95it/s]"
          ]
        },
        {
          "output_type": "stream",
          "name": "stdout",
          "text": [
            "Query 984: Failed to find relevant doc in top 3 results\n"
          ]
        },
        {
          "output_type": "stream",
          "name": "stderr",
          "text": [
            "100%|██████████| 1000/1000 [02:11<00:00,  7.60it/s]\n"
          ]
        }
      ]
    },
    {
      "cell_type": "code",
      "source": [
        "rerank = rerank_failures = 0\n",
        "limit = -1\n",
        "count = 0\n",
        "\n",
        "for row in tqdm(sample):\n",
        "    query = row[\"question\"]\n",
        "    # answer = row[\"answers\"][\"text\"]\n",
        "    context = row[\"context\"]\n",
        "\n",
        "    res_mmr = retriever_reranked.invoke(query)\n",
        "    found = False\n",
        "    for i in range(3):\n",
        "        doc_content = res_mmr[i].page_content\n",
        "        if doc_content == context:\n",
        "            rerank += 1/(i+1)\n",
        "            found = True\n",
        "            break\n",
        "    if not found:\n",
        "        print(f\"Query {count}: Failed to find relevant doc in top 3 results\")\n",
        "        rerank_failures += 1\n",
        "\n",
        "    count += 1\n",
        "    if limit != -1 and count == limit:\n",
        "        break"
      ],
      "metadata": {
        "colab": {
          "base_uri": "https://localhost:8080/"
        },
        "id": "VQAaCyhV39Io",
        "outputId": "ac19fa55-db6e-4ee6-fa86-7098d0989799"
      },
      "execution_count": 94,
      "outputs": [
        {
          "output_type": "stream",
          "name": "stderr",
          "text": [
            "  2%|▏         | 16/1000 [00:10<10:03,  1.63it/s]"
          ]
        },
        {
          "output_type": "stream",
          "name": "stdout",
          "text": [
            "Query 15: Failed to find relevant doc in top 3 results\n"
          ]
        },
        {
          "output_type": "stream",
          "name": "stderr",
          "text": [
            "  6%|▌         | 62/1000 [00:39<10:16,  1.52it/s]"
          ]
        },
        {
          "output_type": "stream",
          "name": "stdout",
          "text": [
            "Query 61: Failed to find relevant doc in top 3 results\n"
          ]
        },
        {
          "output_type": "stream",
          "name": "stderr",
          "text": [
            " 10%|█         | 101/1000 [01:05<09:36,  1.56it/s]"
          ]
        },
        {
          "output_type": "stream",
          "name": "stdout",
          "text": [
            "Query 100: Failed to find relevant doc in top 3 results\n"
          ]
        },
        {
          "output_type": "stream",
          "name": "stderr",
          "text": [
            " 11%|█         | 111/1000 [01:12<10:18,  1.44it/s]"
          ]
        },
        {
          "output_type": "stream",
          "name": "stdout",
          "text": [
            "Query 110: Failed to find relevant doc in top 3 results\n"
          ]
        },
        {
          "output_type": "stream",
          "name": "stderr",
          "text": [
            " 14%|█▍        | 138/1000 [01:29<09:51,  1.46it/s]"
          ]
        },
        {
          "output_type": "stream",
          "name": "stdout",
          "text": [
            "Query 137: Failed to find relevant doc in top 3 results\n"
          ]
        },
        {
          "output_type": "stream",
          "name": "stderr",
          "text": [
            " 16%|█▌        | 157/1000 [01:43<10:33,  1.33it/s]"
          ]
        },
        {
          "output_type": "stream",
          "name": "stdout",
          "text": [
            "Query 156: Failed to find relevant doc in top 3 results\n"
          ]
        },
        {
          "output_type": "stream",
          "name": "stderr",
          "text": [
            " 16%|█▌        | 162/1000 [01:46<10:09,  1.37it/s]"
          ]
        },
        {
          "output_type": "stream",
          "name": "stdout",
          "text": [
            "Query 161: Failed to find relevant doc in top 3 results\n"
          ]
        },
        {
          "output_type": "stream",
          "name": "stderr",
          "text": [
            " 17%|█▋        | 171/1000 [01:53<09:45,  1.42it/s]"
          ]
        },
        {
          "output_type": "stream",
          "name": "stdout",
          "text": [
            "Query 170: Failed to find relevant doc in top 3 results\n"
          ]
        },
        {
          "output_type": "stream",
          "name": "stderr",
          "text": [
            " 19%|█▊        | 186/1000 [02:03<09:02,  1.50it/s]"
          ]
        },
        {
          "output_type": "stream",
          "name": "stdout",
          "text": [
            "Query 185: Failed to find relevant doc in top 3 results\n"
          ]
        },
        {
          "output_type": "stream",
          "name": "stderr",
          "text": [
            " 24%|██▍       | 245/1000 [02:41<08:31,  1.48it/s]"
          ]
        },
        {
          "output_type": "stream",
          "name": "stdout",
          "text": [
            "Query 244: Failed to find relevant doc in top 3 results\n"
          ]
        },
        {
          "output_type": "stream",
          "name": "stderr",
          "text": [
            " 25%|██▍       | 248/1000 [02:43<07:43,  1.62it/s]"
          ]
        },
        {
          "output_type": "stream",
          "name": "stdout",
          "text": [
            "Query 247: Failed to find relevant doc in top 3 results\n"
          ]
        },
        {
          "output_type": "stream",
          "name": "stderr",
          "text": [
            " 36%|███▌      | 360/1000 [03:50<06:11,  1.72it/s]"
          ]
        },
        {
          "output_type": "stream",
          "name": "stdout",
          "text": [
            "Query 359: Failed to find relevant doc in top 3 results\n"
          ]
        },
        {
          "output_type": "stream",
          "name": "stderr",
          "text": [
            " 36%|███▋      | 364/1000 [03:52<06:39,  1.59it/s]"
          ]
        },
        {
          "output_type": "stream",
          "name": "stdout",
          "text": [
            "Query 363: Failed to find relevant doc in top 3 results\n"
          ]
        },
        {
          "output_type": "stream",
          "name": "stderr",
          "text": [
            " 38%|███▊      | 378/1000 [04:01<05:54,  1.75it/s]"
          ]
        },
        {
          "output_type": "stream",
          "name": "stdout",
          "text": [
            "Query 377: Failed to find relevant doc in top 3 results\n"
          ]
        },
        {
          "output_type": "stream",
          "name": "stderr",
          "text": [
            " 38%|███▊      | 382/1000 [04:03<05:27,  1.89it/s]"
          ]
        },
        {
          "output_type": "stream",
          "name": "stdout",
          "text": [
            "Query 381: Failed to find relevant doc in top 3 results\n"
          ]
        },
        {
          "output_type": "stream",
          "name": "stderr",
          "text": [
            " 41%|████      | 411/1000 [04:21<05:29,  1.79it/s]"
          ]
        },
        {
          "output_type": "stream",
          "name": "stdout",
          "text": [
            "Query 410: Failed to find relevant doc in top 3 results\n"
          ]
        },
        {
          "output_type": "stream",
          "name": "stderr",
          "text": [
            " 42%|████▏     | 415/1000 [04:24<05:27,  1.79it/s]"
          ]
        },
        {
          "output_type": "stream",
          "name": "stdout",
          "text": [
            "Query 414: Failed to find relevant doc in top 3 results\n"
          ]
        },
        {
          "output_type": "stream",
          "name": "stderr",
          "text": [
            " 48%|████▊     | 481/1000 [05:03<05:09,  1.68it/s]"
          ]
        },
        {
          "output_type": "stream",
          "name": "stdout",
          "text": [
            "Query 480: Failed to find relevant doc in top 3 results\n"
          ]
        },
        {
          "output_type": "stream",
          "name": "stderr",
          "text": [
            " 51%|█████     | 511/1000 [05:22<05:48,  1.40it/s]"
          ]
        },
        {
          "output_type": "stream",
          "name": "stdout",
          "text": [
            "Query 510: Failed to find relevant doc in top 3 results\n"
          ]
        },
        {
          "output_type": "stream",
          "name": "stderr",
          "text": [
            " 60%|██████    | 600/1000 [06:16<04:27,  1.49it/s]"
          ]
        },
        {
          "output_type": "stream",
          "name": "stdout",
          "text": [
            "Query 599: Failed to find relevant doc in top 3 results\n"
          ]
        },
        {
          "output_type": "stream",
          "name": "stderr",
          "text": [
            " 63%|██████▎   | 631/1000 [06:34<03:14,  1.90it/s]"
          ]
        },
        {
          "output_type": "stream",
          "name": "stdout",
          "text": [
            "Query 630: Failed to find relevant doc in top 3 results\n"
          ]
        },
        {
          "output_type": "stream",
          "name": "stderr",
          "text": [
            " 65%|██████▍   | 649/1000 [06:46<03:59,  1.46it/s]"
          ]
        },
        {
          "output_type": "stream",
          "name": "stdout",
          "text": [
            "Query 648: Failed to find relevant doc in top 3 results\n"
          ]
        },
        {
          "output_type": "stream",
          "name": "stderr",
          "text": [
            "\r 65%|██████▌   | 650/1000 [06:47<04:01,  1.45it/s]"
          ]
        },
        {
          "output_type": "stream",
          "name": "stdout",
          "text": [
            "Query 649: Failed to find relevant doc in top 3 results\n"
          ]
        },
        {
          "output_type": "stream",
          "name": "stderr",
          "text": [
            "\r 65%|██████▌   | 651/1000 [06:47<03:51,  1.51it/s]"
          ]
        },
        {
          "output_type": "stream",
          "name": "stdout",
          "text": [
            "Query 650: Failed to find relevant doc in top 3 results\n"
          ]
        },
        {
          "output_type": "stream",
          "name": "stderr",
          "text": [
            " 67%|██████▋   | 669/1000 [06:59<03:25,  1.61it/s]"
          ]
        },
        {
          "output_type": "stream",
          "name": "stdout",
          "text": [
            "Query 668: Failed to find relevant doc in top 3 results\n"
          ]
        },
        {
          "output_type": "stream",
          "name": "stderr",
          "text": [
            " 67%|██████▋   | 672/1000 [07:01<03:40,  1.49it/s]"
          ]
        },
        {
          "output_type": "stream",
          "name": "stdout",
          "text": [
            "Query 671: Failed to find relevant doc in top 3 results\n"
          ]
        },
        {
          "output_type": "stream",
          "name": "stderr",
          "text": [
            " 72%|███████▏  | 719/1000 [07:30<03:04,  1.52it/s]"
          ]
        },
        {
          "output_type": "stream",
          "name": "stdout",
          "text": [
            "Query 718: Failed to find relevant doc in top 3 results\n"
          ]
        },
        {
          "output_type": "stream",
          "name": "stderr",
          "text": [
            " 73%|███████▎  | 726/1000 [07:35<03:01,  1.51it/s]"
          ]
        },
        {
          "output_type": "stream",
          "name": "stdout",
          "text": [
            "Query 725: Failed to find relevant doc in top 3 results\n"
          ]
        },
        {
          "output_type": "stream",
          "name": "stderr",
          "text": [
            " 78%|███████▊  | 777/1000 [08:07<02:11,  1.69it/s]"
          ]
        },
        {
          "output_type": "stream",
          "name": "stdout",
          "text": [
            "Query 776: Failed to find relevant doc in top 3 results\n"
          ]
        },
        {
          "output_type": "stream",
          "name": "stderr",
          "text": [
            " 84%|████████▍ | 841/1000 [08:46<01:34,  1.69it/s]"
          ]
        },
        {
          "output_type": "stream",
          "name": "stdout",
          "text": [
            "Query 840: Failed to find relevant doc in top 3 results\n"
          ]
        },
        {
          "output_type": "stream",
          "name": "stderr",
          "text": [
            " 85%|████████▍ | 846/1000 [08:49<01:42,  1.50it/s]"
          ]
        },
        {
          "output_type": "stream",
          "name": "stdout",
          "text": [
            "Query 845: Failed to find relevant doc in top 3 results\n"
          ]
        },
        {
          "output_type": "stream",
          "name": "stderr",
          "text": [
            " 86%|████████▌ | 858/1000 [08:56<01:13,  1.93it/s]"
          ]
        },
        {
          "output_type": "stream",
          "name": "stdout",
          "text": [
            "Query 857: Failed to find relevant doc in top 3 results\n"
          ]
        },
        {
          "output_type": "stream",
          "name": "stderr",
          "text": [
            " 94%|█████████▍| 944/1000 [09:46<00:34,  1.61it/s]"
          ]
        },
        {
          "output_type": "stream",
          "name": "stdout",
          "text": [
            "Query 943: Failed to find relevant doc in top 3 results\n"
          ]
        },
        {
          "output_type": "stream",
          "name": "stderr",
          "text": [
            "100%|██████████| 1000/1000 [10:20<00:00,  1.61it/s]\n"
          ]
        }
      ]
    },
    {
      "cell_type": "code",
      "source": [
        "print(f\"MRR of the retriever without a reranker: {no_rerank / len(sample):.4f}\")\n",
        "print(f\"MRR of the retriever with a reranker: {rerank / len(sample):.4f}\")\n",
        "\n",
        "print(f\"Percentage of queries with no relevant doc in top 3 (no rerank): {100 * no_rerank_failures / len(sample):.2f}%\")\n",
        "print(f\"Percentage of queries with no relevant doc in top 3 (rerank): {100 * rerank_failures / len(sample):.2f}%\")"
      ],
      "metadata": {
        "id": "gCBwMQCwgEWJ",
        "colab": {
          "base_uri": "https://localhost:8080/"
        },
        "outputId": "2ea1e7d7-9b4f-4f63-f159-83f25548b898"
      },
      "execution_count": 96,
      "outputs": [
        {
          "output_type": "stream",
          "name": "stdout",
          "text": [
            "MRR of the retriever without a reranker: 1.7870\n",
            "MRR of the retriever with a reranker: 0.9342\n",
            "Percentage of queries with no relevant doc in top 3 (no rerank): 10.10%\n",
            "Percentage of queries with no relevant doc in top 3 (rerank): 3.30%\n"
          ]
        }
      ]
    },
    {
      "cell_type": "markdown",
      "source": [
        "## Agentic RAG\n",
        "\n",
        "Feel free to use the workflow from the demo. However, you will need to modify it slightly to use the retriever with a reranker."
      ],
      "metadata": {
        "id": "UVeYhcCAscQP"
      }
    },
    {
      "cell_type": "markdown",
      "source": [
        "## TODO 4: Usage\n",
        "Run your agent twice. Once on a message that doesn't need tool-use like \"hello\" and again for a message that does."
      ],
      "metadata": {
        "id": "9Qm-4Kv9G_Ue"
      }
    },
    {
      "cell_type": "code",
      "source": [
        "from langgraph.graph import MessagesState, StateGraph\n",
        "\n",
        "graph_builder = StateGraph(MessagesState)"
      ],
      "metadata": {
        "id": "9Usr3qknVbNw"
      },
      "execution_count": 24,
      "outputs": []
    },
    {
      "cell_type": "code",
      "source": [
        "from langchain_core.tools import tool\n",
        "\n",
        "\n",
        "@tool(response_format=\"content_and_artifact\")\n",
        "def retrieve(query: str):\n",
        "    \"\"\"Retrieve information related to a query from a vector database containing information on student's handbook.\"\"\"\n",
        "    retrieved_docs = retriever_reranked.get_relevant_documents(query)\n",
        "    serialized = \"\\n\\n\".join(\n",
        "        (f\"Source: {doc.metadata}\\n\" f\"Content: {doc.page_content}\")\n",
        "        for doc in retrieved_docs\n",
        "    )\n",
        "    return serialized, retrieved_docs"
      ],
      "metadata": {
        "id": "kMk6fbqO8RXK"
      },
      "execution_count": 25,
      "outputs": []
    },
    {
      "cell_type": "code",
      "source": [
        "from langchain_core.messages import SystemMessage\n",
        "from langgraph.prebuilt import ToolNode\n",
        "\n",
        "\n",
        "# Step 1: Generate an AIMessage that may include a tool-call to be sent.\n",
        "def query_or_respond(state: MessagesState):\n",
        "    \"\"\"Generate tool call for retrieval or respond.\"\"\"\n",
        "    llm_with_tools = llm.bind_tools([retrieve])\n",
        "    response = llm_with_tools.invoke(state[\"messages\"])\n",
        "    # MessagesState appends messages to state instead of overwriting\n",
        "    return {\"messages\": [response]}\n",
        "\n",
        "\n",
        "# Step 2: Execute the retrieval.\n",
        "# The ToolNode is roughly analogous to:\n",
        "\n",
        "# tools_by_name = {tool.name: tool for tool in tools}\n",
        "# def tool_node(state: dict):\n",
        "#     result = []\n",
        "#     for tool_call in state[\"messages\"][-1].tool_calls:\n",
        "#         tool = tools_by_name[tool_call[\"name\"]]\n",
        "#         observation = tool.invoke(tool_call[\"args\"])\n",
        "#         result.append(ToolMessage(content=observation, tool_call_id=tool_call[\"id\"]))\n",
        "#     return {\"messages\": result}\n",
        "\n",
        "tools = ToolNode([retrieve])\n",
        "\n",
        "\n",
        "# Step 3: Generate a response using the retrieved content.\n",
        "def generate(state: MessagesState):\n",
        "    \"\"\"Generate answer.\"\"\"\n",
        "    # Get generated ToolMessages\n",
        "    recent_tool_messages = []\n",
        "    for message in reversed(state[\"messages\"]):\n",
        "        if message.type == \"tool\":\n",
        "            recent_tool_messages.append(message)\n",
        "        else:\n",
        "            break\n",
        "    tool_messages = recent_tool_messages[::-1]\n",
        "\n",
        "    # Format into prompt\n",
        "    docs_content = \"\\n\\n\".join(doc.content for doc in tool_messages)\n",
        "    system_message_content = (\n",
        "        \"You are an assistant for question-answering tasks. \"\n",
        "        \"Use the following pieces of retrieved context to answer \"\n",
        "        \"the question. If you don't know the answer, say that you \"\n",
        "        \"don't know. Use three sentences maximum and keep the \"\n",
        "        \"answer concise.\"\n",
        "        \"\\n\\n\"\n",
        "        f\"{docs_content}\"\n",
        "    )\n",
        "    conversation_messages = [\n",
        "        message\n",
        "        for message in state[\"messages\"]\n",
        "        if message.type in (\"human\", \"system\")\n",
        "        or (message.type == \"ai\" and not message.tool_calls)\n",
        "    ]\n",
        "    prompt = [SystemMessage(system_message_content)] + conversation_messages\n",
        "\n",
        "    # Run\n",
        "    response = llm.invoke(prompt)\n",
        "    return {\"messages\": [response]}"
      ],
      "metadata": {
        "id": "78Cr4K1s8W7l"
      },
      "execution_count": 26,
      "outputs": []
    },
    {
      "cell_type": "code",
      "source": [
        "from langgraph.graph import END\n",
        "from langgraph.prebuilt import ToolNode, tools_condition\n",
        "\n",
        "graph_builder.add_node(query_or_respond)\n",
        "graph_builder.add_node(tools)\n",
        "graph_builder.add_node(generate)\n",
        "\n",
        "graph_builder.set_entry_point(\"query_or_respond\")\n",
        "graph_builder.add_conditional_edges(\n",
        "    \"query_or_respond\",\n",
        "    tools_condition,\n",
        "    {END: END, \"tools\": \"tools\"},\n",
        ")\n",
        "graph_builder.add_edge(\"tools\", \"generate\")\n",
        "graph_builder.add_edge(\"generate\", END)\n",
        "\n",
        "graph = graph_builder.compile()"
      ],
      "metadata": {
        "id": "4CkuHXPV8ZTS"
      },
      "execution_count": 27,
      "outputs": []
    },
    {
      "cell_type": "code",
      "source": [
        "from IPython.display import Image, display\n",
        "\n",
        "display(Image(graph.get_graph().draw_mermaid_png()))"
      ],
      "metadata": {
        "colab": {
          "base_uri": "https://localhost:8080/",
          "height": 449
        },
        "id": "tq2UVmkG8a2B",
        "outputId": "d94b943c-6114-4da6-91c1-6a68b267b708"
      },
      "execution_count": 28,
      "outputs": [
        {
          "output_type": "display_data",
          "data": {
            "image/png": "[encoded data removed]",
            "text/plain": [
              "<IPython.core.display.Image object>"
            ]
          },
          "metadata": {}
        }
      ]
    },
    {
      "cell_type": "code",
      "source": [
        "from langgraph.checkpoint.memory import MemorySaver\n",
        "\n",
        "memory = MemorySaver()\n",
        "graph = graph_builder.compile(checkpointer=memory)\n",
        "\n",
        "# Specify an ID for the thread\n",
        "config = {\"configurable\": {\"thread_id\": \"abc123\"}}"
      ],
      "metadata": {
        "id": "r1OqIUOA87Tw"
      },
      "execution_count": 29,
      "outputs": []
    },
    {
      "cell_type": "code",
      "source": [
        "input_message = \"hello\"\n",
        "\n",
        "for step in graph.stream(\n",
        "    {\"messages\": [{\"role\": \"user\", \"content\": input_message}]},\n",
        "    stream_mode=\"values\",\n",
        "    config=config,\n",
        "):\n",
        "    step[\"messages\"][-1].pretty_print()"
      ],
      "metadata": {
        "colab": {
          "base_uri": "https://localhost:8080/"
        },
        "id": "5ckOwgtr88aS",
        "outputId": "4679b482-102c-4322-fec2-7b2adb8535f4"
      },
      "execution_count": 30,
      "outputs": [
        {
          "output_type": "stream",
          "name": "stdout",
          "text": [
            "================================\u001b[1m Human Message \u001b[0m=================================\n",
            "\n",
            "hello\n",
            "==================================\u001b[1m Ai Message \u001b[0m==================================\n",
            "\n",
            "Hello! How can I help you today?\n"
          ]
        }
      ]
    },
    {
      "cell_type": "code",
      "source": [
        "print('ahe9fodies')"
      ],
      "metadata": {
        "colab": {
          "base_uri": "https://localhost:8080/"
        },
        "id": "wrtWa76EAqZm",
        "outputId": "acbf9168-5b81-4ed1-e69b-f1a764eff1a9"
      },
      "execution_count": 31,
      "outputs": [
        {
          "output_type": "stream",
          "name": "stdout",
          "text": [
            "ahe9fodies\n"
          ]
        }
      ]
    },
    {
      "cell_type": "code",
      "source": [
        "input_message = \"When were the Normans in Normandy?\"\n",
        "\n",
        "for step in graph.stream(\n",
        "    {\"messages\": [{\"role\": \"user\", \"content\": input_message}]},\n",
        "    stream_mode=\"values\",\n",
        "    config=config,\n",
        "):\n",
        "    step[\"messages\"][-1].pretty_print()"
      ],
      "metadata": {
        "colab": {
          "base_uri": "https://localhost:8080/"
        },
        "id": "3TMwIQBQ9Dbn",
        "outputId": "c15e4028-f87b-4d86-9061-5cedc5ce2e88"
      },
      "execution_count": 32,
      "outputs": [
        {
          "output_type": "stream",
          "name": "stdout",
          "text": [
            "================================\u001b[1m Human Message \u001b[0m=================================\n",
            "\n",
            "When were the Normans in Normandy?\n",
            "==================================\u001b[1m Ai Message \u001b[0m==================================\n",
            "Tool Calls:\n",
            "  retrieve (cba4b994-1c23-4aa6-ba86-5ec3ac6dfda7)\n",
            " Call ID: cba4b994-1c23-4aa6-ba86-5ec3ac6dfda7\n",
            "  Args:\n",
            "    query: When were the Normans in Normandy?\n",
            "=================================\u001b[1m Tool Message \u001b[0m=================================\n",
            "Name: retrieve\n",
            "\n",
            "Source: {'start_index': 0, '_id': '651b1085c4d946c486907809189fbe87', '_collection_name': 'my_documents'}\n",
            "Content: The Normans (Norman: Nourmands; French: Normands; Latin: Normanni) were the people who in the 10th and 11th centuries gave their name to Normandy, a region in France. They were descended from Norse (\"Norman\" comes from \"Norseman\") raiders and pirates from Denmark, Iceland and Norway who, under their leader Rollo, agreed to swear fealty to King Charles III of West Francia. Through generations of assimilation and mixing with the native Frankish and Roman-Gaulish populations, their descendants would gradually merge with the Carolingian-based cultures of West Francia. The distinct cultural and ethnic identity of the Normans emerged initially in the first half of the 10th century, and it continued to evolve over the succeeding centuries.\n",
            "\n",
            "Source: {'start_index': 0, '_id': 'db2cc30373ec4057afbf9650a3acd512', '_collection_name': 'my_documents'}\n",
            "Content: The Normans (Norman: Nourmands; French: Normands; Latin: Normanni) were the people who in the 10th and 11th centuries gave their name to Normandy, a region in France. They were descended from Norse (\"Norman\" comes from \"Norseman\") raiders and pirates from Denmark, Iceland and Norway who, under their leader Rollo, agreed to swear fealty to King Charles III of West Francia. Through generations of assimilation and mixing with the native Frankish and Roman-Gaulish populations, their descendants would gradually merge with the Carolingian-based cultures of West Francia. The distinct cultural and ethnic identity of the Normans emerged initially in the first half of the 10th century, and it continued to evolve over the succeeding centuries.\n",
            "\n",
            "Source: {'start_index': 0, '_id': '703631da43a64bdfacef1091c088cc0d', '_collection_name': 'my_documents'}\n",
            "Content: The Normans were in contact with England from an early date. Not only were their original Viking brethren still ravaging the English coasts, they occupied most of the important ports opposite England across the English Channel. This relationship eventually produced closer ties of blood through the marriage of Emma, sister of Duke Richard II of Normandy, and King Ethelred II of England. Because of this, Ethelred fled to Normandy in 1013, when he was forced from his kingdom by Sweyn Forkbeard. His stay in Normandy (until 1016) influenced him and his sons by Emma, who stayed in Normandy after Cnut the Great's conquest of the isle.\n",
            "==================================\u001b[1m Ai Message \u001b[0m==================================\n",
            "\n",
            "The Normans were in Normandy in the 10th and 11th centuries. They gave their name to the region during this time. Their distinct cultural and ethnic identity emerged in the first half of the 10th century and continued to evolve.\n"
          ]
        }
      ]
    },
    {
      "cell_type": "markdown",
      "source": [
        "## TODO 5: Monitor your agent in LangSmith.\n",
        "\n",
        "If you have set up correctly, you can just visit the LangSmith website and see that your tracings are logged into your LangSmith project.\n",
        "\n",
        "Capture your screen like this and upload it to MCV."
      ],
      "metadata": {
        "id": "MV5YqQsQUt05"
      }
    },
    {
      "cell_type": "markdown",
      "source": [
        "![image.png](data:image/png;base64,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)"
      ],
      "metadata": {
        "id": "3zgSIcfsUcuW"
      }
    },
    {
      "cell_type": "markdown",
      "source": [
        "![image.png](data:image/png;base64,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)"
      ],
      "metadata": {
        "id": "3YKSQJoqBxxO"
      }
    },
    {
      "cell_type": "code",
      "source": [],
      "metadata": {
        "id": "qf-aVc-AURw8"
      },
      "execution_count": null,
      "outputs": []
    }
  ]
}